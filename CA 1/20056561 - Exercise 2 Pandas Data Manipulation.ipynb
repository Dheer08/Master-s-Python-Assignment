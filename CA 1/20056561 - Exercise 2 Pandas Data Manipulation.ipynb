{
  "cells": [
    {
      "cell_type": "markdown",
      "metadata": {
        "id": "view-in-github",
        "colab_type": "text"
      },
      "source": [
        "<a href=\"https://colab.research.google.com/github/Dheer08/Master-s-Python-Assignment/blob/main/CA%201/20056561%20-%20Exercise%202%20Pandas%20Data%20Manipulation.ipynb\" target=\"_parent\"><img src=\"https://colab.research.google.com/assets/colab-badge.svg\" alt=\"Open In Colab\"/></a>"
      ]
    },
    {
      "cell_type": "markdown",
      "id": "070c989e",
      "metadata": {
        "id": "070c989e"
      },
      "source": [
        "## Exercise 1 Python Pandas Data Manipulation\n",
        "**In this colab notebook we can look at the solution for the python assignment that is based on pandas**"
      ]
    },
    {
      "cell_type": "code",
      "source": [
        "# Since we use pandas in every question we import it at the start of the assignment\n",
        "# we use as pd - you can think it of as a short nick name for the library which we can use it as a reference\n",
        "import pandas as pd"
      ],
      "metadata": {
        "id": "izvwtF15b6wQ"
      },
      "id": "izvwtF15b6wQ",
      "execution_count": 1,
      "outputs": []
    },
    {
      "cell_type": "markdown",
      "source": [
        "1. Write a Pandas program to append a list of dictioneries or series to an\n",
        "existing DataFrame and display the combined data."
      ],
      "metadata": {
        "id": "LL8g6_WIbDtF"
      },
      "id": "LL8g6_WIbDtF"
    },
    {
      "cell_type": "code",
      "source": [
        "\n",
        "# Existing DataFrame\n",
        "data = {\n",
        "    'student_id': ['S1', 'S2', 'S3', 'S4', 'S5'],\n",
        "    'name': ['Danniella Fenton', 'Ryder Storey', 'Bryce Jensen', 'Ed Bernal', 'Kwame Morin'],\n",
        "    'marks': [85, 92, 78, 88, 95]\n",
        "}\n",
        "# Creating a DataFrame\n",
        "df = pd.DataFrame(data)\n",
        "\n",
        "# New student data as a dictionary\n",
        "new_student = {\n",
        "    'student_id': 'S6',\n",
        "    'name': 'Scarlette Fisher',\n",
        "    'marks': 205\n",
        "}\n",
        "\n",
        "# Append using pd.concat()\n",
        "df = pd.concat([df, pd.DataFrame([new_student])], ignore_index=True)\n",
        "\n",
        "# Display the combined data\n",
        "print(\"Combined DataFrame:\")\n",
        "print(df)"
      ],
      "metadata": {
        "id": "law_0fABbWTv",
        "outputId": "ac7122d0-9277-4d79-d4a7-64b5865a7541",
        "colab": {
          "base_uri": "https://localhost:8080/"
        }
      },
      "id": "law_0fABbWTv",
      "execution_count": 6,
      "outputs": [
        {
          "output_type": "stream",
          "name": "stdout",
          "text": [
            "Combined DataFrame:\n",
            "  student_id              name  marks\n",
            "0         S1  Danniella Fenton     85\n",
            "1         S2      Ryder Storey     92\n",
            "2         S3      Bryce Jensen     78\n",
            "3         S4         Ed Bernal     88\n",
            "4         S5       Kwame Morin     95\n",
            "5         S6  Scarlette Fisher    205\n"
          ]
        }
      ]
    },
    {
      "cell_type": "markdown",
      "source": [
        "2. Write a Pandas program to join the two given dataframes a long rows\n",
        "and merge with another dataframe along the common column id."
      ],
      "metadata": {
        "id": "CsiDMiWydeST"
      },
      "id": "CsiDMiWydeST"
    },
    {
      "cell_type": "code",
      "source": [
        "# Given DataFrames\n",
        "student_data1 = pd.DataFrame({\n",
        "    'student_id': ['S1', 'S2', 'S3', 'S4', 'S5'],\n",
        "    'name': ['Danniella Fenton', 'Ryder Storey', 'Bryce Jensen', 'Ed Bernal', 'Kwame Morin'],\n",
        "    'marks': [200, 210, 190, 222, 199]\n",
        "})\n",
        "\n",
        "student_data2 = pd.DataFrame({\n",
        "    'student_id': ['S4', 'S5', 'S6', 'S7', 'S8'],\n",
        "    'name': ['Scarlette Fisher', 'Carla Williamson', 'Dante Morse', 'Kaiser William', 'Madeeha Preston'],\n",
        "    'marks': [201, 200, 198, 219, 201]\n",
        "})\n",
        "\n",
        "exam_data = pd.DataFrame({\n",
        "    'student_id': ['S1', 'S2', 'S3', 'S4', 'S5', 'S7', 'S8', 'S9', 'S10', 'S11', 'S12', 'S13'],\n",
        "    'exam_id': [23, 45, 12, 67, 21, 55, 33, 14, 56, 83, 88, 12]\n",
        "})\n",
        "\n",
        "# Step 1: Concatenate student_data1 and student_data2 (row-wise)\n",
        "combined_students = pd.concat([student_data1, student_data2], ignore_index=True)\n",
        "\n",
        "# Step 2: Merge with exam_data (left join to retain all students)\n",
        "final_df = pd.merge(combined_students, exam_data, on='student_id', how='left')\n",
        "\n",
        "print(\"Combined Students (student_data1 + student_data2):\")\n",
        "print(combined_students)\n",
        "\n",
        "print(\"\\nFinal Merged DataFrame (Students + Exam Data):\")\n",
        "print(final_df)"
      ],
      "metadata": {
        "id": "0FB61lrMdd3-",
        "outputId": "42a6ff60-e40f-4382-be74-b5dc61badc14",
        "colab": {
          "base_uri": "https://localhost:8080/"
        }
      },
      "id": "0FB61lrMdd3-",
      "execution_count": 7,
      "outputs": [
        {
          "output_type": "stream",
          "name": "stdout",
          "text": [
            "Combined Students (student_data1 + student_data2):\n",
            "  student_id              name  marks\n",
            "0         S1  Danniella Fenton    200\n",
            "1         S2      Ryder Storey    210\n",
            "2         S3      Bryce Jensen    190\n",
            "3         S4         Ed Bernal    222\n",
            "4         S5       Kwame Morin    199\n",
            "5         S4  Scarlette Fisher    201\n",
            "6         S5  Carla Williamson    200\n",
            "7         S6       Dante Morse    198\n",
            "8         S7    Kaiser William    219\n",
            "9         S8   Madeeha Preston    201\n",
            "\n",
            "Final Merged DataFrame (Students + Exam Data):\n",
            "  student_id              name  marks  exam_id\n",
            "0         S1  Danniella Fenton    200     23.0\n",
            "1         S2      Ryder Storey    210     45.0\n",
            "2         S3      Bryce Jensen    190     12.0\n",
            "3         S4         Ed Bernal    222     67.0\n",
            "4         S5       Kwame Morin    199     21.0\n",
            "5         S4  Scarlette Fisher    201     67.0\n",
            "6         S5  Carla Williamson    200     21.0\n",
            "7         S6       Dante Morse    198      NaN\n",
            "8         S7    Kaiser William    219     55.0\n",
            "9         S8   Madeeha Preston    201     33.0\n"
          ]
        }
      ]
    },
    {
      "cell_type": "markdown",
      "source": [
        "3. Write a Pandas program to join the two dataframes using the common\n",
        "column of both dataframes."
      ],
      "metadata": {
        "id": "fu94oTxrkH5d"
      },
      "id": "fu94oTxrkH5d"
    },
    {
      "cell_type": "code",
      "source": [],
      "metadata": {
        "id": "FFNTLBR1dAC7"
      },
      "id": "FFNTLBR1dAC7",
      "execution_count": null,
      "outputs": []
    }
  ],
  "metadata": {
    "kernelspec": {
      "display_name": "Python 3 (ipykernel)",
      "language": "python",
      "name": "python3"
    },
    "language_info": {
      "codemirror_mode": {
        "name": "ipython",
        "version": 3
      },
      "file_extension": ".py",
      "mimetype": "text/x-python",
      "name": "python",
      "nbconvert_exporter": "python",
      "pygments_lexer": "ipython3",
      "version": "3.10.10"
    },
    "colab": {
      "provenance": [],
      "include_colab_link": true
    }
  },
  "nbformat": 4,
  "nbformat_minor": 5
}