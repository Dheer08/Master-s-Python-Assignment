{
  "cells": [
    {
      "cell_type": "markdown",
      "metadata": {
        "id": "view-in-github",
        "colab_type": "text"
      },
      "source": [
        "<a href=\"https://colab.research.google.com/github/Dheer08/Master-s-Python-Assignment/blob/main/CA%201/20056561%20-%20Exercise%202%20Pandas%20Data%20Manipulation.ipynb\" target=\"_parent\"><img src=\"https://colab.research.google.com/assets/colab-badge.svg\" alt=\"Open In Colab\"/></a>"
      ]
    },
    {
      "cell_type": "markdown",
      "id": "070c989e",
      "metadata": {
        "id": "070c989e"
      },
      "source": [
        "## Exercise 1 Python Pandas Data Manipulation\n",
        "**In this colab notebook we can look at the solution for the python assignment that is based on pandas**"
      ]
    },
    {
      "cell_type": "code",
      "source": [
        "# Since we use pandas in every question we import it at the start of the assignment\n",
        "# we use as pd - you can think it of as a short nick name for the library which we can use it as a reference\n",
        "import pandas as pd"
      ],
      "metadata": {
        "id": "izvwtF15b6wQ"
      },
      "id": "izvwtF15b6wQ",
      "execution_count": 2,
      "outputs": []
    },
    {
      "cell_type": "markdown",
      "source": [
        "1. Write a Pandas program to append a list of dictioneries or series to an\n",
        "existing DataFrame and display the combined data."
      ],
      "metadata": {
        "id": "LL8g6_WIbDtF"
      },
      "id": "LL8g6_WIbDtF"
    },
    {
      "cell_type": "code",
      "source": [
        "\n",
        "# Existing DataFrame\n",
        "data = {\n",
        "    'student_id': ['S1', 'S2', 'S3', 'S4', 'S5'],\n",
        "    'name': ['Danniella Fenton', 'Ryder Storey', 'Bryce Jensen', 'Ed Bernal', 'Kwame Morin'],\n",
        "    'marks': [85, 92, 78, 88, 95]\n",
        "}\n",
        "# Creating a DataFrame\n",
        "df = pd.DataFrame(data)\n",
        "\n",
        "# New student data as a dictionary\n",
        "new_student = {\n",
        "    'student_id': 'S6',\n",
        "    'name': 'Scarlette Fisher',\n",
        "    'marks': 205\n",
        "}\n",
        "\n",
        "# Append using pd.concat()\n",
        "df = pd.concat([df, pd.DataFrame([new_student])], ignore_index=True)\n",
        "\n",
        "# Display the combined data\n",
        "print(\"Combined DataFrame:\")\n",
        "print(df)"
      ],
      "metadata": {
        "id": "law_0fABbWTv",
        "outputId": "ac7122d0-9277-4d79-d4a7-64b5865a7541",
        "colab": {
          "base_uri": "https://localhost:8080/"
        }
      },
      "id": "law_0fABbWTv",
      "execution_count": null,
      "outputs": [
        {
          "output_type": "stream",
          "name": "stdout",
          "text": [
            "Combined DataFrame:\n",
            "  student_id              name  marks\n",
            "0         S1  Danniella Fenton     85\n",
            "1         S2      Ryder Storey     92\n",
            "2         S3      Bryce Jensen     78\n",
            "3         S4         Ed Bernal     88\n",
            "4         S5       Kwame Morin     95\n",
            "5         S6  Scarlette Fisher    205\n"
          ]
        }
      ]
    },
    {
      "cell_type": "markdown",
      "source": [
        "2. Write a Pandas program to join the two given dataframes a long rows\n",
        "and merge with another dataframe along the common column id."
      ],
      "metadata": {
        "id": "CsiDMiWydeST"
      },
      "id": "CsiDMiWydeST"
    },
    {
      "cell_type": "code",
      "source": [
        "# Given DataFrames\n",
        "student_data1 = pd.DataFrame({\n",
        "    'student_id': ['S1', 'S2', 'S3', 'S4', 'S5'],\n",
        "    'name': ['Danniella Fenton', 'Ryder Storey', 'Bryce Jensen', 'Ed Bernal', 'Kwame Morin'],\n",
        "    'marks': [200, 210, 190, 222, 199]\n",
        "})\n",
        "\n",
        "student_data2 = pd.DataFrame({\n",
        "    'student_id': ['S4', 'S5', 'S6', 'S7', 'S8'],\n",
        "    'name': ['Scarlette Fisher', 'Carla Williamson', 'Dante Morse', 'Kaiser William', 'Madeeha Preston'],\n",
        "    'marks': [201, 200, 198, 219, 201]\n",
        "})\n",
        "\n",
        "exam_data = pd.DataFrame({\n",
        "    'student_id': ['S1', 'S2', 'S3', 'S4', 'S5', 'S7', 'S8', 'S9', 'S10', 'S11', 'S12', 'S13'],\n",
        "    'exam_id': [23, 45, 12, 67, 21, 55, 33, 14, 56, 83, 88, 12]\n",
        "})\n",
        "\n",
        "# Step 1: Concatenate student_data1 and student_data2 (row-wise)\n",
        "combined_students = pd.concat([student_data1, student_data2], ignore_index=True)\n",
        "\n",
        "# Step 2: Merge with exam_data (left join to retain all students)\n",
        "final_df = pd.merge(combined_students, exam_data, on='student_id', how='left')\n",
        "\n",
        "print(\"Combined Students (student_data1 + student_data2):\")\n",
        "print(combined_students)\n",
        "\n",
        "print(\"\\nFinal Merged DataFrame (Students + Exam Data):\")\n",
        "print(final_df)"
      ],
      "metadata": {
        "id": "0FB61lrMdd3-",
        "outputId": "42a6ff60-e40f-4382-be74-b5dc61badc14",
        "colab": {
          "base_uri": "https://localhost:8080/"
        }
      },
      "id": "0FB61lrMdd3-",
      "execution_count": null,
      "outputs": [
        {
          "output_type": "stream",
          "name": "stdout",
          "text": [
            "Combined Students (student_data1 + student_data2):\n",
            "  student_id              name  marks\n",
            "0         S1  Danniella Fenton    200\n",
            "1         S2      Ryder Storey    210\n",
            "2         S3      Bryce Jensen    190\n",
            "3         S4         Ed Bernal    222\n",
            "4         S5       Kwame Morin    199\n",
            "5         S4  Scarlette Fisher    201\n",
            "6         S5  Carla Williamson    200\n",
            "7         S6       Dante Morse    198\n",
            "8         S7    Kaiser William    219\n",
            "9         S8   Madeeha Preston    201\n",
            "\n",
            "Final Merged DataFrame (Students + Exam Data):\n",
            "  student_id              name  marks  exam_id\n",
            "0         S1  Danniella Fenton    200     23.0\n",
            "1         S2      Ryder Storey    210     45.0\n",
            "2         S3      Bryce Jensen    190     12.0\n",
            "3         S4         Ed Bernal    222     67.0\n",
            "4         S5       Kwame Morin    199     21.0\n",
            "5         S4  Scarlette Fisher    201     67.0\n",
            "6         S5  Carla Williamson    200     21.0\n",
            "7         S6       Dante Morse    198      NaN\n",
            "8         S7    Kaiser William    219     55.0\n",
            "9         S8   Madeeha Preston    201     33.0\n"
          ]
        }
      ]
    },
    {
      "cell_type": "markdown",
      "source": [
        "3. Write a Pandas program to join the two dataframes using the common\n",
        "column of both dataframes."
      ],
      "metadata": {
        "id": "fu94oTxrkH5d"
      },
      "id": "fu94oTxrkH5d"
    },
    {
      "cell_type": "code",
      "source": [
        "student_data1 = pd.DataFrame({\n",
        "    'student_id': ['S1', 'S2', 'S3', 'S4', 'S5'],\n",
        "    'name': ['Danniella Fenton', 'Ryder Storey', 'Bryce Jensen', 'Ed Bernal', 'Kwame Morin'],\n",
        "    'marks': [200, 210, 190, 222, 199]\n",
        "})\n",
        "\n",
        "student_data2 = pd.DataFrame({\n",
        "    'student_id': ['S4', 'S5', 'S6', 'S7', 'S8'],\n",
        "    'name': ['Scarlette Fisher', 'Carla Williamson', 'Dante Morse', 'Kaiser William', 'Madeeha Preston'],\n",
        "    'marks': [201, 200, 198, 219, 201]\n",
        "})\n",
        "\n",
        "# Inner join (default)\n",
        "inner_merged = pd.merge(student_data1, student_data2, on='student_id', how='inner')\n",
        "print(\"Inner Join (Common students only):\")\n",
        "print(inner_merged)"
      ],
      "metadata": {
        "id": "FFNTLBR1dAC7",
        "outputId": "e0887373-b202-4866-a6fe-00690c83f735",
        "colab": {
          "base_uri": "https://localhost:8080/"
        }
      },
      "id": "FFNTLBR1dAC7",
      "execution_count": 3,
      "outputs": [
        {
          "output_type": "stream",
          "name": "stdout",
          "text": [
            "Inner Join (Common students only):\n",
            "  student_id       name_x  marks_x            name_y  marks_y\n",
            "0         S4    Ed Bernal      222  Scarlette Fisher      201\n",
            "1         S5  Kwame Morin      199  Carla Williamson      200\n"
          ]
        }
      ]
    },
    {
      "cell_type": "markdown",
      "source": [
        "4. Write a Pandas program to join the two dataframes with matching\n",
        "records from both sides where available"
      ],
      "metadata": {
        "id": "hqfFP-hxMy6s"
      },
      "id": "hqfFP-hxMy6s"
    },
    {
      "cell_type": "code",
      "source": [
        "# Given DataFrames\n",
        "student_data1 = pd.DataFrame({\n",
        "    'student_id': ['S1', 'S2', 'S3', 'S4', 'S5'],\n",
        "    'name': ['Danniella Fenton', 'Ryder Storey', 'Bryce Jensen', 'Ed Bernal', 'Kwame Morin'],\n",
        "    'marks': [200, 210, 190, 222, 199]\n",
        "})\n",
        "\n",
        "student_data2 = pd.DataFrame({\n",
        "    'student_id': ['S4', 'S5', 'S6', 'S7', 'S8'],\n",
        "    'name': ['Scarlette Fisher', 'Carla Williamson', 'Dante Morse', 'Kaiser William', 'Madeeha Preston'],\n",
        "    'marks': [201, 200, 198, 219, 201]\n",
        "})\n",
        "\n",
        "# Inner join (only matching records from both DataFrames)\n",
        "inner_merged = pd.merge(student_data1, student_data2, on='student_id', how='inner')\n",
        "\n",
        "print(\"Inner Join (Matching Records from Both DataFrames):\")\n",
        "print(inner_merged)"
      ],
      "metadata": {
        "id": "lb7M1R-uOHSY",
        "outputId": "c42c1988-b7a0-4546-c60b-c2b70d5aa0d4",
        "colab": {
          "base_uri": "https://localhost:8080/"
        }
      },
      "id": "lb7M1R-uOHSY",
      "execution_count": 4,
      "outputs": [
        {
          "output_type": "stream",
          "name": "stdout",
          "text": [
            "Inner Join (Matching Records from Both DataFrames):\n",
            "  student_id       name_x  marks_x            name_y  marks_y\n",
            "0         S4    Ed Bernal      222  Scarlette Fisher      201\n",
            "1         S5  Kwame Morin      199  Carla Williamson      200\n"
          ]
        }
      ]
    },
    {
      "cell_type": "markdown",
      "source": [
        "5. Write a Pandas program to join (left join) the two dataframes using keys\n",
        "from left dataframe only."
      ],
      "metadata": {
        "id": "PuQZd4jdM0lb"
      },
      "id": "PuQZd4jdM0lb"
    },
    {
      "cell_type": "code",
      "source": [
        "# Define data1\n",
        "data1 = pd.DataFrame({\n",
        "    'key1': ['K0', 'K0', 'K1', 'K2'],\n",
        "    'key2': ['K0', 'K1', 'K0', 'K1'],\n",
        "    'P': ['P0', 'P1', 'P2', 'P3'],\n",
        "    'Q': ['Q0', 'Q1', 'Q2', 'Q3']\n",
        "})\n",
        "\n",
        "# Define data2\n",
        "data2 = pd.DataFrame({\n",
        "    'key1': ['K0', 'K1', 'K1', 'K2'],\n",
        "    'key2': ['K0', 'K0', 'K0', 'K0'],\n",
        "    'R': ['R0', 'R1', 'R2', 'R3'],\n",
        "    'S': ['S0', 'S1', 'S2', 'S3']\n",
        "})\n",
        "\n",
        "\n",
        "# Perform left join on 'key1' and 'key2'\n",
        "left_merged = pd.merge(\n",
        "    data1,\n",
        "    data2,\n",
        "    on=['key1', 'key2'],\n",
        "    how='left',  # Left join (keep all keys from left)\n",
        "    suffixes=('_left', '_right')  # Optional: clarify column origins\n",
        ")\n",
        "\n",
        "print(\"Left Join Result:\")\n",
        "print(left_merged)"
      ],
      "metadata": {
        "id": "m6i3W7ZCOVR-",
        "outputId": "34a58321-ef89-4526-fb11-a469cadd0b76",
        "colab": {
          "base_uri": "https://localhost:8080/"
        }
      },
      "id": "m6i3W7ZCOVR-",
      "execution_count": 6,
      "outputs": [
        {
          "output_type": "stream",
          "name": "stdout",
          "text": [
            "Left Join Result:\n",
            "  key1 key2   P   Q    R    S\n",
            "0   K0   K0  P0  Q0   R0   S0\n",
            "1   K0   K1  P1  Q1  NaN  NaN\n",
            "2   K1   K0  P2  Q2   R1   S1\n",
            "3   K1   K0  P2  Q2   R2   S2\n",
            "4   K2   K1  P3  Q3  NaN  NaN\n"
          ]
        }
      ]
    },
    {
      "cell_type": "markdown",
      "source": [
        "6. Write a Pandas program to create a line plot of the historical stock prices of\n",
        "Alphabet Inc. between two specific dates."
      ],
      "metadata": {
        "id": "-EBFi3M4M1Aj"
      },
      "id": "-EBFi3M4M1Aj"
    },
    {
      "cell_type": "markdown",
      "source": [
        "7. Write a Pandas program to create a line plot of the opening, closing stock prices\n",
        "of Alphabet Inc. between two specific dates."
      ],
      "metadata": {
        "id": "SVktzrkqM1Va"
      },
      "id": "SVktzrkqM1Va"
    },
    {
      "cell_type": "markdown",
      "source": [
        "8. Write a Pandas program to create a bar plot of the trading volume of Alphabet\n",
        "Inc. stock between two specific dates."
      ],
      "metadata": {
        "id": "kqGE_xAYM2SD"
      },
      "id": "kqGE_xAYM2SD"
    },
    {
      "cell_type": "markdown",
      "source": [
        "9. Write a Pandas program to create a bar plot of opening, closing stock prices of\n",
        "Alphabet Inc. between two specific dates."
      ],
      "metadata": {
        "id": "7tsR3W7sM1qf"
      },
      "id": "7tsR3W7sM1qf"
    },
    {
      "cell_type": "markdown",
      "source": [
        "10. Write a Pandas program to create a stacked bar plot of opening, closing stock\n",
        "prices of Alphabet Inc. between two specific dates."
      ],
      "metadata": {
        "id": "jS87OBegNHbZ"
      },
      "id": "jS87OBegNHbZ"
    },
    {
      "cell_type": "code",
      "source": [],
      "metadata": {
        "id": "MHJzoHojNK6U"
      },
      "id": "MHJzoHojNK6U",
      "execution_count": null,
      "outputs": []
    }
  ],
  "metadata": {
    "kernelspec": {
      "display_name": "Python 3 (ipykernel)",
      "language": "python",
      "name": "python3"
    },
    "language_info": {
      "codemirror_mode": {
        "name": "ipython",
        "version": 3
      },
      "file_extension": ".py",
      "mimetype": "text/x-python",
      "name": "python",
      "nbconvert_exporter": "python",
      "pygments_lexer": "ipython3",
      "version": "3.10.10"
    },
    "colab": {
      "provenance": [],
      "include_colab_link": true
    }
  },
  "nbformat": 4,
  "nbformat_minor": 5
}