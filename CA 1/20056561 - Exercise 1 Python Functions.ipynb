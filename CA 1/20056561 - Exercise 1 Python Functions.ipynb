{
 "cells": [
  {
   "cell_type": "markdown",
   "id": "8b2ddba1",
   "metadata": {},
   "source": [
    "## Python "
   ]
  },
  {
   "cell_type": "markdown",
   "id": "3c7675f5",
   "metadata": {},
   "source": [
    " 1. Area of a circle is calculated as follows: area = π x r x r and perimeter = 2 x π x r. Write a\n",
    "function that calculates area_of_circle and perimeter_of_circle."
   ]
  },
  {
   "cell_type": "code",
   "execution_count": 2,
   "id": "dbeaf606",
   "metadata": {},
   "outputs": [
    {
     "name": "stdout",
     "output_type": "stream",
     "text": [
      "Enter radius of the Circle : 4\n",
      "Area of Cricle for Radius(4.0) : 50.2624\n",
      "Perimeter of Cricle for Radius(4.0) : 25.1312\n"
     ]
    }
   ],
   "source": [
    "def area_of_circle(radius):\n",
    "    pi = 3.1414\n",
    "    return pi * radius * radius\n",
    "\n",
    "def perimeter_of_circle(radius):\n",
    "    pi = 3.1414\n",
    "    return 2*pi*radius\n",
    "\n",
    "radius = float(input(\"Enter radius of the Circle : \"))\n",
    "print(f\"Area of Cricle for Radius({radius}) : {area_of_circle(radius)}\")\n",
    "print(f\"Perimeter of Circle for Radius({radius}) : {perimeter_of_circle(radius)}\")"
   ]
  },
  {
   "cell_type": "markdown",
   "id": "e930e6ac",
   "metadata": {},
   "source": [
    "2. Write a function called add_all_nums which takes arbitrary number of arguments and sums\n",
    "all the arguments. Check if all the list items are number types. If not, provide reasonable\n",
    "feedback."
   ]
  },
  {
   "cell_type": "code",
   "execution_count": 76,
   "id": "ad88477a",
   "metadata": {},
   "outputs": [
    {
     "name": "stdout",
     "output_type": "stream",
     "text": [
      "(1, 2, 3, 4, 'we')\n",
      "Please input all number arguments\n"
     ]
    }
   ],
   "source": [
    "def add_all_nums(*nums):\n",
    "    print(nums)\n",
    "    sum = 0\n",
    "    for num in nums:\n",
    "        if isinstance(num, (int,float)):\n",
    "            sum = sum + num\n",
    "        else:\n",
    "            return \"Please input all number arguments\"\n",
    "            break\n",
    "    return f\"The sum of the arguments is {sum}\"\n",
    "            \n",
    "print(add_all_nums(1,2,3,4,\"we\"))"
   ]
  },
  {
   "cell_type": "markdown",
   "id": "961737bf",
   "metadata": {},
   "source": [
    "3. Temperature in °C can be converted to °F using this formula: °F = (°C x 9/5) + 32. Write a\n",
    "function which converts °C to °F, convert_celsius_2_fahrenheit."
   ]
  },
  {
   "cell_type": "code",
   "execution_count": 21,
   "id": "8e802dcb",
   "metadata": {},
   "outputs": [
    {
     "name": "stdout",
     "output_type": "stream",
     "text": [
      "please Enter your celsius Temperature : 27\n"
     ]
    },
    {
     "data": {
      "text/plain": [
       "'The Temperate of 27.0 in Fahrenheit is 80.6'"
      ]
     },
     "execution_count": 21,
     "metadata": {},
     "output_type": "execute_result"
    }
   ],
   "source": [
    "def convert_celsius_2_fahrenheit(cel_temp):\n",
    "    farh = cel_temp * (9/5) + 32\n",
    "    return f\"The Temperate of {cel_temp} in Fahrenheit is {farh}\"\n",
    "\n",
    "cel_temp = float(input(\"please Enter your celsius Temperature : \"))\n",
    "convert_celsius_2_fahrenheit(cel_temp)"
   ]
  },
  {
   "cell_type": "markdown",
   "id": "9d261293",
   "metadata": {},
   "source": [
    "4. Write a function called check_season, it takes a month parameter and returns the season:\n",
    "Autumn, Winter, Spring, or Summer"
   ]
  },
  {
   "cell_type": "code",
   "execution_count": 77,
   "id": "ea9348d2",
   "metadata": {},
   "outputs": [
    {
     "name": "stdout",
     "output_type": "stream",
     "text": [
      "Enter the month : may\n",
      "Spring\n"
     ]
    }
   ],
   "source": [
    "def check_season(month):\n",
    "    season_map = {\n",
    "        'winter': ['december', 'january', 'february', 12, 1, 2],\n",
    "        'spring': ['march', 'april', 'may', 3, 4, 5],\n",
    "        'summer': ['june', 'july', 'august', 6, 7, 8],\n",
    "        'autumn': ['september', 'october', 'november', 9, 10, 11]\n",
    "     }\n",
    "    for season, months in season_map.items():\n",
    "        if month in months:\n",
    "            return season.capitalize()\n",
    "inp_month = input(\"Enter the month : \")\n",
    "print(check_season(\"may\"))"
   ]
  },
  {
   "cell_type": "markdown",
   "id": "eeb08803",
   "metadata": {},
   "source": [
    "5. Write a function called calculate_slope which returns the slope of a linear equation."
   ]
  },
  {
   "cell_type": "code",
   "execution_count": 31,
   "id": "1bf0eee9",
   "metadata": {},
   "outputs": [
    {
     "data": {
      "text/plain": [
       "0.2857142857142857"
      ]
     },
     "execution_count": 31,
     "metadata": {},
     "output_type": "execute_result"
    }
   ],
   "source": [
    "def calculate_slope(x1, y1, x2, y2):\n",
    "   \n",
    "    if x1 == x2:\n",
    "        raise ValueError(\"Division by zero: The line is vertical (infinite slope).\")\n",
    "    return (y2 - y1) / (x2 - x1)\n",
    "\n",
    "calculate_slope(2,3,9,5)"
   ]
  },
  {
   "cell_type": "markdown",
   "id": "81785675",
   "metadata": {},
   "source": [
    "6. Quadratic equation is calculated as follows: ax² + bx + c = 0. Write a function which\n",
    "calculates the solution set of a quadratic equation, solve_quadratic_eqn."
   ]
  },
  {
   "cell_type": "code",
   "execution_count": 19,
   "id": "b8fc5ee7",
   "metadata": {},
   "outputs": [
    {
     "name": "stdout",
     "output_type": "stream",
     "text": [
      "None\n"
     ]
    }
   ],
   "source": [
    "import math\n",
    "def solve_quadratic_eqn(a,b,c):\n",
    "    discriminant = b**2 - 4*a*c\n",
    "    \n",
    "    if discriminant > 0:\n",
    "        root1 = (-b + math.sqrt(discriminant)) / (2*a)\n",
    "        root2 = (-b - math.sqrt(discriminant)) / (2*a)\n",
    "        return (root1, root2)\n",
    "    elif discriminant == 0:\n",
    "        root = -b / (2*a)\n",
    "        return root\n",
    "    else:\n",
    "        return None\n",
    "\n",
    "print(solve_quadratic_eqn(3,5,5))"
   ]
  },
  {
   "cell_type": "markdown",
   "id": "53117cc0",
   "metadata": {},
   "source": [
    "7. Declare a function named print_list. It takes a list as a parameter and prints out each\n",
    "element of the list."
   ]
  },
  {
   "cell_type": "code",
   "execution_count": 34,
   "id": "7b0e92e9",
   "metadata": {},
   "outputs": [
    {
     "name": "stdout",
     "output_type": "stream",
     "text": [
      "1\n",
      "2\n",
      "4\n",
      "5\n"
     ]
    }
   ],
   "source": [
    "def print_list(elements):\n",
    "    for elm in elements:\n",
    "        print(elm,end=\"\\n\")\n",
    "    \n",
    "print_list([1,2,4,5])"
   ]
  },
  {
   "cell_type": "markdown",
   "id": "67b00dab",
   "metadata": {},
   "source": [
    "8. Declare a function named reverse_list. It takes an array as a parameter and returns the\n",
    "reverse of the array (use loops)."
   ]
  },
  {
   "cell_type": "code",
   "execution_count": 37,
   "id": "d69699c9",
   "metadata": {},
   "outputs": [
    {
     "data": {
      "text/plain": [
       "[3, 2, 1]"
      ]
     },
     "execution_count": 37,
     "metadata": {},
     "output_type": "execute_result"
    }
   ],
   "source": [
    "# The main trick is to reverse the index range(start, stop, step), Step = -1 counts the numbers backwards\n",
    "def reverse_list(arr):\n",
    "    rev_list = []\n",
    "    for i in range(len(arr) - 1, -1, -1):  # Iterate from last index to 0\n",
    "        rev_list.append(arr[i])\n",
    "    \n",
    "    return rev_list\n",
    "\n",
    "reverse_list([1,2,3])"
   ]
  },
  {
   "cell_type": "markdown",
   "id": "2c5c729f",
   "metadata": {},
   "source": [
    "9. Declare a function named capitalize_list_items. It takes a list as a parameter and returns a\n",
    "capitalized list of items."
   ]
  },
  {
   "cell_type": "code",
   "execution_count": 43,
   "id": "17dec225",
   "metadata": {},
   "outputs": [
    {
     "name": "stdout",
     "output_type": "stream",
     "text": [
      "['Rakshit', 'Dheer', 'Max']\n"
     ]
    }
   ],
   "source": [
    "def capitalize_list_items(items):\n",
    "    cap_items = []\n",
    "    for item in items:\n",
    "        cap_items.append(item.capitalize())\n",
    "    return cap_items\n",
    "    \n",
    "print(capitalize_list_items([\"rakshit\",\"dheer\",\"max\"]))"
   ]
  },
  {
   "cell_type": "markdown",
   "id": "08debddb",
   "metadata": {},
   "source": [
    "10. Declare a function named add_item. It takes a list and an item as parameters. It returns a list\n",
    "with the item added at the end."
   ]
  },
  {
   "cell_type": "code",
   "execution_count": 45,
   "id": "afc26dec",
   "metadata": {},
   "outputs": [
    {
     "name": "stdout",
     "output_type": "stream",
     "text": [
      "[1, 2, 3, 4]\n"
     ]
    }
   ],
   "source": [
    "def add_item(items,item):\n",
    "    items.append(item)\n",
    "    return items\n",
    "\n",
    "print(add_item([1,2,3],4))"
   ]
  },
  {
   "cell_type": "markdown",
   "id": "946e0df6",
   "metadata": {},
   "source": [
    "11.Declare a function named remove_item. It takes a list and an item as parameters. It returns\n",
    "a list with the item removed from it."
   ]
  },
  {
   "cell_type": "code",
   "execution_count": 53,
   "id": "9631e50b",
   "metadata": {},
   "outputs": [
    {
     "name": "stdout",
     "output_type": "stream",
     "text": [
      "Item not in list\n",
      "\n"
     ]
    }
   ],
   "source": [
    "def remove_item(items,item):\n",
    "    if item in items:\n",
    "        items.remove(item)\n",
    "        return items\n",
    "    else:\n",
    "        print(\"Item not in list\")\n",
    "        return \"\"\n",
    "    \n",
    "\n",
    "print(remove_item([1,2,3],4))"
   ]
  },
  {
   "cell_type": "markdown",
   "id": "85983224",
   "metadata": {},
   "source": [
    "12. Declare a function named sum_of_numbers. It takes a number parameter and adds all the\n",
    "numbers in that range."
   ]
  },
  {
   "cell_type": "code",
   "execution_count": 56,
   "id": "15bfc9d5",
   "metadata": {},
   "outputs": [
    {
     "name": "stdout",
     "output_type": "stream",
     "text": [
      "10\n"
     ]
    }
   ],
   "source": [
    "def sum_of_numbers(num):\n",
    "    sum_num = 0\n",
    "    while num != 0:\n",
    "        dig = num % 10\n",
    "        sum_num = sum_num + dig\n",
    "        num = num // 10\n",
    "    return sum_num\n",
    "\n",
    "print(sum_of_numbers(1234))"
   ]
  },
  {
   "cell_type": "markdown",
   "id": "4519ee06",
   "metadata": {},
   "source": [
    "13. Declare a function named sum_of_odds. It takes a number parameter and adds all the odd\n",
    "numbers in that range.\n"
   ]
  },
  {
   "cell_type": "code",
   "execution_count": 59,
   "id": "878a282c",
   "metadata": {},
   "outputs": [
    {
     "name": "stdout",
     "output_type": "stream",
     "text": [
      "4\n"
     ]
    }
   ],
   "source": [
    "def sum_of_odds(num):\n",
    "    sum_num = 0\n",
    "    while num != 0:\n",
    "        dig = num % 10\n",
    "        if dig % 2 != 0:\n",
    "            sum_num = sum_num + dig\n",
    "        num = num // 10\n",
    "    return sum_num\n",
    "\n",
    "print(sum_of_odds(1234))"
   ]
  },
  {
   "cell_type": "markdown",
   "id": "e12abf32",
   "metadata": {},
   "source": [
    "14. Declare a function named sum_of_even. It takes a number parameter and adds all the even\n",
    "numbers in that range."
   ]
  },
  {
   "cell_type": "code",
   "execution_count": 60,
   "id": "05bc8c2b",
   "metadata": {},
   "outputs": [
    {
     "name": "stdout",
     "output_type": "stream",
     "text": [
      "6\n"
     ]
    }
   ],
   "source": [
    "def sum_of_even(num):\n",
    "    sum_num = 0\n",
    "    while num != 0:\n",
    "        dig = num % 10\n",
    "        if dig % 2 == 0:\n",
    "            sum_num = sum_num + dig\n",
    "        num = num // 10\n",
    "    return sum_num\n",
    "\n",
    "print(sum_of_even(1234))"
   ]
  },
  {
   "cell_type": "markdown",
   "id": "836fdd76",
   "metadata": {},
   "source": [
    "\n",
    "15. Declare a function named evens_and_odds. It takes a positive integer as a parameter and\n",
    "counts the number of evens and odds in the number."
   ]
  },
  {
   "cell_type": "code",
   "execution_count": 69,
   "id": "19e0313a",
   "metadata": {},
   "outputs": [
    {
     "name": "stdout",
     "output_type": "stream",
     "text": [
      "The Number of even and odds are 2 and 1 respectively\n"
     ]
    }
   ],
   "source": [
    "def even_and_odds(num):\n",
    "    count_even = 0\n",
    "    count_odd = 0\n",
    "    while num != 0:\n",
    "        dig = num % 10\n",
    "        if dig % 2 == 0:\n",
    "            count_even = count_even+  1\n",
    "        else:\n",
    "            count_odd = count_odd + 1\n",
    "        num = num // 10\n",
    "    return [count_even,count_odd]\n",
    "ans = even_and_odds(234)\n",
    "print(f\"The Number of even and odds are {ans[0]} and {ans[1]} respectively\")"
   ]
  },
  {
   "cell_type": "markdown",
   "id": "a0d4f5d0",
   "metadata": {},
   "source": [
    "16. Call your function factorial, it takes a whole number as a parameter and returns its factorial."
   ]
  },
  {
   "cell_type": "code",
   "execution_count": 71,
   "id": "0e69ac59",
   "metadata": {},
   "outputs": [
    {
     "name": "stdout",
     "output_type": "stream",
     "text": [
      "The Factorial is :  120\n"
     ]
    }
   ],
   "source": [
    "def factorial(num):\n",
    "    fact = 1\n",
    "    for i in range(1,num+1):\n",
    "        fact = fact * i\n",
    "    return fact\n",
    "\n",
    "print(\"The Factorial is : \", factorial(5))"
   ]
  },
  {
   "cell_type": "markdown",
   "id": "66f71e4a",
   "metadata": {},
   "source": [
    "17.Call your function is_empty, it takes a parameter and checks if it is empty or not."
   ]
  },
  {
   "cell_type": "code",
   "execution_count": 72,
   "id": "bc5662e9",
   "metadata": {},
   "outputs": [
    {
     "data": {
      "text/plain": [
       "True"
      ]
     },
     "execution_count": 72,
     "metadata": {},
     "output_type": "execute_result"
    }
   ],
   "source": [
    "def is_empty(param):\n",
    "    if param is None:\n",
    "        return True\n",
    "    if isinstance(param, (str, list, dict, tuple, set)):  # Check common iterable types\n",
    "        return len(param) == 0\n",
    "    return False\n",
    "is_empty([])"
   ]
  },
  {
   "cell_type": "markdown",
   "id": "c2c07dd7",
   "metadata": {},
   "source": [
    "18. Write a different function which take lists. They should calculate_mean, calculate_median,\n",
    "calculate_mode, calculate_range, calculate_variance, and calculate_std (standard\n",
    "deviation)."
   ]
  },
  {
   "cell_type": "code",
   "execution_count": 80,
   "id": "54c723b2",
   "metadata": {},
   "outputs": [
    {
     "name": "stdout",
     "output_type": "stream",
     "text": [
      "The Mean :  2.25\n",
      "The Median :  2.5\n",
      "The Mode :  3\n",
      "The Range :  2\n",
      "The Variance :  0.6875\n",
      "The Standard Deviation :  0.82915619758885\n"
     ]
    }
   ],
   "source": [
    "from collections import Counter\n",
    "import math\n",
    "\n",
    "def calculate_mean(nums):\n",
    "    mean = 0\n",
    "    for num in nums:\n",
    "        mean = mean + num\n",
    "    return mean/len(nums)\n",
    "\n",
    "def calculate_median(nums):\n",
    "    sorted_lst = sorted(nums)\n",
    "    n = len(sorted_lst)\n",
    "    mid = n // 2\n",
    "    if n % 2 == 1:\n",
    "        return sorted_lst[mid]\n",
    "    return (sorted_lst[mid - 1] + sorted_lst[mid]) / 2\n",
    "\n",
    "def calculate_mode(nums):\n",
    "    counts = Counter(nums)\n",
    "    max_count = max(counts.values())\n",
    "    modes = [num for num, count in counts.items() if count == max_count]\n",
    "    return modes[0] if len(modes) == 1 else modes \n",
    "\n",
    "def calculate_range(nums):\n",
    "    return max(nums) - min(nums)\n",
    "\n",
    "def calculate_variance(nums):\n",
    "    mean = calculate_mean(nums)\n",
    "    squared_diffs = [(x - mean) ** 2 for x in nums]\n",
    "    return sum(squared_diffs) / len(nums)\n",
    "\n",
    "def calculate_std(nums):\n",
    "    return math.sqrt(calculate_variance(nums))\n",
    "\n",
    "inp = [1,2,3,3]\n",
    "print(\"The Mean : \",calculate_mean(inp))\n",
    "print(\"The Median : \",calculate_median(inp))\n",
    "print(\"The Mode : \",calculate_mode(inp))\n",
    "print(\"The Range : \",calculate_range(inp))\n",
    "print(\"The Variance : \",calculate_variance(inp))\n",
    "print(\"The Standard Deviation : \",calculate_std(inp))"
   ]
  },
  {
   "cell_type": "code",
   "execution_count": null,
   "id": "48729273",
   "metadata": {},
   "outputs": [],
   "source": []
  }
 ],
 "metadata": {
  "kernelspec": {
   "display_name": "Python 3 (ipykernel)",
   "language": "python",
   "name": "python3"
  },
  "language_info": {
   "codemirror_mode": {
    "name": "ipython",
    "version": 3
   },
   "file_extension": ".py",
   "mimetype": "text/x-python",
   "name": "python",
   "nbconvert_exporter": "python",
   "pygments_lexer": "ipython3",
   "version": "3.10.10"
  }
 },
 "nbformat": 4,
 "nbformat_minor": 5
}
