{
  "cells": [
    {
      "cell_type": "markdown",
      "metadata": {
        "id": "view-in-github",
        "colab_type": "text"
      },
      "source": [
        "<a href=\"https://colab.research.google.com/github/Dheer08/Master-s-Python-Assignment/blob/main/CA%201/20056561%20-%20Exercise%201%20Python%20Functions.ipynb\" target=\"_parent\"><img src=\"https://colab.research.google.com/assets/colab-badge.svg\" alt=\"Open In Colab\"/></a>"
      ]
    },
    {
      "cell_type": "markdown",
      "id": "8b2ddba1",
      "metadata": {
        "id": "8b2ddba1"
      },
      "source": [
        "## Exercise 1 Python Functions\n",
        "**In this colab notebook we can look at the solution for the python assignment that is based on python functions**"
      ]
    },
    {
      "cell_type": "markdown",
      "source": [
        "Colab Link : [Exercise 1](https://colab.research.google.com/github/Dheer08/Master-s-Python-Assignment/blob/main/CA%201/20056561%20-%20Exercise%201%20Python%20Functions.ipynb#scrollTo=dbeaf606)"
      ],
      "metadata": {
        "id": "4NEVlZTIXkvU"
      },
      "id": "4NEVlZTIXkvU"
    },
    {
      "cell_type": "markdown",
      "id": "3c7675f5",
      "metadata": {
        "id": "3c7675f5"
      },
      "source": [
        " 1. Area of a circle is calculated as follows: area = π x r x r and perimeter = 2 x π x r. Write a\n",
        "function that calculates area_of_circle and perimeter_of_circle."
      ]
    },
    {
      "cell_type": "code",
      "execution_count": null,
      "id": "dbeaf606",
      "metadata": {
        "colab": {
          "base_uri": "https://localhost:8080/"
        },
        "id": "dbeaf606",
        "outputId": "49cf8d5d-6e0d-45db-da57-856b2e2d33e9"
      },
      "outputs": [
        {
          "output_type": "stream",
          "name": "stdout",
          "text": [
            "Enter radius of the Circle : 5\n",
            "Area of Cricle for Radius(5.0) : 78.53981633974483\n",
            "Perimeter of Circle for Radius(5.0) : 31.41592653589793\n"
          ]
        }
      ],
      "source": [
        "import math\n",
        "def area_of_circle(radius):\n",
        "    \"\"\"\n",
        "    This Function takes the radius of the circle and returns the area of the circle.\n",
        "    Args:\n",
        "        radius (float): Radius of the circle.\n",
        "\n",
        "    Returns:\n",
        "        float: area of the circle.\n",
        "    \"\"\"\n",
        "    pi = math.pi\n",
        "    return pi * radius * radius\n",
        "\n",
        "def perimeter_of_circle(radius):\n",
        "    \"\"\"\n",
        "    This Function takes the radius of the circle and returns the Perimeter of the circle.\n",
        "    Args:\n",
        "        radius (float): Radius of the circle.\n",
        "\n",
        "    Returns:\n",
        "        float: permiter of the circle.\n",
        "    \"\"\"\n",
        "    pi = math.pi\n",
        "    return 2*pi*radius\n",
        "\n",
        "radius = float(input(\"Enter radius of the Circle : \"))\n",
        "print(f\"Area of Cricle for Radius({radius}) : {area_of_circle(radius)}\")\n",
        "print(f\"Perimeter of Circle for Radius({radius}) : {perimeter_of_circle(radius)}\")"
      ]
    },
    {
      "cell_type": "markdown",
      "id": "e930e6ac",
      "metadata": {
        "id": "e930e6ac"
      },
      "source": [
        "2. Write a function called add_all_nums which takes arbitrary number of arguments and sums\n",
        "all the arguments. Check if all the list items are number types. If not, provide reasonable\n",
        "feedback."
      ]
    },
    {
      "cell_type": "code",
      "execution_count": null,
      "id": "ad88477a",
      "metadata": {
        "colab": {
          "base_uri": "https://localhost:8080/",
          "height": 53
        },
        "id": "ad88477a",
        "outputId": "8eb24f1b-afef-47dc-fd76-40810f771a17"
      },
      "outputs": [
        {
          "output_type": "stream",
          "name": "stdout",
          "text": [
            "(1, 2, 3, 4, 'we')\n"
          ]
        },
        {
          "output_type": "execute_result",
          "data": {
            "text/plain": [
              "'Please input all number arguments'"
            ],
            "application/vnd.google.colaboratory.intrinsic+json": {
              "type": "string"
            }
          },
          "metadata": {},
          "execution_count": 6
        }
      ],
      "source": [
        "def add_all_nums(*nums):\n",
        "    \"\"\"\n",
        "    This Function takes the arguments and returns the sum of the arguments.\n",
        "    In this function we consider int and float as numbers.\n",
        "    Args:\n",
        "        radius (float): variable number and type of arguments\n",
        "\n",
        "    Returns:\n",
        "        string: sum of the arguments or Error Message.\n",
        "    \"\"\"\n",
        "    print(nums)\n",
        "    sum = 0\n",
        "    for num in nums:\n",
        "        if isinstance(num, (int,float)):\n",
        "            sum = sum + num\n",
        "        else:\n",
        "            return \"Please input all number arguments\"\n",
        "            break\n",
        "    return f\"The sum of the arguments is {sum}\"\n",
        "\n",
        "add_all_nums(1,2,3,4,\"we\")"
      ]
    },
    {
      "cell_type": "markdown",
      "id": "961737bf",
      "metadata": {
        "id": "961737bf"
      },
      "source": [
        "3. Temperature in °C can be converted to °F using this formula: °F = (°C x 9/5) + 32. Write a\n",
        "function which converts °C to °F, convert_celsius_2_fahrenheit."
      ]
    },
    {
      "cell_type": "code",
      "execution_count": null,
      "id": "8e802dcb",
      "metadata": {
        "colab": {
          "base_uri": "https://localhost:8080/",
          "height": 53
        },
        "id": "8e802dcb",
        "outputId": "fd7b1a7d-bf10-4d6d-95ce-bd5af084d01e"
      },
      "outputs": [
        {
          "name": "stdout",
          "output_type": "stream",
          "text": [
            "please Enter your celsius Temperature : 27\n"
          ]
        },
        {
          "output_type": "execute_result",
          "data": {
            "text/plain": [
              "'The Temperate of 27.0 degree celsius in Fahrenheit is 80.6'"
            ],
            "application/vnd.google.colaboratory.intrinsic+json": {
              "type": "string"
            }
          },
          "metadata": {},
          "execution_count": 8
        }
      ],
      "source": [
        "def convert_celsius_2_fahrenheit(cel_temp):\n",
        "    \"\"\"\n",
        "    This Function takes the celsius temperature and returns the fahrenheit temperature.\n",
        "\n",
        "    Args:\n",
        "        radius (float): celsius temperature.\n",
        "\n",
        "    Returns:\n",
        "        farenheit temperature\n",
        "    \"\"\"\n",
        "    farh = cel_temp * (9/5) + 32\n",
        "    return f\"The Temperate of {cel_temp} degree celsius in Fahrenheit is {farh}\"\n",
        "\n",
        "cel_temp = float(input(\"please Enter your celsius Temperature : \"))\n",
        "convert_celsius_2_fahrenheit(cel_temp)"
      ]
    },
    {
      "cell_type": "markdown",
      "id": "9d261293",
      "metadata": {
        "id": "9d261293"
      },
      "source": [
        "4. Write a function called check_season, it takes a month parameter and returns the season:\n",
        "Autumn, Winter, Spring, or Summer"
      ]
    },
    {
      "cell_type": "code",
      "execution_count": null,
      "id": "ea9348d2",
      "metadata": {
        "colab": {
          "base_uri": "https://localhost:8080/"
        },
        "id": "ea9348d2",
        "outputId": "1b9d6f49-33b4-4a28-9982-4c610b93a7a0"
      },
      "outputs": [
        {
          "output_type": "stream",
          "name": "stdout",
          "text": [
            "Enter the month : april\n",
            "Spring\n"
          ]
        }
      ],
      "source": [
        "def check_season(month):\n",
        "    \"\"\"\n",
        "    This Function takes the name of the month and returns the season.\n",
        "\n",
        "    Args:\n",
        "        month (string or int): name of the month or number of the month\n",
        "\n",
        "    Returns:\n",
        "        season of the month\n",
        "    \"\"\"\n",
        "    season_map = {\n",
        "        'winter': ['december', 'january', 'february', 12, 1, 2],\n",
        "        'spring': ['march', 'april', 'may', 3, 4, 5],\n",
        "        'summer': ['june', 'july', 'august', 6, 7, 8],\n",
        "        'autumn': ['september', 'october', 'november', 9, 10, 11]\n",
        "     }\n",
        "    for season, months in season_map.items():\n",
        "        if month.lower() in months:\n",
        "            return season.capitalize()\n",
        "inp_month = input(\"Enter the month : \")\n",
        "print(check_season(inp_month))"
      ]
    },
    {
      "cell_type": "markdown",
      "id": "eeb08803",
      "metadata": {
        "id": "eeb08803"
      },
      "source": [
        "5. Write a function called calculate_slope which returns the slope of a linear equation."
      ]
    },
    {
      "cell_type": "code",
      "execution_count": null,
      "id": "1bf0eee9",
      "metadata": {
        "colab": {
          "base_uri": "https://localhost:8080/"
        },
        "id": "1bf0eee9",
        "outputId": "35acc02e-b9ac-4863-9a21-88d5477f0b51"
      },
      "outputs": [
        {
          "output_type": "execute_result",
          "data": {
            "text/plain": [
              "0.2857142857142857"
            ]
          },
          "metadata": {},
          "execution_count": 16
        }
      ],
      "source": [
        "def calculate_slope(x1, y1, x2, y2):\n",
        "    \"\"\"\n",
        "    This Function takes the x and y coordinates of two points and returns the slope of the line.\n",
        "\n",
        "    Args:\n",
        "        x1 (float): x coordinate of the first point\n",
        "        y1 (float): y coordinate of the first point\n",
        "        x2 (float): x coordinate of the second point\n",
        "        y2 (float): y coordinate of the second point\n",
        "\n",
        "    Returns:\n",
        "        slope of the line\n",
        "    \"\"\"\n",
        "    if x1 == x2:\n",
        "        # We raise an Exception since we cannot divide a number by zero\n",
        "        raise ValueError(\"Division by zero: The line is vertical (infinite slope).\")\n",
        "    return (y2 - y1) / (x2 - x1)\n",
        "\n",
        "calculate_slope(2,3,9,5)"
      ]
    },
    {
      "cell_type": "markdown",
      "id": "81785675",
      "metadata": {
        "id": "81785675"
      },
      "source": [
        "6. Quadratic equation is calculated as follows: ax² + bx + c = 0. Write a function which\n",
        "calculates the solution set of a quadratic equation, solve_quadratic_eqn."
      ]
    },
    {
      "cell_type": "code",
      "execution_count": null,
      "id": "b8fc5ee7",
      "metadata": {
        "colab": {
          "base_uri": "https://localhost:8080/"
        },
        "id": "b8fc5ee7",
        "outputId": "745f1702-87ec-4f08-d47e-1758327256cc"
      },
      "outputs": [
        {
          "output_type": "stream",
          "name": "stdout",
          "text": [
            "(1.5, 1.0)\n"
          ]
        }
      ],
      "source": [
        "import math\n",
        "# we import the math library for square root function\n",
        "def solve_quadratic_eqn(a,b,c):\n",
        "    \"\"\"\n",
        "    This Function takes the coefficients of the quadratic equation and returns the solution.\n",
        "\n",
        "    Args:\n",
        "        a (float): coefficient of x^2\n",
        "        b (float): coefficient of x\n",
        "        c (float): constant term\n",
        "\n",
        "    Returns:\n",
        "        solution of the quadratic equation\n",
        "    \"\"\"\n",
        "    discriminant = b**2 - 4*a*c\n",
        "\n",
        "    if discriminant > 0:\n",
        "        root1 = (-b + math.sqrt(discriminant)) / (2*a)\n",
        "        root2 = (-b - math.sqrt(discriminant)) / (2*a)\n",
        "        return (root1, root2)\n",
        "    elif discriminant == 0:\n",
        "        root = -b / (2*a)\n",
        "        return root\n",
        "    else:\n",
        "        return None\n",
        "\n",
        "print(solve_quadratic_eqn(2,-5,3))"
      ]
    },
    {
      "cell_type": "markdown",
      "id": "53117cc0",
      "metadata": {
        "id": "53117cc0"
      },
      "source": [
        "7. Declare a function named print_list. It takes a list as a parameter and prints out each\n",
        "element of the list."
      ]
    },
    {
      "cell_type": "code",
      "execution_count": null,
      "id": "7b0e92e9",
      "metadata": {
        "colab": {
          "base_uri": "https://localhost:8080/"
        },
        "id": "7b0e92e9",
        "outputId": "244cb044-08aa-4314-837b-e720ac820e33"
      },
      "outputs": [
        {
          "output_type": "stream",
          "name": "stdout",
          "text": [
            "1\n",
            "2\n",
            "4\n",
            "5\n"
          ]
        }
      ],
      "source": [
        "def print_list(elements):\n",
        "    \"\"\"\n",
        "    This Function takes the list and prints out each element of the list.\n",
        "\n",
        "    Args:\n",
        "        elements (list): list of elements\n",
        "\n",
        "    Returns:\n",
        "        elments of the list\n",
        "    \"\"\"\n",
        "    for elm in elements:\n",
        "        print(f\"{elm}\",end=\"\\n\")\n",
        "\n",
        "print_list([1,2,4,5])"
      ]
    },
    {
      "cell_type": "markdown",
      "id": "67b00dab",
      "metadata": {
        "id": "67b00dab"
      },
      "source": [
        "8. Declare a function named reverse_list. It takes an array as a parameter and returns the\n",
        "reverse of the array (use loops)."
      ]
    },
    {
      "cell_type": "code",
      "execution_count": null,
      "id": "d69699c9",
      "metadata": {
        "colab": {
          "base_uri": "https://localhost:8080/"
        },
        "id": "d69699c9",
        "outputId": "71027425-fc9c-4f49-b9f9-c0ce22c48224"
      },
      "outputs": [
        {
          "output_type": "execute_result",
          "data": {
            "text/plain": [
              "[3, 2, 1]"
            ]
          },
          "metadata": {},
          "execution_count": 24
        }
      ],
      "source": [
        "# The main trick is to reverse the index range(start, stop, step), Step = -1 counts the numbers backwards\n",
        "def reverse_list(arr):\n",
        "    \"\"\"\n",
        "    This Function takes the list and prints out each element in reverse\n",
        "\n",
        "    Args:\n",
        "        arr (list): list of elements\n",
        "\n",
        "    Returns:\n",
        "        elments of the list in reverse\n",
        "    \"\"\"\n",
        "    rev_list = []\n",
        "    for i in range(len(arr) - 1, -1, -1):  # Iterate from last index to 0\n",
        "        rev_list.append(arr[i])\n",
        "\n",
        "    return rev_list\n",
        "\n",
        "reverse_list([1,2,3])"
      ]
    },
    {
      "cell_type": "markdown",
      "id": "2c5c729f",
      "metadata": {
        "id": "2c5c729f"
      },
      "source": [
        "9. Declare a function named capitalize_list_items. It takes a list as a parameter and returns a\n",
        "capitalized list of items."
      ]
    },
    {
      "cell_type": "code",
      "execution_count": null,
      "id": "17dec225",
      "metadata": {
        "colab": {
          "base_uri": "https://localhost:8080/"
        },
        "id": "17dec225",
        "outputId": "b955138d-907d-419c-9acf-252cd06b9f04"
      },
      "outputs": [
        {
          "output_type": "stream",
          "name": "stdout",
          "text": [
            "['Rakshit', 'Dheer', 'Max']\n"
          ]
        }
      ],
      "source": [
        "def capitalize_list_items(items):\n",
        "    \"\"\"\n",
        "    This Function takes the list and prints out each string with first letter capitalized\n",
        "\n",
        "    Args:\n",
        "        arr (list): list of elements\n",
        "\n",
        "    Returns:\n",
        "        elements of the list with first letter capitalized\n",
        "    \"\"\"\n",
        "    cap_items = []\n",
        "    for item in items:\n",
        "        cap_items.append(item.capitalize())\n",
        "    return cap_items\n",
        "\n",
        "print(capitalize_list_items([\"rakshit\",\"dheer\",\"max\"]))"
      ]
    },
    {
      "cell_type": "markdown",
      "id": "08debddb",
      "metadata": {
        "id": "08debddb"
      },
      "source": [
        "10. Declare a function named add_item. It takes a list and an item as parameters. It returns a list\n",
        "with the item added at the end."
      ]
    },
    {
      "cell_type": "code",
      "execution_count": null,
      "id": "afc26dec",
      "metadata": {
        "colab": {
          "base_uri": "https://localhost:8080/"
        },
        "id": "afc26dec",
        "outputId": "6b88800f-69ec-4d01-9e42-89aa0118d837"
      },
      "outputs": [
        {
          "output_type": "stream",
          "name": "stdout",
          "text": [
            "[1, 2, 3, 4]\n"
          ]
        }
      ],
      "source": [
        "def add_item(items,item):\n",
        "    \"\"\"\n",
        "    This Function takes the list and adds the item at the end of the list\n",
        "\n",
        "    Args:\n",
        "        arr (list): list of elements\n",
        "\n",
        "    Returns:\n",
        "        elements of the list with item added at the end\n",
        "    \"\"\"\n",
        "    items.append(item)\n",
        "    return items\n",
        "\n",
        "print(add_item([1,2,3],4))"
      ]
    },
    {
      "cell_type": "markdown",
      "id": "946e0df6",
      "metadata": {
        "id": "946e0df6"
      },
      "source": [
        "11.Declare a function named remove_item. It takes a list and an item as parameters. It returns\n",
        "a list with the item removed from it."
      ]
    },
    {
      "cell_type": "code",
      "execution_count": null,
      "id": "9631e50b",
      "metadata": {
        "colab": {
          "base_uri": "https://localhost:8080/"
        },
        "id": "9631e50b",
        "outputId": "80d425e8-39e5-46b3-8a22-717612135b4e"
      },
      "outputs": [
        {
          "output_type": "stream",
          "name": "stdout",
          "text": [
            "Item not in list\n",
            "\n"
          ]
        }
      ],
      "source": [
        "def remove_item(items,item):\n",
        "    \"\"\"\n",
        "    This Function takes the list and removes the item from the list\n",
        "\n",
        "    Args:\n",
        "        arr (list): list of elements\n",
        "\n",
        "    Returns:\n",
        "        elements of the list with item removed\n",
        "    \"\"\"\n",
        "    if item in items:\n",
        "        items.remove(item)\n",
        "        return items\n",
        "    else:\n",
        "        print(\"Item not in list\")\n",
        "        return \"\"\n",
        "\n",
        "\n",
        "print(remove_item([1,2,3],4))"
      ]
    },
    {
      "cell_type": "markdown",
      "id": "85983224",
      "metadata": {
        "id": "85983224"
      },
      "source": [
        "12. Declare a function named sum_of_numbers. It takes a number parameter and adds all the\n",
        "numbers in that range."
      ]
    },
    {
      "cell_type": "code",
      "execution_count": null,
      "id": "15bfc9d5",
      "metadata": {
        "colab": {
          "base_uri": "https://localhost:8080/"
        },
        "id": "15bfc9d5",
        "outputId": "8bb172d7-1cc5-429f-f70d-708aca19f857"
      },
      "outputs": [
        {
          "output_type": "stream",
          "name": "stdout",
          "text": [
            "15\n"
          ]
        }
      ],
      "source": [
        "def sum_of_numbers(num):\n",
        "    \"\"\"\n",
        "    This Function takes the number and adds all the digits present in that number\n",
        "    Args:\n",
        "        num (int): number\n",
        "\n",
        "    Returns:\n",
        "       sum of digits in a number\n",
        "    \"\"\"\n",
        "    sum_num = 0\n",
        "    while num != 0:\n",
        "        dig = num % 10\n",
        "        sum_num = sum_num + dig\n",
        "        num = num // 10\n",
        "    return sum_num\n",
        "\n",
        "print(sum_of_numbers(12345))"
      ]
    },
    {
      "cell_type": "markdown",
      "id": "4519ee06",
      "metadata": {
        "id": "4519ee06"
      },
      "source": [
        "13. Declare a function named sum_of_odds. It takes a number parameter and adds all the odd\n",
        "numbers in that range.\n"
      ]
    },
    {
      "cell_type": "code",
      "execution_count": null,
      "id": "878a282c",
      "metadata": {
        "colab": {
          "base_uri": "https://localhost:8080/"
        },
        "id": "878a282c",
        "outputId": "a2c27f00-3527-45f7-dd4c-5200d486d884"
      },
      "outputs": [
        {
          "output_type": "stream",
          "name": "stdout",
          "text": [
            "4\n"
          ]
        }
      ],
      "source": [
        "def sum_of_odds(num):\n",
        "    \"\"\"\n",
        "    This Function takes the number and adds all the odd digits present in that number\n",
        "    Args:\n",
        "        num (int): number\n",
        "\n",
        "    Returns:\n",
        "       sum of odd digits in a number\n",
        "    \"\"\"\n",
        "    sum_num = 0\n",
        "    while num != 0:\n",
        "        dig = num % 10\n",
        "        if dig % 2 != 0:\n",
        "            sum_num = sum_num + dig\n",
        "        num = num // 10\n",
        "    return sum_num\n",
        "\n",
        "print(sum_of_odds(1234))"
      ]
    },
    {
      "cell_type": "markdown",
      "id": "e12abf32",
      "metadata": {
        "id": "e12abf32"
      },
      "source": [
        "14. Declare a function named sum_of_even. It takes a number parameter and adds all the even\n",
        "numbers in that range."
      ]
    },
    {
      "cell_type": "code",
      "execution_count": null,
      "id": "05bc8c2b",
      "metadata": {
        "colab": {
          "base_uri": "https://localhost:8080/"
        },
        "id": "05bc8c2b",
        "outputId": "0cf8b063-9197-4252-b85b-8215de723e93"
      },
      "outputs": [
        {
          "output_type": "stream",
          "name": "stdout",
          "text": [
            "6\n"
          ]
        }
      ],
      "source": [
        "def sum_of_even(num):\n",
        "    \"\"\"\n",
        "    This Function takes the number and adds all the even digits present in that number\n",
        "    Args:\n",
        "        num (int): number\n",
        "\n",
        "    Returns:\n",
        "       sum of even digits in a number\n",
        "    \"\"\"\n",
        "    sum_num = 0\n",
        "    while num != 0:\n",
        "        dig = num % 10\n",
        "        if dig % 2 == 0:\n",
        "            sum_num = sum_num + dig\n",
        "        num = num // 10\n",
        "    return sum_num\n",
        "\n",
        "print(sum_of_even(1234))"
      ]
    },
    {
      "cell_type": "markdown",
      "id": "836fdd76",
      "metadata": {
        "id": "836fdd76"
      },
      "source": [
        "\n",
        "15. Declare a function named evens_and_odds. It takes a positive integer as a parameter and\n",
        "counts the number of evens and odds in the number."
      ]
    },
    {
      "cell_type": "code",
      "execution_count": null,
      "id": "19e0313a",
      "metadata": {
        "id": "19e0313a",
        "outputId": "41697fc3-930b-4521-e986-b8b84aa16779"
      },
      "outputs": [
        {
          "name": "stdout",
          "output_type": "stream",
          "text": [
            "The Number of even and odds are 2 and 1 respectively\n"
          ]
        }
      ],
      "source": [
        "def even_and_odds(num):\n",
        "    \"\"\"\n",
        "    This Function takes the number and counts the number of evens and odds in the number\n",
        "    Args:\n",
        "        num (int): number\n",
        "\n",
        "    Returns:\n",
        "       count of even and odd digits in a number as a list\n",
        "    \"\"\"\n",
        "    count_even = 0\n",
        "    count_odd = 0\n",
        "    while num != 0:\n",
        "        dig = num % 10\n",
        "        if dig % 2 == 0:\n",
        "            count_even = count_even+  1\n",
        "        else:\n",
        "            count_odd = count_odd + 1\n",
        "        num = num // 10\n",
        "    return [count_even,count_odd]\n",
        "ans = even_and_odds(234)\n",
        "print(f\"The Number of even and odds are {ans[0]} and {ans[1]} respectively\")"
      ]
    },
    {
      "cell_type": "markdown",
      "id": "a0d4f5d0",
      "metadata": {
        "id": "a0d4f5d0"
      },
      "source": [
        "16. Call your function factorial, it takes a whole number as a parameter and returns its factorial."
      ]
    },
    {
      "cell_type": "code",
      "execution_count": null,
      "id": "0e69ac59",
      "metadata": {
        "id": "0e69ac59",
        "outputId": "14b1a948-9a1f-47b8-e0ca-7e6592e6f461"
      },
      "outputs": [
        {
          "name": "stdout",
          "output_type": "stream",
          "text": [
            "The Factorial is :  120\n"
          ]
        }
      ],
      "source": [
        "def factorial(num):\n",
        "    \"\"\"\n",
        "    This Function takes the number and calculates the factorial of the number\n",
        "    Args:\n",
        "        num (int): number\n",
        "\n",
        "    Returns:\n",
        "       factorial of a number\n",
        "    \"\"\"\n",
        "    fact = 1\n",
        "    for i in range(1,num+1):\n",
        "        fact = fact * i\n",
        "    return fact\n",
        "\n",
        "print(\"The Factorial is : \", factorial(5))"
      ]
    },
    {
      "cell_type": "markdown",
      "id": "66f71e4a",
      "metadata": {
        "id": "66f71e4a"
      },
      "source": [
        "17.Call your function is_empty, it takes a parameter and checks if it is empty or not."
      ]
    },
    {
      "cell_type": "code",
      "execution_count": null,
      "id": "bc5662e9",
      "metadata": {
        "colab": {
          "base_uri": "https://localhost:8080/"
        },
        "id": "bc5662e9",
        "outputId": "176762cd-d26d-49c9-c3af-8b725a4356e1"
      },
      "outputs": [
        {
          "output_type": "execute_result",
          "data": {
            "text/plain": [
              "True"
            ]
          },
          "metadata": {},
          "execution_count": 36
        }
      ],
      "source": [
        "def is_empty(param):\n",
        "    \"\"\"\n",
        "    This Function takes a parameter and checks if it is empty or not\n",
        "    The Function check empy based on the len for string, list, dictionary, tuple, set\n",
        "\n",
        "    Args:\n",
        "        param\n",
        "\n",
        "    Returns:\n",
        "       True (Empty) or False (Not Empty)\n",
        "    \"\"\"\n",
        "    if param is None:\n",
        "        return True\n",
        "    if isinstance(param, (str, list, dict, tuple, set)):  # Check common iterable types\n",
        "        return len(param) == 0\n",
        "    return False\n",
        "is_empty([])"
      ]
    },
    {
      "cell_type": "markdown",
      "id": "c2c07dd7",
      "metadata": {
        "id": "c2c07dd7"
      },
      "source": [
        "18. Write a different function which take lists. They should calculate_mean, calculate_median,\n",
        "calculate_mode, calculate_range, calculate_variance, and calculate_std (standard\n",
        "deviation)."
      ]
    },
    {
      "cell_type": "code",
      "execution_count": null,
      "id": "54c723b2",
      "metadata": {
        "colab": {
          "base_uri": "https://localhost:8080/"
        },
        "id": "54c723b2",
        "outputId": "e6889818-41b9-482d-cdb3-fc948fd0b4a6"
      },
      "outputs": [
        {
          "output_type": "stream",
          "name": "stdout",
          "text": [
            "The Mean :  2.0\n",
            "The Median :  2\n",
            "The Mode :  [1, 2, 3]\n",
            "The Range :  2\n",
            "The Variance :  0.6666666666666666\n",
            "The Standard Deviation :  0.816496580927726\n"
          ]
        }
      ],
      "source": [
        "from collections import Counter\n",
        "import math\n",
        "\n",
        "def calculate_mean(nums):\n",
        "    \"\"\"\n",
        "    This Function takes a list of numbers and calculates the mean of the numbers\n",
        "    Args:\n",
        "        list of numbers\n",
        "\n",
        "    Returns:\n",
        "       mean of the numbers\n",
        "    \"\"\"\n",
        "    mean = 0\n",
        "    for num in nums:\n",
        "        mean = mean + num\n",
        "    return mean/len(nums)\n",
        "\n",
        "def calculate_median(nums):\n",
        "    \"\"\"\n",
        "    This Function takes a list of numbers and calculates the median of the numbers\n",
        "    Args:\n",
        "        list of numbers\n",
        "    Returns:\n",
        "       median of the numbers\n",
        "    \"\"\"\n",
        "    sorted_lst = sorted(nums)\n",
        "    n = len(sorted_lst)\n",
        "    mid = n // 2\n",
        "    if n % 2 == 1:\n",
        "        return sorted_lst[mid]\n",
        "    return (sorted_lst[mid - 1] + sorted_lst[mid]) / 2\n",
        "\n",
        "def calculate_mode(nums):\n",
        "    \"\"\"\n",
        "    This Function takes a list of numbers and calculates the mode of the numbers\n",
        "    Args:\n",
        "        list of numbers\n",
        "    Returns:\n",
        "       mode of the numbers\n",
        "    \"\"\"\n",
        "    # Creates a Counter object (a dictionary subclass) that counts occurrences of each element in nums\n",
        "    counts = Counter(nums)\n",
        "    # Gets all the count values from the Counter (using .values()). Finds the maximum value among them\n",
        "    max_count = max(counts.values())\n",
        "    modes = [num for num, count in counts.items() if count == max_count]\n",
        "    return modes[0] if len(modes) == 1 else modes\n",
        "\n",
        "def calculate_range(nums):\n",
        "    \"\"\"\n",
        "    This Function takes a list of numbers and calculates the range of the numbers\n",
        "    Args:\n",
        "        list of numbers\n",
        "    Returns:\n",
        "       range of the numbers\n",
        "    \"\"\"\n",
        "    return max(nums) - min(nums)\n",
        "\n",
        "def calculate_variance(nums):\n",
        "    \"\"\"\n",
        "    This Function takes a list of numbers and calculates the variance of the numbers\n",
        "    Args:\n",
        "        list of numbers\n",
        "    Returns:\n",
        "       variance of the numbers\n",
        "    \"\"\"\n",
        "    mean = calculate_mean(nums)\n",
        "    # Calculate the squared differences from the mean for each number\n",
        "    # We also used the List Comphrension\n",
        "    squared_diffs = [(x - mean) ** 2 for x in nums]\n",
        "    return sum(squared_diffs) / len(nums)\n",
        "\n",
        "def calculate_std(nums):\n",
        "    \"\"\"\n",
        "    This Function takes a list of numbers and calculates the standard Deviation of the numbers\n",
        "    Args:\n",
        "        list of numbers\n",
        "    Returns:\n",
        "       standard Deviation of the numbers\n",
        "    \"\"\"\n",
        "    return math.sqrt(calculate_variance(nums))\n",
        "\n",
        "inp_list = [1,2,3]\n",
        "print(\"The Mean : \",calculate_mean(inp_list))\n",
        "print(\"The Median : \",calculate_median(inp_list))\n",
        "print(\"The Mode : \",calculate_mode(inp_list))\n",
        "print(\"The Range : \",calculate_range(inp_list))\n",
        "print(\"The Variance : \",calculate_variance(inp_list))\n",
        "print(\"The Standard Deviation : \",calculate_std(inp_list))"
      ]
    },
    {
      "cell_type": "code",
      "execution_count": null,
      "id": "48729273",
      "metadata": {
        "id": "48729273"
      },
      "outputs": [],
      "source": []
    }
  ],
  "metadata": {
    "kernelspec": {
      "display_name": "Python 3 (ipykernel)",
      "language": "python",
      "name": "python3"
    },
    "language_info": {
      "codemirror_mode": {
        "name": "ipython",
        "version": 3
      },
      "file_extension": ".py",
      "mimetype": "text/x-python",
      "name": "python",
      "nbconvert_exporter": "python",
      "pygments_lexer": "ipython3",
      "version": "3.10.10"
    },
    "colab": {
      "provenance": [],
      "include_colab_link": true
    }
  },
  "nbformat": 4,
  "nbformat_minor": 5
}