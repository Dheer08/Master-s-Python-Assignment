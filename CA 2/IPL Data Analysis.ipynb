{
 "cells": [
  {
   "cell_type": "markdown",
   "id": "9994fed3",
   "metadata": {
    "papermill": {
     "duration": 0.018581,
     "end_time": "2025-04-06T11:41:55.650068",
     "exception": false,
     "start_time": "2025-04-06T11:41:55.631487",
     "status": "completed"
    },
    "tags": []
   },
   "source": [
    "<a id=\"Title\"></a>\n",
    "# <div style=\"text-align: center;background-color: #2E8B57;color: white;padding: 12px;font-size: 28px;font-family: 'Arial', sans-serif;font-weight: bold;border-radius: 12px;box-shadow: 2px 4px 10px rgba(0, 0, 0, 0.2);width: 95%;margin: auto;\"><b>IPL Data Analysis: Trends, Patterns, and Performance Insights</b></div>"
   ]
  },
  {
   "cell_type": "markdown",
   "id": "6877b716",
   "metadata": {
    "papermill": {
     "duration": 0.017605,
     "end_time": "2025-04-06T11:41:55.687151",
     "exception": false,
     "start_time": "2025-04-06T11:41:55.669546",
     "status": "completed"
    },
    "tags": []
   },
   "source": [
    "\n",
    "\n",
    "<a id=\"About\"></a>\n",
    "<div style=\"text-align:center; border-radius:15px 50px; padding:10px; overflow:hidden;\">\n",
    "<img src='https://i.postimg.cc/76kz84zn/Chat-GPT-Image-Apr-9-2025-11-49-00-PM.png' border='0' alt='Poster Image'\n",
    "style=\"width:100%; max-width:800px; border: 5px solid #1F2A40; border-radius: 10px; display:block; margin:auto;\"/>\n",
    "</div>\n"
   ]
  },
  {
   "cell_type": "markdown",
   "id": "8ccada85",
   "metadata": {
    "papermill": {
     "duration": 0.017111,
     "end_time": "2025-04-06T11:41:55.757173",
     "exception": false,
     "start_time": "2025-04-06T11:41:55.740062",
     "status": "completed"
    },
    "tags": []
   },
   "source": [
    "<a id=\"Title\"></a>\n",
    "# <div style=\"text-align: center;background-color: #2E8B57;color: white;padding: 12px;font-size: 28px;font-family: 'Arial', sans-serif;font-weight: bold;border-radius: 12px;box-shadow: 2px 4px 10px rgba(0, 0, 0, 0.2);width: 95%;margin: auto;\"><b>Overview of the Dataset</b></div>\n",
    "\n",
    "<div style=\"\n",
    "    background-color: white;\n",
    "    padding: 20px;\n",
    "    border-radius: 12px;\n",
    "    box-shadow: 0 4px 12px rgba(0, 0, 0, 0.1);\n",
    "    border-left: 5px solid #1F2A40;\n",
    "    max-width: 800px;\n",
    "    margin: 20px auto;\n",
    "    font-family: 'Arial', sans-serif;\n",
    "    backdrop-filter: blur(8px);\n",
    "\">\n",
    "    <p style=\"font-size: 16px; color: #333; text-align: justify; line-height: 1.6;\">\n",
    "        📊 The dataset contains comprehensive records of <b>Indian Premier League (IPL)</b> matches, including \n",
    "        <b>ball-by-ball data</b>, <b>player performances</b>, and <b>team statistics</b>. It provides detailed insights into \n",
    "        <b>runs scored</b>, <b>wickets taken</b>, extras, dismissal types, and match results.\n",
    "    </p>\n",
    "\n",
    "<p style=\"font-size: 16px; color: #333; text-align: justify; line-height: 1.6;\">\n",
    "        The dataset is structured into multiple columns covering <b>batting, bowling, and match details</b>, making it a valuable \n",
    "        resource for <i>cricket analytics</i>. By analyzing this dataset, we can identify <b>team performances</b>, \n",
    "        <b>player consistency</b>, and <b>historical trends</b>.\n",
    "    </p>\n",
    "\n",
    "<h2 style=\"color: #1F2A40; text-align: center;\">Key Metrics Analyzed</h2>\n",
    "\n",
    "<ul style=\"\n",
    "        list-style-type: none;\n",
    "        padding: 0 30px;\n",
    "        font-size: 16px;\n",
    "        line-height: 1.7;\n",
    "        color: #333;\n",
    "    \">\n",
    "        <li>✅ <b>Strike Rates</b> – Evaluating batting impact</li>\n",
    "        <li>✅ <b>Economy Rates</b> – Measuring bowling efficiency</li>\n",
    "        <li>✅ <b>Batting Averages</b> – Assessing player consistency</li>\n",
    "        <li>✅ <b>Wicket-taking Abilities</b> – Identifying key bowlers</li>\n",
    "    </ul>\n",
    "</div>\n"
   ]
  },
  {
   "cell_type": "markdown",
   "id": "d5d2f8e4",
   "metadata": {
    "papermill": {
     "duration": 0.016811,
     "end_time": "2025-04-06T11:41:55.791243",
     "exception": false,
     "start_time": "2025-04-06T11:41:55.774432",
     "status": "completed"
    },
    "tags": []
   },
   "source": [
    "<a id=\"Objectives\"></a>\n",
    "# <div style=\"text-align: center;background-color: #2E8B57;color: white;padding: 12px;font-size: 28px;font-family: 'Arial', sans-serif;font-weight: bold;border-radius: 12px;box-shadow: 2px 4px 10px rgba(0, 0, 0, 0.2);width: 95%;margin: auto;\"><b>Objectives of the Analysis</b></div>\n",
    "\n",
    "\n",
    "<div style=\"\n",
    "    background-color: white;\n",
    "    padding: 20px;\n",
    "    border-radius: 12px;\n",
    "    box-shadow: 0 4px 12px rgba(0, 0, 0, 0.1);\n",
    "    border-left: 5px solid #1F2A40;\n",
    "    max-width: 800px;\n",
    "    margin: 20px auto;\n",
    "    font-family: 'Arial', sans-serif;\n",
    "    backdrop-filter: blur(8px);\n",
    "\">\n",
    "    <p style=\"font-size: 16px; color: #333; text-align: justify; line-height: 1.6;\">\n",
    "        🎯 The primary goal of this project is to perform <b>Exploratory Data Analysis (EDA)</b> to uncover \n",
    "        valuable patterns in <b>IPL matches</b> and develop an <b>API</b> that provides useful \n",
    "        <i>cricket insights</i> to developers.\n",
    "    </p>\n",
    "\n",
    "<h2 style=\"color: #1F2A40; text-align: center;\">Analysis Objectives</h2>\n",
    "\n",
    "<ul style=\"\n",
    "        list-style-type: none;\n",
    "        padding: 0 30px;\n",
    "        font-size: 16px;\n",
    "        line-height: 1.7;\n",
    "        color: #333;\n",
    "    \">\n",
    "        <li>✅ <b>Understand team performances</b> across seasons</li>\n",
    "        <li>✅ Identify <b>top-performing players</b> (batsmen and bowlers)</li>\n",
    "        <li>✅ Analyze <b>trends</b> in scoring, bowling economy, and match outcomes</li>\n",
    "        <li>✅ Explore <b>factors influencing match results</b> (e.g., batting first vs. chasing)</li>\n",
    "        <li>✅ Generate <b>visual insights</b> to support data-driven conclusions</li>\n",
    "    </ul>\n",
    "</div>\n"
   ]
  },
  {
   "cell_type": "code",
   "execution_count": 81,
   "id": "4fa338f5",
   "metadata": {
    "execution": {
     "iopub.execute_input": "2025-04-06T11:41:55.828249Z",
     "iopub.status.busy": "2025-04-06T11:41:55.827688Z",
     "iopub.status.idle": "2025-04-06T11:41:57.444167Z",
     "shell.execute_reply": "2025-04-06T11:41:57.443239Z"
    },
    "papermill": {
     "duration": 1.636969,
     "end_time": "2025-04-06T11:41:57.446058",
     "exception": false,
     "start_time": "2025-04-06T11:41:55.809089",
     "status": "completed"
    },
    "tags": []
   },
   "outputs": [],
   "source": [
    "# importing necessary libraries for data analysis\n",
    "import pandas as pd # pandas for data manupulation \n",
    "import numpy as np # numpy for numerical operations\n",
    "import matplotlib.pyplot as plt # pyplot for simple plots\n",
    "import seaborn as sns # seaborn for advanced plots"
   ]
  },
  {
   "cell_type": "markdown",
   "id": "27bcd861",
   "metadata": {
    "papermill": {
     "duration": 0.017337,
     "end_time": "2025-04-06T11:41:57.481102",
     "exception": false,
     "start_time": "2025-04-06T11:41:57.463765",
     "status": "completed"
    },
    "tags": []
   },
   "source": [
    "<a id=\"Title\"></a>\n",
    "# <div style=\"text-align: center;background-color: #2E8B57;color: white;padding: 12px;font-size: 28px;font-family: 'Arial', sans-serif;font-weight: bold;border-radius: 12px;box-shadow: 2px 4px 10px rgba(0, 0, 0, 0.2);width: 95%;margin: auto;\"><b>Dataset Overview</b></div>\n"
   ]
  },
  {
   "cell_type": "markdown",
   "id": "1a126c1c",
   "metadata": {
    "papermill": {
     "duration": 0.016977,
     "end_time": "2025-04-06T11:41:57.515469",
     "exception": false,
     "start_time": "2025-04-06T11:41:57.498492",
     "status": "completed"
    },
    "tags": []
   },
   "source": [
    "<a id=\"Title\"></a>\n",
    "## <div style=\"text-align: center; background-color: #2E8B57; color: white; padding: 8px; font-size: 20px; font-family: 'Arial', sans-serif; font-weight: bold; border-radius: 10px; box-shadow: 1px 2px 8px rgba(0, 0, 0, 0.15); width: 90%; margin: auto;\"><b>Loading and inspecting the dataset</b></div>\n"
   ]
  },
  {
   "cell_type": "code",
   "execution_count": 82,
   "id": "594453c8",
   "metadata": {
    "execution": {
     "iopub.execute_input": "2025-04-06T11:41:57.551917Z",
     "iopub.status.busy": "2025-04-06T11:41:57.551356Z",
     "iopub.status.idle": "2025-04-06T11:41:58.314609Z",
     "shell.execute_reply": "2025-04-06T11:41:58.313721Z"
    },
    "papermill": {
     "duration": 0.783772,
     "end_time": "2025-04-06T11:41:58.316421",
     "exception": false,
     "start_time": "2025-04-06T11:41:57.532649",
     "status": "completed"
    },
    "tags": []
   },
   "outputs": [],
   "source": [
    "matches = pd.read_csv('matches.csv')\n",
    "deliveries = pd.read_csv('deliveries.csv')"
   ]
  },
  {
   "cell_type": "code",
   "execution_count": 84,
   "id": "3f4a8d46",
   "metadata": {
    "execution": {
     "iopub.execute_input": "2025-04-06T11:41:58.352455Z",
     "iopub.status.busy": "2025-04-06T11:41:58.352101Z",
     "iopub.status.idle": "2025-04-06T11:41:58.384962Z",
     "shell.execute_reply": "2025-04-06T11:41:58.383950Z"
    },
    "papermill": {
     "duration": 0.052815,
     "end_time": "2025-04-06T11:41:58.386792",
     "exception": false,
     "start_time": "2025-04-06T11:41:58.333977",
     "status": "completed"
    },
    "tags": []
   },
   "outputs": [
    {
     "data": {
      "text/html": [
       "<div>\n",
       "<style scoped>\n",
       "    .dataframe tbody tr th:only-of-type {\n",
       "        vertical-align: middle;\n",
       "    }\n",
       "\n",
       "    .dataframe tbody tr th {\n",
       "        vertical-align: top;\n",
       "    }\n",
       "\n",
       "    .dataframe thead th {\n",
       "        text-align: right;\n",
       "    }\n",
       "</style>\n",
       "<table border=\"1\" class=\"dataframe\">\n",
       "  <thead>\n",
       "    <tr style=\"text-align: right;\">\n",
       "      <th></th>\n",
       "      <th>id</th>\n",
       "      <th>season</th>\n",
       "      <th>city</th>\n",
       "      <th>date</th>\n",
       "      <th>match_type</th>\n",
       "      <th>player_of_match</th>\n",
       "      <th>venue</th>\n",
       "      <th>team1</th>\n",
       "      <th>team2</th>\n",
       "      <th>toss_winner</th>\n",
       "      <th>toss_decision</th>\n",
       "      <th>winner</th>\n",
       "      <th>result</th>\n",
       "      <th>result_margin</th>\n",
       "      <th>target_runs</th>\n",
       "      <th>target_overs</th>\n",
       "      <th>super_over</th>\n",
       "      <th>method</th>\n",
       "      <th>umpire1</th>\n",
       "      <th>umpire2</th>\n",
       "    </tr>\n",
       "  </thead>\n",
       "  <tbody>\n",
       "    <tr>\n",
       "      <th>0</th>\n",
       "      <td>335982</td>\n",
       "      <td>2007/08</td>\n",
       "      <td>Bangalore</td>\n",
       "      <td>2008-04-18</td>\n",
       "      <td>League</td>\n",
       "      <td>BB McCullum</td>\n",
       "      <td>M Chinnaswamy Stadium</td>\n",
       "      <td>Royal Challengers Bangalore</td>\n",
       "      <td>Kolkata Knight Riders</td>\n",
       "      <td>Royal Challengers Bangalore</td>\n",
       "      <td>field</td>\n",
       "      <td>Kolkata Knight Riders</td>\n",
       "      <td>runs</td>\n",
       "      <td>140.0</td>\n",
       "      <td>223.0</td>\n",
       "      <td>20.0</td>\n",
       "      <td>N</td>\n",
       "      <td>NaN</td>\n",
       "      <td>Asad Rauf</td>\n",
       "      <td>RE Koertzen</td>\n",
       "    </tr>\n",
       "    <tr>\n",
       "      <th>1</th>\n",
       "      <td>335983</td>\n",
       "      <td>2007/08</td>\n",
       "      <td>Chandigarh</td>\n",
       "      <td>2008-04-19</td>\n",
       "      <td>League</td>\n",
       "      <td>MEK Hussey</td>\n",
       "      <td>Punjab Cricket Association Stadium, Mohali</td>\n",
       "      <td>Kings XI Punjab</td>\n",
       "      <td>Chennai Super Kings</td>\n",
       "      <td>Chennai Super Kings</td>\n",
       "      <td>bat</td>\n",
       "      <td>Chennai Super Kings</td>\n",
       "      <td>runs</td>\n",
       "      <td>33.0</td>\n",
       "      <td>241.0</td>\n",
       "      <td>20.0</td>\n",
       "      <td>N</td>\n",
       "      <td>NaN</td>\n",
       "      <td>MR Benson</td>\n",
       "      <td>SL Shastri</td>\n",
       "    </tr>\n",
       "    <tr>\n",
       "      <th>2</th>\n",
       "      <td>335984</td>\n",
       "      <td>2007/08</td>\n",
       "      <td>Delhi</td>\n",
       "      <td>2008-04-19</td>\n",
       "      <td>League</td>\n",
       "      <td>MF Maharoof</td>\n",
       "      <td>Feroz Shah Kotla</td>\n",
       "      <td>Delhi Daredevils</td>\n",
       "      <td>Rajasthan Royals</td>\n",
       "      <td>Rajasthan Royals</td>\n",
       "      <td>bat</td>\n",
       "      <td>Delhi Daredevils</td>\n",
       "      <td>wickets</td>\n",
       "      <td>9.0</td>\n",
       "      <td>130.0</td>\n",
       "      <td>20.0</td>\n",
       "      <td>N</td>\n",
       "      <td>NaN</td>\n",
       "      <td>Aleem Dar</td>\n",
       "      <td>GA Pratapkumar</td>\n",
       "    </tr>\n",
       "    <tr>\n",
       "      <th>3</th>\n",
       "      <td>335985</td>\n",
       "      <td>2007/08</td>\n",
       "      <td>Mumbai</td>\n",
       "      <td>2008-04-20</td>\n",
       "      <td>League</td>\n",
       "      <td>MV Boucher</td>\n",
       "      <td>Wankhede Stadium</td>\n",
       "      <td>Mumbai Indians</td>\n",
       "      <td>Royal Challengers Bangalore</td>\n",
       "      <td>Mumbai Indians</td>\n",
       "      <td>bat</td>\n",
       "      <td>Royal Challengers Bangalore</td>\n",
       "      <td>wickets</td>\n",
       "      <td>5.0</td>\n",
       "      <td>166.0</td>\n",
       "      <td>20.0</td>\n",
       "      <td>N</td>\n",
       "      <td>NaN</td>\n",
       "      <td>SJ Davis</td>\n",
       "      <td>DJ Harper</td>\n",
       "    </tr>\n",
       "    <tr>\n",
       "      <th>4</th>\n",
       "      <td>335986</td>\n",
       "      <td>2007/08</td>\n",
       "      <td>Kolkata</td>\n",
       "      <td>2008-04-20</td>\n",
       "      <td>League</td>\n",
       "      <td>DJ Hussey</td>\n",
       "      <td>Eden Gardens</td>\n",
       "      <td>Kolkata Knight Riders</td>\n",
       "      <td>Deccan Chargers</td>\n",
       "      <td>Deccan Chargers</td>\n",
       "      <td>bat</td>\n",
       "      <td>Kolkata Knight Riders</td>\n",
       "      <td>wickets</td>\n",
       "      <td>5.0</td>\n",
       "      <td>111.0</td>\n",
       "      <td>20.0</td>\n",
       "      <td>N</td>\n",
       "      <td>NaN</td>\n",
       "      <td>BF Bowden</td>\n",
       "      <td>K Hariharan</td>\n",
       "    </tr>\n",
       "  </tbody>\n",
       "</table>\n",
       "</div>"
      ],
      "text/plain": [
       "       id   season        city        date match_type player_of_match  \\\n",
       "0  335982  2007/08   Bangalore  2008-04-18     League     BB McCullum   \n",
       "1  335983  2007/08  Chandigarh  2008-04-19     League      MEK Hussey   \n",
       "2  335984  2007/08       Delhi  2008-04-19     League     MF Maharoof   \n",
       "3  335985  2007/08      Mumbai  2008-04-20     League      MV Boucher   \n",
       "4  335986  2007/08     Kolkata  2008-04-20     League       DJ Hussey   \n",
       "\n",
       "                                        venue                        team1  \\\n",
       "0                       M Chinnaswamy Stadium  Royal Challengers Bangalore   \n",
       "1  Punjab Cricket Association Stadium, Mohali              Kings XI Punjab   \n",
       "2                            Feroz Shah Kotla             Delhi Daredevils   \n",
       "3                            Wankhede Stadium               Mumbai Indians   \n",
       "4                                Eden Gardens        Kolkata Knight Riders   \n",
       "\n",
       "                         team2                  toss_winner toss_decision  \\\n",
       "0        Kolkata Knight Riders  Royal Challengers Bangalore         field   \n",
       "1          Chennai Super Kings          Chennai Super Kings           bat   \n",
       "2             Rajasthan Royals             Rajasthan Royals           bat   \n",
       "3  Royal Challengers Bangalore               Mumbai Indians           bat   \n",
       "4              Deccan Chargers              Deccan Chargers           bat   \n",
       "\n",
       "                        winner   result  result_margin  target_runs  \\\n",
       "0        Kolkata Knight Riders     runs          140.0        223.0   \n",
       "1          Chennai Super Kings     runs           33.0        241.0   \n",
       "2             Delhi Daredevils  wickets            9.0        130.0   \n",
       "3  Royal Challengers Bangalore  wickets            5.0        166.0   \n",
       "4        Kolkata Knight Riders  wickets            5.0        111.0   \n",
       "\n",
       "   target_overs super_over method    umpire1         umpire2  \n",
       "0          20.0          N    NaN  Asad Rauf     RE Koertzen  \n",
       "1          20.0          N    NaN  MR Benson      SL Shastri  \n",
       "2          20.0          N    NaN  Aleem Dar  GA Pratapkumar  \n",
       "3          20.0          N    NaN   SJ Davis       DJ Harper  \n",
       "4          20.0          N    NaN  BF Bowden     K Hariharan  "
      ]
     },
     "execution_count": 84,
     "metadata": {},
     "output_type": "execute_result"
    }
   ],
   "source": [
    "matches.head() # Gives you the first 5 rows of data.\n",
    "# you can look at a glance about type of data type or data in each of the column"
   ]
  },
  {
   "cell_type": "code",
   "execution_count": 85,
   "id": "45837ecf",
   "metadata": {},
   "outputs": [
    {
     "data": {
      "text/plain": [
       "(1095, 20)"
      ]
     },
     "execution_count": 85,
     "metadata": {},
     "output_type": "execute_result"
    }
   ],
   "source": [
    "matches.shape # Shape - basically number of rows and columns in a table"
   ]
  },
  {
   "cell_type": "code",
   "execution_count": 8,
   "id": "510dab9d",
   "metadata": {
    "execution": {
     "iopub.execute_input": "2025-04-06T11:41:58.424629Z",
     "iopub.status.busy": "2025-04-06T11:41:58.424266Z",
     "iopub.status.idle": "2025-04-06T11:41:58.438402Z",
     "shell.execute_reply": "2025-04-06T11:41:58.437380Z"
    },
    "papermill": {
     "duration": 0.03409,
     "end_time": "2025-04-06T11:41:58.440021",
     "exception": false,
     "start_time": "2025-04-06T11:41:58.405931",
     "status": "completed"
    },
    "tags": []
   },
   "outputs": [
    {
     "data": {
      "text/html": [
       "<div>\n",
       "<style scoped>\n",
       "    .dataframe tbody tr th:only-of-type {\n",
       "        vertical-align: middle;\n",
       "    }\n",
       "\n",
       "    .dataframe tbody tr th {\n",
       "        vertical-align: top;\n",
       "    }\n",
       "\n",
       "    .dataframe thead th {\n",
       "        text-align: right;\n",
       "    }\n",
       "</style>\n",
       "<table border=\"1\" class=\"dataframe\">\n",
       "  <thead>\n",
       "    <tr style=\"text-align: right;\">\n",
       "      <th></th>\n",
       "      <th>match_id</th>\n",
       "      <th>inning</th>\n",
       "      <th>batting_team</th>\n",
       "      <th>bowling_team</th>\n",
       "      <th>over</th>\n",
       "      <th>ball</th>\n",
       "      <th>batter</th>\n",
       "      <th>bowler</th>\n",
       "      <th>non_striker</th>\n",
       "      <th>batsman_runs</th>\n",
       "      <th>extra_runs</th>\n",
       "      <th>total_runs</th>\n",
       "      <th>extras_type</th>\n",
       "      <th>is_wicket</th>\n",
       "      <th>player_dismissed</th>\n",
       "      <th>dismissal_kind</th>\n",
       "      <th>fielder</th>\n",
       "    </tr>\n",
       "  </thead>\n",
       "  <tbody>\n",
       "    <tr>\n",
       "      <th>0</th>\n",
       "      <td>335982</td>\n",
       "      <td>1</td>\n",
       "      <td>Kolkata Knight Riders</td>\n",
       "      <td>Royal Challengers Bangalore</td>\n",
       "      <td>0</td>\n",
       "      <td>1</td>\n",
       "      <td>SC Ganguly</td>\n",
       "      <td>P Kumar</td>\n",
       "      <td>BB McCullum</td>\n",
       "      <td>0</td>\n",
       "      <td>1</td>\n",
       "      <td>1</td>\n",
       "      <td>legbyes</td>\n",
       "      <td>0</td>\n",
       "      <td>NaN</td>\n",
       "      <td>NaN</td>\n",
       "      <td>NaN</td>\n",
       "    </tr>\n",
       "    <tr>\n",
       "      <th>1</th>\n",
       "      <td>335982</td>\n",
       "      <td>1</td>\n",
       "      <td>Kolkata Knight Riders</td>\n",
       "      <td>Royal Challengers Bangalore</td>\n",
       "      <td>0</td>\n",
       "      <td>2</td>\n",
       "      <td>BB McCullum</td>\n",
       "      <td>P Kumar</td>\n",
       "      <td>SC Ganguly</td>\n",
       "      <td>0</td>\n",
       "      <td>0</td>\n",
       "      <td>0</td>\n",
       "      <td>NaN</td>\n",
       "      <td>0</td>\n",
       "      <td>NaN</td>\n",
       "      <td>NaN</td>\n",
       "      <td>NaN</td>\n",
       "    </tr>\n",
       "    <tr>\n",
       "      <th>2</th>\n",
       "      <td>335982</td>\n",
       "      <td>1</td>\n",
       "      <td>Kolkata Knight Riders</td>\n",
       "      <td>Royal Challengers Bangalore</td>\n",
       "      <td>0</td>\n",
       "      <td>3</td>\n",
       "      <td>BB McCullum</td>\n",
       "      <td>P Kumar</td>\n",
       "      <td>SC Ganguly</td>\n",
       "      <td>0</td>\n",
       "      <td>1</td>\n",
       "      <td>1</td>\n",
       "      <td>wides</td>\n",
       "      <td>0</td>\n",
       "      <td>NaN</td>\n",
       "      <td>NaN</td>\n",
       "      <td>NaN</td>\n",
       "    </tr>\n",
       "    <tr>\n",
       "      <th>3</th>\n",
       "      <td>335982</td>\n",
       "      <td>1</td>\n",
       "      <td>Kolkata Knight Riders</td>\n",
       "      <td>Royal Challengers Bangalore</td>\n",
       "      <td>0</td>\n",
       "      <td>4</td>\n",
       "      <td>BB McCullum</td>\n",
       "      <td>P Kumar</td>\n",
       "      <td>SC Ganguly</td>\n",
       "      <td>0</td>\n",
       "      <td>0</td>\n",
       "      <td>0</td>\n",
       "      <td>NaN</td>\n",
       "      <td>0</td>\n",
       "      <td>NaN</td>\n",
       "      <td>NaN</td>\n",
       "      <td>NaN</td>\n",
       "    </tr>\n",
       "    <tr>\n",
       "      <th>4</th>\n",
       "      <td>335982</td>\n",
       "      <td>1</td>\n",
       "      <td>Kolkata Knight Riders</td>\n",
       "      <td>Royal Challengers Bangalore</td>\n",
       "      <td>0</td>\n",
       "      <td>5</td>\n",
       "      <td>BB McCullum</td>\n",
       "      <td>P Kumar</td>\n",
       "      <td>SC Ganguly</td>\n",
       "      <td>0</td>\n",
       "      <td>0</td>\n",
       "      <td>0</td>\n",
       "      <td>NaN</td>\n",
       "      <td>0</td>\n",
       "      <td>NaN</td>\n",
       "      <td>NaN</td>\n",
       "      <td>NaN</td>\n",
       "    </tr>\n",
       "  </tbody>\n",
       "</table>\n",
       "</div>"
      ],
      "text/plain": [
       "   match_id  inning           batting_team                 bowling_team  over  \\\n",
       "0    335982       1  Kolkata Knight Riders  Royal Challengers Bangalore     0   \n",
       "1    335982       1  Kolkata Knight Riders  Royal Challengers Bangalore     0   \n",
       "2    335982       1  Kolkata Knight Riders  Royal Challengers Bangalore     0   \n",
       "3    335982       1  Kolkata Knight Riders  Royal Challengers Bangalore     0   \n",
       "4    335982       1  Kolkata Knight Riders  Royal Challengers Bangalore     0   \n",
       "\n",
       "   ball       batter   bowler  non_striker  batsman_runs  extra_runs  \\\n",
       "0     1   SC Ganguly  P Kumar  BB McCullum             0           1   \n",
       "1     2  BB McCullum  P Kumar   SC Ganguly             0           0   \n",
       "2     3  BB McCullum  P Kumar   SC Ganguly             0           1   \n",
       "3     4  BB McCullum  P Kumar   SC Ganguly             0           0   \n",
       "4     5  BB McCullum  P Kumar   SC Ganguly             0           0   \n",
       "\n",
       "   total_runs extras_type  is_wicket player_dismissed dismissal_kind fielder  \n",
       "0           1     legbyes          0              NaN            NaN     NaN  \n",
       "1           0         NaN          0              NaN            NaN     NaN  \n",
       "2           1       wides          0              NaN            NaN     NaN  \n",
       "3           0         NaN          0              NaN            NaN     NaN  \n",
       "4           0         NaN          0              NaN            NaN     NaN  "
      ]
     },
     "execution_count": 8,
     "metadata": {},
     "output_type": "execute_result"
    }
   ],
   "source": [
    "deliveries.head()"
   ]
  },
  {
   "cell_type": "code",
   "execution_count": 80,
   "id": "a0dea0a4",
   "metadata": {},
   "outputs": [
    {
     "data": {
      "text/plain": [
       "(260920, 17)"
      ]
     },
     "execution_count": 80,
     "metadata": {},
     "output_type": "execute_result"
    }
   ],
   "source": [
    "deliveries.shape"
   ]
  },
  {
   "cell_type": "code",
   "execution_count": 86,
   "id": "79da2386",
   "metadata": {
    "execution": {
     "iopub.execute_input": "2025-04-06T11:41:58.477572Z",
     "iopub.status.busy": "2025-04-06T11:41:58.477213Z",
     "iopub.status.idle": "2025-04-06T11:41:58.501776Z",
     "shell.execute_reply": "2025-04-06T11:41:58.500594Z"
    },
    "papermill": {
     "duration": 0.045014,
     "end_time": "2025-04-06T11:41:58.503610",
     "exception": false,
     "start_time": "2025-04-06T11:41:58.458596",
     "status": "completed"
    },
    "tags": []
   },
   "outputs": [
    {
     "name": "stdout",
     "output_type": "stream",
     "text": [
      "<class 'pandas.core.frame.DataFrame'>\n",
      "RangeIndex: 1095 entries, 0 to 1094\n",
      "Data columns (total 20 columns):\n",
      " #   Column           Non-Null Count  Dtype  \n",
      "---  ------           --------------  -----  \n",
      " 0   id               1095 non-null   int64  \n",
      " 1   season           1095 non-null   object \n",
      " 2   city             1044 non-null   object \n",
      " 3   date             1095 non-null   object \n",
      " 4   match_type       1095 non-null   object \n",
      " 5   player_of_match  1090 non-null   object \n",
      " 6   venue            1095 non-null   object \n",
      " 7   team1            1095 non-null   object \n",
      " 8   team2            1095 non-null   object \n",
      " 9   toss_winner      1095 non-null   object \n",
      " 10  toss_decision    1095 non-null   object \n",
      " 11  winner           1090 non-null   object \n",
      " 12  result           1095 non-null   object \n",
      " 13  result_margin    1076 non-null   float64\n",
      " 14  target_runs      1092 non-null   float64\n",
      " 15  target_overs     1092 non-null   float64\n",
      " 16  super_over       1095 non-null   object \n",
      " 17  method           21 non-null     object \n",
      " 18  umpire1          1095 non-null   object \n",
      " 19  umpire2          1095 non-null   object \n",
      "dtypes: float64(3), int64(1), object(16)\n",
      "memory usage: 171.2+ KB\n"
     ]
    }
   ],
   "source": [
    "matches.info() # Gives you the detailed list of columns of the dataset about column name, data type \n",
    "# and number of non-null values"
   ]
  },
  {
   "cell_type": "code",
   "execution_count": 87,
   "id": "2a45ae9c",
   "metadata": {
    "execution": {
     "iopub.execute_input": "2025-04-06T11:41:58.541435Z",
     "iopub.status.busy": "2025-04-06T11:41:58.541072Z",
     "iopub.status.idle": "2025-04-06T11:41:58.659465Z",
     "shell.execute_reply": "2025-04-06T11:41:58.657747Z"
    },
    "papermill": {
     "duration": 0.13927,
     "end_time": "2025-04-06T11:41:58.661411",
     "exception": false,
     "start_time": "2025-04-06T11:41:58.522141",
     "status": "completed"
    },
    "tags": []
   },
   "outputs": [
    {
     "name": "stdout",
     "output_type": "stream",
     "text": [
      "<class 'pandas.core.frame.DataFrame'>\n",
      "RangeIndex: 260920 entries, 0 to 260919\n",
      "Data columns (total 17 columns):\n",
      " #   Column            Non-Null Count   Dtype \n",
      "---  ------            --------------   ----- \n",
      " 0   match_id          260920 non-null  int64 \n",
      " 1   inning            260920 non-null  int64 \n",
      " 2   batting_team      260920 non-null  object\n",
      " 3   bowling_team      260920 non-null  object\n",
      " 4   over              260920 non-null  int64 \n",
      " 5   ball              260920 non-null  int64 \n",
      " 6   batter            260920 non-null  object\n",
      " 7   bowler            260920 non-null  object\n",
      " 8   non_striker       260920 non-null  object\n",
      " 9   batsman_runs      260920 non-null  int64 \n",
      " 10  extra_runs        260920 non-null  int64 \n",
      " 11  total_runs        260920 non-null  int64 \n",
      " 12  extras_type       14125 non-null   object\n",
      " 13  is_wicket         260920 non-null  int64 \n",
      " 14  player_dismissed  12950 non-null   object\n",
      " 15  dismissal_kind    12950 non-null   object\n",
      " 16  fielder           9354 non-null    object\n",
      "dtypes: int64(8), object(9)\n",
      "memory usage: 33.8+ MB\n"
     ]
    }
   ],
   "source": [
    "deliveries.info() # Gives you the detailed list of columns of the dataset about column name, data type \n",
    "# and number of non-null values"
   ]
  },
  {
   "cell_type": "code",
   "execution_count": 88,
   "id": "46c300e2",
   "metadata": {
    "execution": {
     "iopub.execute_input": "2025-04-06T11:41:58.704393Z",
     "iopub.status.busy": "2025-04-06T11:41:58.704056Z",
     "iopub.status.idle": "2025-04-06T11:41:58.724996Z",
     "shell.execute_reply": "2025-04-06T11:41:58.723999Z"
    },
    "papermill": {
     "duration": 0.041741,
     "end_time": "2025-04-06T11:41:58.726541",
     "exception": false,
     "start_time": "2025-04-06T11:41:58.684800",
     "status": "completed"
    },
    "tags": []
   },
   "outputs": [
    {
     "data": {
      "text/html": [
       "<div>\n",
       "<style scoped>\n",
       "    .dataframe tbody tr th:only-of-type {\n",
       "        vertical-align: middle;\n",
       "    }\n",
       "\n",
       "    .dataframe tbody tr th {\n",
       "        vertical-align: top;\n",
       "    }\n",
       "\n",
       "    .dataframe thead th {\n",
       "        text-align: right;\n",
       "    }\n",
       "</style>\n",
       "<table border=\"1\" class=\"dataframe\">\n",
       "  <thead>\n",
       "    <tr style=\"text-align: right;\">\n",
       "      <th></th>\n",
       "      <th>id</th>\n",
       "      <th>result_margin</th>\n",
       "      <th>target_runs</th>\n",
       "      <th>target_overs</th>\n",
       "    </tr>\n",
       "  </thead>\n",
       "  <tbody>\n",
       "    <tr>\n",
       "      <th>count</th>\n",
       "      <td>1.095000e+03</td>\n",
       "      <td>1076.000000</td>\n",
       "      <td>1092.000000</td>\n",
       "      <td>1092.000000</td>\n",
       "    </tr>\n",
       "    <tr>\n",
       "      <th>mean</th>\n",
       "      <td>9.048283e+05</td>\n",
       "      <td>17.259294</td>\n",
       "      <td>165.684066</td>\n",
       "      <td>19.759341</td>\n",
       "    </tr>\n",
       "    <tr>\n",
       "      <th>std</th>\n",
       "      <td>3.677402e+05</td>\n",
       "      <td>21.787444</td>\n",
       "      <td>33.427048</td>\n",
       "      <td>1.581108</td>\n",
       "    </tr>\n",
       "    <tr>\n",
       "      <th>min</th>\n",
       "      <td>3.359820e+05</td>\n",
       "      <td>1.000000</td>\n",
       "      <td>43.000000</td>\n",
       "      <td>5.000000</td>\n",
       "    </tr>\n",
       "    <tr>\n",
       "      <th>25%</th>\n",
       "      <td>5.483315e+05</td>\n",
       "      <td>6.000000</td>\n",
       "      <td>146.000000</td>\n",
       "      <td>20.000000</td>\n",
       "    </tr>\n",
       "    <tr>\n",
       "      <th>50%</th>\n",
       "      <td>9.809610e+05</td>\n",
       "      <td>8.000000</td>\n",
       "      <td>166.000000</td>\n",
       "      <td>20.000000</td>\n",
       "    </tr>\n",
       "    <tr>\n",
       "      <th>75%</th>\n",
       "      <td>1.254062e+06</td>\n",
       "      <td>20.000000</td>\n",
       "      <td>187.000000</td>\n",
       "      <td>20.000000</td>\n",
       "    </tr>\n",
       "    <tr>\n",
       "      <th>max</th>\n",
       "      <td>1.426312e+06</td>\n",
       "      <td>146.000000</td>\n",
       "      <td>288.000000</td>\n",
       "      <td>20.000000</td>\n",
       "    </tr>\n",
       "  </tbody>\n",
       "</table>\n",
       "</div>"
      ],
      "text/plain": [
       "                 id  result_margin  target_runs  target_overs\n",
       "count  1.095000e+03    1076.000000  1092.000000   1092.000000\n",
       "mean   9.048283e+05      17.259294   165.684066     19.759341\n",
       "std    3.677402e+05      21.787444    33.427048      1.581108\n",
       "min    3.359820e+05       1.000000    43.000000      5.000000\n",
       "25%    5.483315e+05       6.000000   146.000000     20.000000\n",
       "50%    9.809610e+05       8.000000   166.000000     20.000000\n",
       "75%    1.254062e+06      20.000000   187.000000     20.000000\n",
       "max    1.426312e+06     146.000000   288.000000     20.000000"
      ]
     },
     "execution_count": 88,
     "metadata": {},
     "output_type": "execute_result"
    }
   ],
   "source": [
    "matches.describe() # The Describe() function takes all the numerical columns and calulates mean, standard deviation,\n",
    "# minimum, 25% Quartile, 50% Quartile, 75% Quartile, and maximum numbers for each type of column.\n",
    "# From this data we can identify any outliers or few insights of data such as the maximum target runs in IPL \n",
    "# till now is 288. So if you beat the score, you win the cup"
   ]
  },
  {
   "cell_type": "code",
   "execution_count": 12,
   "id": "0e0bc082",
   "metadata": {
    "execution": {
     "iopub.execute_input": "2025-04-06T11:41:58.764300Z",
     "iopub.status.busy": "2025-04-06T11:41:58.763961Z",
     "iopub.status.idle": "2025-04-06T11:41:58.854213Z",
     "shell.execute_reply": "2025-04-06T11:41:58.852992Z"
    },
    "papermill": {
     "duration": 0.111156,
     "end_time": "2025-04-06T11:41:58.855974",
     "exception": false,
     "start_time": "2025-04-06T11:41:58.744818",
     "status": "completed"
    },
    "tags": []
   },
   "outputs": [
    {
     "data": {
      "text/html": [
       "<div>\n",
       "<style scoped>\n",
       "    .dataframe tbody tr th:only-of-type {\n",
       "        vertical-align: middle;\n",
       "    }\n",
       "\n",
       "    .dataframe tbody tr th {\n",
       "        vertical-align: top;\n",
       "    }\n",
       "\n",
       "    .dataframe thead th {\n",
       "        text-align: right;\n",
       "    }\n",
       "</style>\n",
       "<table border=\"1\" class=\"dataframe\">\n",
       "  <thead>\n",
       "    <tr style=\"text-align: right;\">\n",
       "      <th></th>\n",
       "      <th>match_id</th>\n",
       "      <th>inning</th>\n",
       "      <th>over</th>\n",
       "      <th>ball</th>\n",
       "      <th>batsman_runs</th>\n",
       "      <th>extra_runs</th>\n",
       "      <th>total_runs</th>\n",
       "      <th>is_wicket</th>\n",
       "    </tr>\n",
       "  </thead>\n",
       "  <tbody>\n",
       "    <tr>\n",
       "      <th>count</th>\n",
       "      <td>2.609200e+05</td>\n",
       "      <td>260920.000000</td>\n",
       "      <td>260920.000000</td>\n",
       "      <td>260920.000000</td>\n",
       "      <td>260920.000000</td>\n",
       "      <td>260920.000000</td>\n",
       "      <td>260920.000000</td>\n",
       "      <td>260920.000000</td>\n",
       "    </tr>\n",
       "    <tr>\n",
       "      <th>mean</th>\n",
       "      <td>9.070665e+05</td>\n",
       "      <td>1.483531</td>\n",
       "      <td>9.197677</td>\n",
       "      <td>3.624486</td>\n",
       "      <td>1.265001</td>\n",
       "      <td>0.067806</td>\n",
       "      <td>1.332807</td>\n",
       "      <td>0.049632</td>\n",
       "    </tr>\n",
       "    <tr>\n",
       "      <th>std</th>\n",
       "      <td>3.679913e+05</td>\n",
       "      <td>0.502643</td>\n",
       "      <td>5.683484</td>\n",
       "      <td>1.814920</td>\n",
       "      <td>1.639298</td>\n",
       "      <td>0.343265</td>\n",
       "      <td>1.626416</td>\n",
       "      <td>0.217184</td>\n",
       "    </tr>\n",
       "    <tr>\n",
       "      <th>min</th>\n",
       "      <td>3.359820e+05</td>\n",
       "      <td>1.000000</td>\n",
       "      <td>0.000000</td>\n",
       "      <td>1.000000</td>\n",
       "      <td>0.000000</td>\n",
       "      <td>0.000000</td>\n",
       "      <td>0.000000</td>\n",
       "      <td>0.000000</td>\n",
       "    </tr>\n",
       "    <tr>\n",
       "      <th>25%</th>\n",
       "      <td>5.483340e+05</td>\n",
       "      <td>1.000000</td>\n",
       "      <td>4.000000</td>\n",
       "      <td>2.000000</td>\n",
       "      <td>0.000000</td>\n",
       "      <td>0.000000</td>\n",
       "      <td>0.000000</td>\n",
       "      <td>0.000000</td>\n",
       "    </tr>\n",
       "    <tr>\n",
       "      <th>50%</th>\n",
       "      <td>9.809670e+05</td>\n",
       "      <td>1.000000</td>\n",
       "      <td>9.000000</td>\n",
       "      <td>4.000000</td>\n",
       "      <td>1.000000</td>\n",
       "      <td>0.000000</td>\n",
       "      <td>1.000000</td>\n",
       "      <td>0.000000</td>\n",
       "    </tr>\n",
       "    <tr>\n",
       "      <th>75%</th>\n",
       "      <td>1.254066e+06</td>\n",
       "      <td>2.000000</td>\n",
       "      <td>14.000000</td>\n",
       "      <td>5.000000</td>\n",
       "      <td>1.000000</td>\n",
       "      <td>0.000000</td>\n",
       "      <td>1.000000</td>\n",
       "      <td>0.000000</td>\n",
       "    </tr>\n",
       "    <tr>\n",
       "      <th>max</th>\n",
       "      <td>1.426312e+06</td>\n",
       "      <td>6.000000</td>\n",
       "      <td>19.000000</td>\n",
       "      <td>11.000000</td>\n",
       "      <td>6.000000</td>\n",
       "      <td>7.000000</td>\n",
       "      <td>7.000000</td>\n",
       "      <td>1.000000</td>\n",
       "    </tr>\n",
       "  </tbody>\n",
       "</table>\n",
       "</div>"
      ],
      "text/plain": [
       "           match_id         inning           over           ball  \\\n",
       "count  2.609200e+05  260920.000000  260920.000000  260920.000000   \n",
       "mean   9.070665e+05       1.483531       9.197677       3.624486   \n",
       "std    3.679913e+05       0.502643       5.683484       1.814920   \n",
       "min    3.359820e+05       1.000000       0.000000       1.000000   \n",
       "25%    5.483340e+05       1.000000       4.000000       2.000000   \n",
       "50%    9.809670e+05       1.000000       9.000000       4.000000   \n",
       "75%    1.254066e+06       2.000000      14.000000       5.000000   \n",
       "max    1.426312e+06       6.000000      19.000000      11.000000   \n",
       "\n",
       "        batsman_runs     extra_runs     total_runs      is_wicket  \n",
       "count  260920.000000  260920.000000  260920.000000  260920.000000  \n",
       "mean        1.265001       0.067806       1.332807       0.049632  \n",
       "std         1.639298       0.343265       1.626416       0.217184  \n",
       "min         0.000000       0.000000       0.000000       0.000000  \n",
       "25%         0.000000       0.000000       0.000000       0.000000  \n",
       "50%         1.000000       0.000000       1.000000       0.000000  \n",
       "75%         1.000000       0.000000       1.000000       0.000000  \n",
       "max         6.000000       7.000000       7.000000       1.000000  "
      ]
     },
     "execution_count": 12,
     "metadata": {},
     "output_type": "execute_result"
    }
   ],
   "source": [
    "deliveries.describe() # The Describe() function takes all the numerical columns and calulates mean, standard deviation,\n",
    "# minimum, 25% Quartile, 50% Quartile, 75% Quartile, and maximum numbers for each type of column."
   ]
  },
  {
   "cell_type": "code",
   "execution_count": 13,
   "id": "11f3cb82",
   "metadata": {
    "execution": {
     "iopub.execute_input": "2025-04-06T11:41:58.899683Z",
     "iopub.status.busy": "2025-04-06T11:41:58.899357Z",
     "iopub.status.idle": "2025-04-06T11:41:58.908488Z",
     "shell.execute_reply": "2025-04-06T11:41:58.907270Z"
    },
    "papermill": {
     "duration": 0.035377,
     "end_time": "2025-04-06T11:41:58.910543",
     "exception": false,
     "start_time": "2025-04-06T11:41:58.875166",
     "status": "completed"
    },
    "tags": []
   },
   "outputs": [
    {
     "data": {
      "text/plain": [
       "id                    0\n",
       "season                0\n",
       "city                 51\n",
       "date                  0\n",
       "match_type            0\n",
       "player_of_match       5\n",
       "venue                 0\n",
       "team1                 0\n",
       "team2                 0\n",
       "toss_winner           0\n",
       "toss_decision         0\n",
       "winner                5\n",
       "result                0\n",
       "result_margin        19\n",
       "target_runs           3\n",
       "target_overs          3\n",
       "super_over            0\n",
       "method             1074\n",
       "umpire1               0\n",
       "umpire2               0\n",
       "dtype: int64"
      ]
     },
     "execution_count": 13,
     "metadata": {},
     "output_type": "execute_result"
    }
   ],
   "source": [
    "matches.isnull().sum() \n",
    "# isnull() - Checks each cell in the DataFrame and returns True if the value is missing (NaN, None, or NaT), \n",
    "# otherwise False.\n",
    "\n",
    "# sum() - adds True values,A Pandas Series showing the count of missing values per column"
   ]
  },
  {
   "cell_type": "code",
   "execution_count": 14,
   "id": "d3f48abf",
   "metadata": {
    "execution": {
     "iopub.execute_input": "2025-04-06T11:41:59.006981Z",
     "iopub.status.busy": "2025-04-06T11:41:59.006574Z",
     "iopub.status.idle": "2025-04-06T11:41:59.106371Z",
     "shell.execute_reply": "2025-04-06T11:41:59.105405Z"
    },
    "papermill": {
     "duration": 0.120944,
     "end_time": "2025-04-06T11:41:59.107985",
     "exception": false,
     "start_time": "2025-04-06T11:41:58.987041",
     "status": "completed"
    },
    "tags": []
   },
   "outputs": [
    {
     "data": {
      "text/plain": [
       "match_id                 0\n",
       "inning                   0\n",
       "batting_team             0\n",
       "bowling_team             0\n",
       "over                     0\n",
       "ball                     0\n",
       "batter                   0\n",
       "bowler                   0\n",
       "non_striker              0\n",
       "batsman_runs             0\n",
       "extra_runs               0\n",
       "total_runs               0\n",
       "extras_type         246795\n",
       "is_wicket                0\n",
       "player_dismissed    247970\n",
       "dismissal_kind      247970\n",
       "fielder             251566\n",
       "dtype: int64"
      ]
     },
     "execution_count": 14,
     "metadata": {},
     "output_type": "execute_result"
    }
   ],
   "source": [
    "deliveries.isnull().sum()\n",
    "# isnull() - Checks each cell in the DataFrame and returns True if the value is missing (NaN, None, or NaT), \n",
    "# otherwise False.\n",
    "\n",
    "# sum() - adds True values,A Pandas Series showing the count of missing values per column"
   ]
  },
  {
   "cell_type": "code",
   "execution_count": 115,
   "id": "c561555d",
   "metadata": {
    "execution": {
     "iopub.execute_input": "2025-04-06T11:41:59.147999Z",
     "iopub.status.busy": "2025-04-06T11:41:59.147622Z",
     "iopub.status.idle": "2025-04-06T11:41:59.154062Z",
     "shell.execute_reply": "2025-04-06T11:41:59.152958Z"
    },
    "papermill": {
     "duration": 0.028261,
     "end_time": "2025-04-06T11:41:59.155556",
     "exception": false,
     "start_time": "2025-04-06T11:41:59.127295",
     "status": "completed"
    },
    "tags": []
   },
   "outputs": [],
   "source": [
    "# This is a styling for the dataframe for appeal visualising in notebook - taken from Internet\n",
    "def style_dataframe(df):\n",
    "    styled_df = df.style \\\n",
    "        .set_table_styles([\n",
    "            # Header styling - sleek dark theme\n",
    "            {'selector': 'thead th', 'props': [\n",
    "                ('background-color', '#2E8B57'),  # light green\n",
    "                ('color', 'white'),\n",
    "                ('font-size', '14px'),\n",
    "                ('font-weight', 'bold'),\n",
    "                ('padding', '12px'),\n",
    "                ('text-align', 'center'),\n",
    "                ('border', '2px solid #1F2A40')\n",
    "            ]},\n",
    "            # Cell styling - clean and professional\n",
    "            {'selector': 'td', 'props': [\n",
    "                ('border', '1px solid #ddd'),\n",
    "                ('padding', '10px'),\n",
    "                ('text-align', 'center'),\n",
    "                ('font-size', '13px'),\n",
    "                ('color', '#333')\n",
    "            ]},\n",
    "            # Alternating row colors for readability\n",
    "            {'selector': 'tbody tr:nth-child(odd)', 'props': [('background-color', '#f5f5f5')]},\n",
    "            {'selector': 'tbody tr:nth-child(even)', 'props': [('background-color', '#ffffff')]},\n",
    "            # Hover effect - light gray for better UX\n",
    "            {'selector': 'tbody tr:hover', 'props': [('background-color', '#e3e6ea')]}\n",
    "        ]) \\\n",
    "        .set_table_attributes('style=\"margin-left:auto; margin-right:auto; border-collapse: collapse; width: 95%; box-shadow: 2px 2px 12px rgba(0, 0, 0, 0.1);\"') \\\n",
    "        .hide(axis=\"index\")  # Hides the index column\n",
    "\n",
    "    return styled_df\n"
   ]
  },
  {
   "cell_type": "markdown",
   "id": "263b9216",
   "metadata": {
    "papermill": {
     "duration": 0.018375,
     "end_time": "2025-04-06T11:41:59.192721",
     "exception": false,
     "start_time": "2025-04-06T11:41:59.174346",
     "status": "completed"
    },
    "tags": []
   },
   "source": [
    "<a id=\"Title\"></a>\n",
    "# <div style=\"text-align: center;background-color: #2E8B57;color: white;padding: 12px;font-size: 28px;font-family: 'Arial', sans-serif;font-weight: bold;border-radius: 12px;box-shadow: 2px 4px 10px rgba(0, 0, 0, 0.2);width: 95%;margin: auto;\"><b>Exploratory Data Analysis</b></div>\n"
   ]
  },
  {
   "cell_type": "markdown",
   "id": "89f68b5c",
   "metadata": {
    "papermill": {
     "duration": 0.018325,
     "end_time": "2025-04-06T11:41:59.229515",
     "exception": false,
     "start_time": "2025-04-06T11:41:59.211190",
     "status": "completed"
    },
    "tags": []
   },
   "source": [
    "<a id=\"Title\"></a>\n",
    "# <div style=\"text-align: center;background-color: #2E8B57;color: white;padding: 12px;font-size: 28px;font-family: 'Arial', sans-serif;font-weight: bold;border-radius: 12px;box-shadow: 2px 4px 10px rgba(0, 0, 0, 0.2);width: 95%;margin: auto;\"><b>All Teams</b></div>"
   ]
  },
  {
   "cell_type": "code",
   "execution_count": 116,
   "id": "70825066",
   "metadata": {
    "execution": {
     "iopub.execute_input": "2025-04-06T11:41:59.267681Z",
     "iopub.status.busy": "2025-04-06T11:41:59.267348Z",
     "iopub.status.idle": "2025-04-06T11:41:59.411747Z",
     "shell.execute_reply": "2025-04-06T11:41:59.410688Z"
    },
    "papermill": {
     "duration": 0.165762,
     "end_time": "2025-04-06T11:41:59.413847",
     "exception": false,
     "start_time": "2025-04-06T11:41:59.248085",
     "status": "completed"
    },
    "tags": []
   },
   "outputs": [],
   "source": [
    "# Here we are combing both dataframe using left join with matches as left table so that\n",
    "# all the information of both tables can fit in one\n",
    "merged_df = deliveries.merge(matches,how='left',left_on='match_id',right_on='id')"
   ]
  },
  {
   "cell_type": "code",
   "execution_count": 117,
   "id": "4eaba974",
   "metadata": {},
   "outputs": [
    {
     "data": {
      "text/html": [
       "<div>\n",
       "<style scoped>\n",
       "    .dataframe tbody tr th:only-of-type {\n",
       "        vertical-align: middle;\n",
       "    }\n",
       "\n",
       "    .dataframe tbody tr th {\n",
       "        vertical-align: top;\n",
       "    }\n",
       "\n",
       "    .dataframe thead th {\n",
       "        text-align: right;\n",
       "    }\n",
       "</style>\n",
       "<table border=\"1\" class=\"dataframe\">\n",
       "  <thead>\n",
       "    <tr style=\"text-align: right;\">\n",
       "      <th></th>\n",
       "      <th>match_id</th>\n",
       "      <th>inning</th>\n",
       "      <th>batting_team</th>\n",
       "      <th>bowling_team</th>\n",
       "      <th>over</th>\n",
       "      <th>ball</th>\n",
       "      <th>batter</th>\n",
       "      <th>bowler</th>\n",
       "      <th>non_striker</th>\n",
       "      <th>batsman_runs</th>\n",
       "      <th>...</th>\n",
       "      <th>toss_decision</th>\n",
       "      <th>winner</th>\n",
       "      <th>result</th>\n",
       "      <th>result_margin</th>\n",
       "      <th>target_runs</th>\n",
       "      <th>target_overs</th>\n",
       "      <th>super_over</th>\n",
       "      <th>method</th>\n",
       "      <th>umpire1</th>\n",
       "      <th>umpire2</th>\n",
       "    </tr>\n",
       "  </thead>\n",
       "  <tbody>\n",
       "    <tr>\n",
       "      <th>0</th>\n",
       "      <td>335982</td>\n",
       "      <td>1</td>\n",
       "      <td>Kolkata Knight Riders</td>\n",
       "      <td>Royal Challengers Bangalore</td>\n",
       "      <td>0</td>\n",
       "      <td>1</td>\n",
       "      <td>SC Ganguly</td>\n",
       "      <td>P Kumar</td>\n",
       "      <td>BB McCullum</td>\n",
       "      <td>0</td>\n",
       "      <td>...</td>\n",
       "      <td>field</td>\n",
       "      <td>Kolkata Knight Riders</td>\n",
       "      <td>runs</td>\n",
       "      <td>140.0</td>\n",
       "      <td>223.0</td>\n",
       "      <td>20.0</td>\n",
       "      <td>N</td>\n",
       "      <td>NaN</td>\n",
       "      <td>Asad Rauf</td>\n",
       "      <td>RE Koertzen</td>\n",
       "    </tr>\n",
       "    <tr>\n",
       "      <th>1</th>\n",
       "      <td>335982</td>\n",
       "      <td>1</td>\n",
       "      <td>Kolkata Knight Riders</td>\n",
       "      <td>Royal Challengers Bangalore</td>\n",
       "      <td>0</td>\n",
       "      <td>2</td>\n",
       "      <td>BB McCullum</td>\n",
       "      <td>P Kumar</td>\n",
       "      <td>SC Ganguly</td>\n",
       "      <td>0</td>\n",
       "      <td>...</td>\n",
       "      <td>field</td>\n",
       "      <td>Kolkata Knight Riders</td>\n",
       "      <td>runs</td>\n",
       "      <td>140.0</td>\n",
       "      <td>223.0</td>\n",
       "      <td>20.0</td>\n",
       "      <td>N</td>\n",
       "      <td>NaN</td>\n",
       "      <td>Asad Rauf</td>\n",
       "      <td>RE Koertzen</td>\n",
       "    </tr>\n",
       "    <tr>\n",
       "      <th>2</th>\n",
       "      <td>335982</td>\n",
       "      <td>1</td>\n",
       "      <td>Kolkata Knight Riders</td>\n",
       "      <td>Royal Challengers Bangalore</td>\n",
       "      <td>0</td>\n",
       "      <td>3</td>\n",
       "      <td>BB McCullum</td>\n",
       "      <td>P Kumar</td>\n",
       "      <td>SC Ganguly</td>\n",
       "      <td>0</td>\n",
       "      <td>...</td>\n",
       "      <td>field</td>\n",
       "      <td>Kolkata Knight Riders</td>\n",
       "      <td>runs</td>\n",
       "      <td>140.0</td>\n",
       "      <td>223.0</td>\n",
       "      <td>20.0</td>\n",
       "      <td>N</td>\n",
       "      <td>NaN</td>\n",
       "      <td>Asad Rauf</td>\n",
       "      <td>RE Koertzen</td>\n",
       "    </tr>\n",
       "    <tr>\n",
       "      <th>3</th>\n",
       "      <td>335982</td>\n",
       "      <td>1</td>\n",
       "      <td>Kolkata Knight Riders</td>\n",
       "      <td>Royal Challengers Bangalore</td>\n",
       "      <td>0</td>\n",
       "      <td>4</td>\n",
       "      <td>BB McCullum</td>\n",
       "      <td>P Kumar</td>\n",
       "      <td>SC Ganguly</td>\n",
       "      <td>0</td>\n",
       "      <td>...</td>\n",
       "      <td>field</td>\n",
       "      <td>Kolkata Knight Riders</td>\n",
       "      <td>runs</td>\n",
       "      <td>140.0</td>\n",
       "      <td>223.0</td>\n",
       "      <td>20.0</td>\n",
       "      <td>N</td>\n",
       "      <td>NaN</td>\n",
       "      <td>Asad Rauf</td>\n",
       "      <td>RE Koertzen</td>\n",
       "    </tr>\n",
       "    <tr>\n",
       "      <th>4</th>\n",
       "      <td>335982</td>\n",
       "      <td>1</td>\n",
       "      <td>Kolkata Knight Riders</td>\n",
       "      <td>Royal Challengers Bangalore</td>\n",
       "      <td>0</td>\n",
       "      <td>5</td>\n",
       "      <td>BB McCullum</td>\n",
       "      <td>P Kumar</td>\n",
       "      <td>SC Ganguly</td>\n",
       "      <td>0</td>\n",
       "      <td>...</td>\n",
       "      <td>field</td>\n",
       "      <td>Kolkata Knight Riders</td>\n",
       "      <td>runs</td>\n",
       "      <td>140.0</td>\n",
       "      <td>223.0</td>\n",
       "      <td>20.0</td>\n",
       "      <td>N</td>\n",
       "      <td>NaN</td>\n",
       "      <td>Asad Rauf</td>\n",
       "      <td>RE Koertzen</td>\n",
       "    </tr>\n",
       "  </tbody>\n",
       "</table>\n",
       "<p>5 rows × 37 columns</p>\n",
       "</div>"
      ],
      "text/plain": [
       "   match_id  inning           batting_team                 bowling_team  over  \\\n",
       "0    335982       1  Kolkata Knight Riders  Royal Challengers Bangalore     0   \n",
       "1    335982       1  Kolkata Knight Riders  Royal Challengers Bangalore     0   \n",
       "2    335982       1  Kolkata Knight Riders  Royal Challengers Bangalore     0   \n",
       "3    335982       1  Kolkata Knight Riders  Royal Challengers Bangalore     0   \n",
       "4    335982       1  Kolkata Knight Riders  Royal Challengers Bangalore     0   \n",
       "\n",
       "   ball       batter   bowler  non_striker  batsman_runs  ...  toss_decision  \\\n",
       "0     1   SC Ganguly  P Kumar  BB McCullum             0  ...          field   \n",
       "1     2  BB McCullum  P Kumar   SC Ganguly             0  ...          field   \n",
       "2     3  BB McCullum  P Kumar   SC Ganguly             0  ...          field   \n",
       "3     4  BB McCullum  P Kumar   SC Ganguly             0  ...          field   \n",
       "4     5  BB McCullum  P Kumar   SC Ganguly             0  ...          field   \n",
       "\n",
       "                  winner result  result_margin target_runs target_overs  \\\n",
       "0  Kolkata Knight Riders   runs          140.0       223.0         20.0   \n",
       "1  Kolkata Knight Riders   runs          140.0       223.0         20.0   \n",
       "2  Kolkata Knight Riders   runs          140.0       223.0         20.0   \n",
       "3  Kolkata Knight Riders   runs          140.0       223.0         20.0   \n",
       "4  Kolkata Knight Riders   runs          140.0       223.0         20.0   \n",
       "\n",
       "  super_over  method    umpire1      umpire2  \n",
       "0          N     NaN  Asad Rauf  RE Koertzen  \n",
       "1          N     NaN  Asad Rauf  RE Koertzen  \n",
       "2          N     NaN  Asad Rauf  RE Koertzen  \n",
       "3          N     NaN  Asad Rauf  RE Koertzen  \n",
       "4          N     NaN  Asad Rauf  RE Koertzen  \n",
       "\n",
       "[5 rows x 37 columns]"
      ]
     },
     "execution_count": 117,
     "metadata": {},
     "output_type": "execute_result"
    }
   ],
   "source": [
    "merged_df.head()"
   ]
  },
  {
   "cell_type": "code",
   "execution_count": 118,
   "id": "a697459a",
   "metadata": {},
   "outputs": [
    {
     "data": {
      "text/plain": [
       "(260920, 37)"
      ]
     },
     "execution_count": 118,
     "metadata": {},
     "output_type": "execute_result"
    }
   ],
   "source": [
    "merged_df.shape # The shape of the merged_df, we can look how many new columns are added"
   ]
  },
  {
   "cell_type": "code",
   "execution_count": 119,
   "id": "0f012158",
   "metadata": {
    "execution": {
     "iopub.execute_input": "2025-04-06T11:41:59.453200Z",
     "iopub.status.busy": "2025-04-06T11:41:59.452780Z",
     "iopub.status.idle": "2025-04-06T11:41:59.457527Z",
     "shell.execute_reply": "2025-04-06T11:41:59.456489Z"
    },
    "papermill": {
     "duration": 0.025724,
     "end_time": "2025-04-06T11:41:59.459054",
     "exception": false,
     "start_time": "2025-04-06T11:41:59.433330",
     "status": "completed"
    },
    "tags": []
   },
   "outputs": [],
   "source": [
    "# Function to get all the teams, so that we can cross check with current teams and proceed accrodingly\n",
    "def all_teams():\n",
    "    temp = pd.concat([matches['team1'],matches['team2']]).unique()\n",
    "    return {\"teams\":temp}"
   ]
  },
  {
   "cell_type": "code",
   "execution_count": null,
   "id": "51871a20",
   "metadata": {},
   "outputs": [],
   "source": []
  },
  {
   "cell_type": "code",
   "execution_count": 120,
   "id": "a119be43",
   "metadata": {
    "execution": {
     "iopub.execute_input": "2025-04-06T11:41:59.497764Z",
     "iopub.status.busy": "2025-04-06T11:41:59.497411Z",
     "iopub.status.idle": "2025-04-06T11:41:59.503769Z",
     "shell.execute_reply": "2025-04-06T11:41:59.502819Z"
    },
    "papermill": {
     "duration": 0.02742,
     "end_time": "2025-04-06T11:41:59.505339",
     "exception": false,
     "start_time": "2025-04-06T11:41:59.477919",
     "status": "completed"
    },
    "tags": []
   },
   "outputs": [
    {
     "data": {
      "text/plain": [
       "{'teams': array(['Royal Challengers Bangalore', 'Kings XI Punjab',\n",
       "        'Delhi Daredevils', 'Mumbai Indians', 'Kolkata Knight Riders',\n",
       "        'Rajasthan Royals', 'Deccan Chargers', 'Chennai Super Kings',\n",
       "        'Kochi Tuskers Kerala', 'Pune Warriors', 'Sunrisers Hyderabad',\n",
       "        'Gujarat Lions', 'Rising Pune Supergiants',\n",
       "        'Rising Pune Supergiant', 'Delhi Capitals', 'Punjab Kings',\n",
       "        'Lucknow Super Giants', 'Gujarat Titans',\n",
       "        'Royal Challengers Bengaluru'], dtype=object)}"
      ]
     },
     "execution_count": 120,
     "metadata": {},
     "output_type": "execute_result"
    }
   ],
   "source": [
    "all_teams() # As this past historic data from 2008 it contains all the teams \n",
    "# from the start which may not be avaibale right now"
   ]
  },
  {
   "cell_type": "code",
   "execution_count": 121,
   "id": "36c38c86",
   "metadata": {},
   "outputs": [
    {
     "data": {
      "text/plain": [
       "19"
      ]
     },
     "execution_count": 121,
     "metadata": {},
     "output_type": "execute_result"
    }
   ],
   "source": [
    "len(all_teams()['teams']) # Lenght of all teams"
   ]
  },
  {
   "cell_type": "markdown",
   "id": "49c9c108",
   "metadata": {
    "papermill": {
     "duration": 0.018968,
     "end_time": "2025-04-06T11:41:59.543591",
     "exception": false,
     "start_time": "2025-04-06T11:41:59.524623",
     "status": "completed"
    },
    "tags": []
   },
   "source": [
    "<a id=\"Title\"></a>\n",
    "# <div style=\"text-align: center;background-color: #2E8B57;color: white;padding: 12px;font-size: 28px;font-family: 'Arial', sans-serif;font-weight: bold;border-radius: 12px;box-shadow: 2px 4px 10px rgba(0, 0, 0, 0.2);width: 95%;margin: auto;\"><b>All Players</b></div>"
   ]
  },
  {
   "cell_type": "code",
   "execution_count": 122,
   "id": "88894abe",
   "metadata": {
    "execution": {
     "iopub.execute_input": "2025-04-06T11:41:59.584204Z",
     "iopub.status.busy": "2025-04-06T11:41:59.583749Z",
     "iopub.status.idle": "2025-04-06T11:41:59.588405Z",
     "shell.execute_reply": "2025-04-06T11:41:59.587432Z"
    },
    "papermill": {
     "duration": 0.026511,
     "end_time": "2025-04-06T11:41:59.590144",
     "exception": false,
     "start_time": "2025-04-06T11:41:59.563633",
     "status": "completed"
    },
    "tags": []
   },
   "outputs": [],
   "source": [
    "def all_players():\n",
    "    # Here we contacted both the batter and bowler unique to consider to those who never batted ot never bowled \n",
    "    temp = pd.concat([deliveries['batter'],deliveries['bowler']]).unique()\n",
    "    return {\"players\":temp}"
   ]
  },
  {
   "cell_type": "code",
   "execution_count": 123,
   "id": "046867d9",
   "metadata": {},
   "outputs": [
    {
     "data": {
      "text/plain": [
       "{'players': array(['SC Ganguly', 'BB McCullum', 'RT Ponting', 'DJ Hussey',\n",
       "        'Mohammad Hafeez', 'R Dravid', 'W Jaffer', 'V Kohli', 'JH Kallis',\n",
       "        'CL White', 'MV Boucher', 'B Akhil', 'AA Noffke', 'P Kumar',\n",
       "        'Z Khan', 'SB Joshi', 'PA Patel', 'ML Hayden', 'MEK Hussey',\n",
       "        'MS Dhoni', 'SK Raina', 'JDP Oram', 'S Badrinath', 'K Goel',\n",
       "        'JR Hopes', 'KC Sangakkara', 'Yuvraj Singh', 'SM Katich',\n",
       "        'IK Pathan', 'T Kohli', 'YK Pathan', 'SR Watson', 'M Kaif',\n",
       "        'DS Lehmann', 'RA Jadeja', 'M Rawat', 'D Salunkhe', 'SK Warne',\n",
       "        'SK Trivedi', 'G Gambhir', 'V Sehwag', 'S Dhawan', 'L Ronchi',\n",
       "        'ST Jayasuriya', 'DJ Thornely', 'RV Uthappa', 'PR Shah',\n",
       "        'AM Nayar', 'SM Pollock', 'Harbhajan Singh', 'S Chanderpaul',\n",
       "        'LRPL Taylor', 'AC Gilchrist', 'Y Venugopal Rao', 'VVS Laxman',\n",
       "        'A Symonds', 'RG Sharma', 'SB Styris', 'AS Yadav', 'SB Bangar',\n",
       "        'WPUJC Vaas', 'RP Singh', 'WP Saha', 'LR Shukla',\n",
       "        'DPMD Jayawardene', 'S Sohal', 'B Lee', 'PP Chawla', 'WA Mota',\n",
       "        'Kamran Akmal', 'Shahid Afridi', 'DJ Bravo', 'MA Khote', 'A Nehra',\n",
       "        'GC Smith', 'Pankaj Singh', 'RR Sarwan', 'S Sreesanth',\n",
       "        'VRV Singh', 'SS Tiwary', 'DS Kulkarni', 'R Vinay Kumar',\n",
       "        'AB Agarkar', 'M Kartik', 'I Sharma', 'AM Rahane', 'Shoaib Malik',\n",
       "        'MK Tiwary', 'KD Karthik', 'R Bhatia', 'MF Maharoof', 'VY Mahesh',\n",
       "        'TM Srivastava', 'B Chipli', 'DW Steyn', 'DB Das', 'MK Pandey',\n",
       "        'HH Gibbs', 'DNT Zoysa', 'D Kalyankrishna', 'SE Marsh',\n",
       "        'SA Asnodkar', 'Sohail Tanvir', 'Salman Butt', 'BJ Hodge',\n",
       "        'Umar Gul', 'AB Dinda', 'SP Fleming', 'S Vidyut', 'JA Morkel',\n",
       "        'AB de Villiers', 'LPC Silva', 'DB Ravi Teja', 'Misbah-ul-Haq',\n",
       "        'YV Takawale', 'RR Raje', 'PJ Sangwan', 'Mohammad Asif',\n",
       "        'GD McGrath', 'Joginder Sharma', 'MS Gony', 'M Muralitharan',\n",
       "        'M Ntini', 'DT Patil', 'A Kumble', 'S Anirudha', 'MM Patel',\n",
       "        'CK Kapugedera', 'A Chopra', 'T Taibu', 'J Arunkumar', 'PP Ojha',\n",
       "        'SP Goswami', 'SR Tendulkar', 'U Kaul', 'TM Dilshan', 'A Mishra',\n",
       "        'AD Mascarenhas', 'NK Patel', 'LA Pomersbach', 'Iqbal Abdulla',\n",
       "        'Younis Khan', 'PM Sarvesh Kumar', 'DP Vijaykumar',\n",
       "        'Shoaib Akhtar', 'Abdur Razzak', 'H Das', 'DR Smith', 'SD Chitnis',\n",
       "        'CRD Fernando', 'VS Yeligati', 'L Balaji', 'A Mukund', 'RR Powar',\n",
       "        'JP Duminy', 'A Flintoff', 'T Thushara', 'JD Ryder',\n",
       "        'KP Pietersen', 'T Henderson', 'Kamran Khan', 'RS Bopara',\n",
       "        'CH Gayle', 'MC Henriques', 'R Bishnoi', 'FH Edwards', 'KV Sharma',\n",
       "        'PC Valthaty', 'RJ Quiney', 'AS Raut', 'Yashpal Singh', 'M Manhas',\n",
       "        'AA Bilakhia', 'AN Ghosh', 'BAW Mendis', 'DL Vettori',\n",
       "        'MN van Wyk', 'RE van der Merwe', 'TL Suman', 'Shoaib Ahmed',\n",
       "        'GR Napier', 'KP Appanna', 'LA Carseldine', 'NV Ojha',\n",
       "        'SM Harwood', 'M Vijay', 'SB Jakati', 'DA Warner', 'RJ Harris',\n",
       "        'D du Preez', 'M Morkel', 'AD Mathews', 'J Botha', 'C Nanda',\n",
       "        'SL Malinga', 'Mashrafe Mortaza', 'A Singh', 'GJ Bailey',\n",
       "        'AB McDonald', 'Y Nagar', 'SS Shaikh', 'R Ashwin',\n",
       "        'Mohammad Ashraful', 'CA Pujara', 'OA Shah', 'Anirudh Singh',\n",
       "        'Jaskaran Singh', 'AP Tare', 'AT Rayudu', 'R Sathish', 'R McLaren',\n",
       "        'AA Jhunjhunwala', 'P Dogra', 'A Uniyal', 'MS Bisla', 'YA Abdulla',\n",
       "        'EJG Morgan', 'JM Kemp', 'S Tyagi', 'RS Gavaskar', 'SE Bond',\n",
       "        'KA Pollard', 'S Ladda', 'DP Nannes', 'MJ Lumb', 'DR Martyn',\n",
       "        'S Narwal', 'AB Barath', 'Bipul Sharma', 'FY Fazal', 'AC Voges',\n",
       "        'MD Mishra', 'UT Yadav', 'J Theron', 'SJ Srivastava', 'R Sharma',\n",
       "        'Mandeep Singh', 'KM Jadhav', 'SW Tait', 'KB Arun Karthik',\n",
       "        'KAJ Roach', 'PD Collingwood', 'CK Langeveldt', 'VS Malik',\n",
       "        'A Mithun', 'AP Dole', 'AN Ahmed', 'RS Sodhi', 'DE Bollinger',\n",
       "        'S Sriram', 'B Sumanth', 'C Madan', 'AG Paunikar', 'MR Marsh',\n",
       "        'AJ Finch', 'STR Binny', 'Harmeet Singh', 'IR Jaggi',\n",
       "        'DT Christian', 'RV Gomez', 'MA Agarwal', 'AUK Pathan',\n",
       "        'UBT Chand', 'DJ Jacobs', 'Sunny Singh', 'NJ Rimmington',\n",
       "        'AL Menaria', 'WD Parnell', 'JJ van der Wath', 'R Ninan',\n",
       "        'S Aravind', 'MS Wade', 'TD Paine', 'SB Wagh', 'AC Thomas',\n",
       "        'JEC Franklin', 'Shakib Al Hasan', 'DH Yagnik', 'S Randiv',\n",
       "        'BJ Haddin', 'NLTC Perera', 'NL McCullum', 'JE Taylor',\n",
       "        'J Syed Mohammad', 'RN ten Doeschate', 'TR Birt', 'AG Murtaza',\n",
       "        'Harpreet Singh', 'M Klinger', 'AC Blizzard', 'I Malhotra',\n",
       "        'L Ablish', 'CA Ingram', 'S Nadeem', 'P Parameswaran',\n",
       "        'CJ Ferguson', 'VR Aaron', 'AA Chavan', 'ND Doshi', 'B Kumar',\n",
       "        'Y Gnaneswara Rao', 'S Rana', 'BA Bhatt', 'F du Plessis',\n",
       "        'RE Levi', 'GJ Maxwell', 'SPD Smith', 'MN Samuels', 'SA Yadav',\n",
       "        'KK Cooper', 'JP Faulkner', 'HV Patel', 'DAJ Bracewell',\n",
       "        'DJ Harris', 'Ankit Sharma', 'SP Narine', 'GB Hogg', 'RR Bhatkal',\n",
       "        'CJ McKay', 'N Saini', 'DA Miller', 'Azhar Mahmood', 'P Negi',\n",
       "        'RJ Peterson', 'KMDN Kulasekara', 'A Ashish Reddy',\n",
       "        'V Pratap Singh', 'BB Samantray', 'MJ Clarke', 'Gurkeerat Singh',\n",
       "        'AP Majumdar', 'PA Reddy', 'K Upadhyay', 'P Awana', 'AD Russell',\n",
       "        'A Chandila', 'CA Lynn', 'Sunny Gupta', 'MC Juneja', 'KK Nair',\n",
       "        'GH Vihari', 'MDKJ Perera', 'R Shukla', 'B Laughlin', 'AS Rajpoot',\n",
       "        'M Vohra', 'JD Unadkat', 'Mohammed Shami', 'BMAJ Mendis',\n",
       "        'R Rampaul', 'CH Morris', 'SV Samson', 'SMSM Senanayake',\n",
       "        'BJ Rohrer', 'KL Rahul', 'Q de Kock', 'R Dhawan', 'MG Johnson',\n",
       "        'LJ Wright', 'IC Pandey', 'CM Gautam', 'X Thalaivan Sargunam',\n",
       "        'DJG Sammy', 'KW Richardson', 'MM Sharma', 'UA Birla',\n",
       "        'Parvez Rasool', 'Sandeep Sharma', 'S Kaul', 'Sachin Baby',\n",
       "        'PV Tambe', 'NM Coulter-Nile', 'CJ Anderson', 'NJ Maddinson',\n",
       "        'AR Patel', 'JJ Bumrah', 'JDS Neesham', 'TG Southee', 'MA Starc',\n",
       "        'BR Dunk', 'RR Rossouw', 'Shivam Sharma', 'YS Chahal',\n",
       "        'LMP Simmons', 'VH Zol', 'BCJ Cutting', 'Imran Tahir',\n",
       "        'BE Hendricks', 'S Gopal', 'M de Lange', 'R Tewatia', 'JO Holder',\n",
       "        'Karanveer Singh', 'SS Iyer', 'DJ Hooda', 'Anureet Singh',\n",
       "        'KS Williamson', 'SA Abbott', 'J Suchith', 'RG More', 'HH Pandya',\n",
       "        'D Wiese', 'SN Khan', 'MJ McClenaghan', 'DJ Muthuswami',\n",
       "        'PJ Cummins', 'SN Thakur', 'JC Buttler', 'CR Brathwaite',\n",
       "        'MP Stoinis', 'Ishan Kishan', 'C Munro', 'P Sahu', 'KH Pandya',\n",
       "        'AD Nath', 'MJ Guptill', 'KJ Abbott', 'TM Head', 'M Ashwin',\n",
       "        'NS Naik', 'RR Pant', 'SW Billings', 'KC Cariappa',\n",
       "        'PSP Handscomb', 'Swapnil Singh', 'J Yadav', 'UT Khawaja',\n",
       "        'HM Amla', 'F Behardien', 'BB Sran', 'A Zampa', 'N Rana',\n",
       "        'S Kaushik', 'ER Dwivedi', 'CJ Jordan', 'TS Mills', 'A Choudhary',\n",
       "        'BA Stokes', 'JJ Roy', 'Vishnu Vinod', 'Basil Thampi', 'CR Woakes',\n",
       "        'RA Tripathi', 'DL Chahar', 'V Shankar', 'Rashid Khan',\n",
       "        'RD Chahar', 'LH Ferguson', 'C de Grandhomme', 'AF Milne',\n",
       "        'S Badree', 'Mohammad Nabi', 'AJ Tye', 'K Rabada', 'Kuldeep Yadav',\n",
       "        'Washington Sundar', 'DM Bravo', 'AR Bawne', 'SP Jackson',\n",
       "        'Ankit Soni', 'TA Boult', 'E Lewis', 'MA Wood', 'RK Singh',\n",
       "        'DJM Short', 'K Gowtham', 'TK Curran', 'M Markande', 'B Stanlake',\n",
       "        'Mujeeb Ur Rahman', 'A Dananjaya', 'Shubman Gill', 'Shivam Mavi',\n",
       "        'Mohammed Siraj', 'H Klaasen', 'RK Bhui', 'JC Archer', 'PP Shaw',\n",
       "        'LE Plunkett', 'Mustafizur Rahman', 'AD Hales', 'MK Lomror',\n",
       "        'DR Shorey', 'MM Ali', 'M Prasidh Krishna', 'P Chopra',\n",
       "        'JPR Scantlebury-Searles', 'Abhishek Sharma', 'IS Sodhi',\n",
       "        'SO Hetmyer', 'S Dube', 'Navdeep Saini', 'JM Bairstow', 'KMA Paul',\n",
       "        'Rasikh Salam', 'N Pooran', 'P Ray Barman', 'SM Curran',\n",
       "        'GC Viljoen', 'Avesh Khan', 'S Lamichhane', 'HF Gurney', 'SD Lad',\n",
       "        'AS Joseph', 'R Parag', 'MJ Santner', 'JL Denly', 'LS Livingstone',\n",
       "        'KK Ahmed', 'AJ Turner', 'Harpreet Brar', 'SE Rutherford',\n",
       "        'Y Prithvi Raj', 'P Simran Singh', 'JL Pattinson', 'A Nortje',\n",
       "        'T Banton', 'D Padikkal', 'YBK Jaiswal', 'RD Gaikwad',\n",
       "        'TU Deshpande', 'Abdul Samad', 'PK Garg', 'JR Philippe',\n",
       "        'Kartik Tyagi', 'KL Nagarkoti', 'CV Varun', 'I Udana',\n",
       "        'Ravi Bishnoi', 'Shahbaz Ahmed', 'AT Carey', 'N Jagadeesan',\n",
       "        'T Natarajan', 'P Dubey', 'SS Cottrell', 'Arshdeep Singh',\n",
       "        'DR Sams', 'M Jansen', 'RM Patidar', 'KA Jamieson',\n",
       "        'M Shahrukh Khan', 'JA Richardson', 'Lalit Yadav', 'Virat Singh',\n",
       "        'FA Allen', 'C Sakariya', 'DJ Malan', 'KS Bharat', 'PWH de Silva',\n",
       "        'VR Iyer', 'GD Phillips', 'GHS Garton', 'AK Markram', 'K Yadav',\n",
       "        'T Shamsi', 'NT Ellis', 'RV Patel', 'TL Seifert',\n",
       "        'Anmolpreet Singh', 'Anuj Rawat', 'TH David', 'DP Conway',\n",
       "        'Tilak Varma', 'R Powell', 'PBB Rajapaksa', 'RA Bawa', 'OF Smith',\n",
       "        'A Badoni', 'PVD Chameera', 'A Manohar', 'R Shepherd', 'DJ Willey',\n",
       "        'D Pretorius', 'JM Sharma', 'VG Arora', 'Mukesh Choudhary',\n",
       "        'Umran Malik', 'D Brevis', 'B Sai Sudharsan', 'Ramandeep Singh',\n",
       "        'HE van der Dussen', 'SS Prabhudessai', 'Akash Deep',\n",
       "        'JR Hazlewood', 'KR Sen', 'Aman Hakim Khan', 'HR Shokeen',\n",
       "        'Yash Dayal', 'DJ Mitchell', 'Shashank Singh', 'B Indrajith',\n",
       "        'Harshit Rana', 'Mohsin Khan', 'Simarjeet Singh', 'M Theekshana',\n",
       "        'AS Roy', 'Fazalhaq Farooqi', 'K Kartikeya', 'RP Meredith',\n",
       "        'KS Sharma', 'T Stubbs', 'R Sanjay Yadav', 'A Tomar', 'PN Mankad',\n",
       "        'OC McCoy', 'Sikandar Raza', 'Rahmanullah Gurbaz', 'KR Mayers',\n",
       "        'Mukesh Kumar', 'HC Brook', 'AU Rashid', 'C Green', 'N Wadhera',\n",
       "        'Arshad Khan', 'Abishek Porel', 'Dhruv Jurel', 'MG Bracewell',\n",
       "        'MW Short', 'Mohit Rathee', 'YV Dhull', 'Yudhvir Singh',\n",
       "        'Atharva Taide', 'Liton Das', 'PD Salt', 'Vijaykumar Vyshak',\n",
       "        'Abdul Basith', 'Arjun Tendulkar', 'JP Behrendorff', 'AJ Hosein',\n",
       "        'Naveen-ul-Haq', 'Noor Ahmad', 'JE Root', 'KM Asif', 'MD Shanaka',\n",
       "        'Sanvir Singh', 'Vivrant Sharma', 'DG Nalkande', 'R Ravindra',\n",
       "        'SD Hope', 'Sumit Kumar', 'Azmatullah Omarzai', 'Naman Dhir',\n",
       "        'G Coetzee', 'SZ Mulani', 'Sameer Rizvi', 'SH Johnson',\n",
       "        'Akash Madhwal', 'SB Dubey', 'Mayank Dagar', 'RJW Topley',\n",
       "        'A Raghuvanshi', 'Ashutosh Sharma', 'Nithish Kumar Reddy',\n",
       "        'Saurav Chauhan', 'Kumar Kushagra', 'BR Sharath', 'WG Jacks',\n",
       "        'J Fraser-McGurk', 'Tanush Kotian', 'KA Maharaj',\n",
       "        'Arshad Khan (2)', 'R Sai Kishore', 'L Wood', 'LB Williams',\n",
       "        'AA Kulkarni', 'MJ Suthar', 'RJ Gleeson', 'Gulbadin Naib',\n",
       "        'D Ferreira', 'A Kamboj', 'T Kohler-Cadmore', 'Shivam Singh',\n",
       "        'V Viyaskanth', 'P Amarnath', 'B Geeves', 'Gagandeep Singh',\n",
       "        'A Nel', 'AM Salvi', 'RR Bose', 'SS Sarkar', 'RA Shaikh',\n",
       "        'C Ganapathy', 'MB Parmar', 'AA Kazi', 'Anand Rajan', 'P Prasanth',\n",
       "        'SS Mundhe', 'RW Price', 'TP Sudhindra', 'BW Hilfenhaus',\n",
       "        'P Suyal', 'MG Neser', 'K Santokie', 'JW Hastings', 'GS Sandhu',\n",
       "        'SM Boland', 'Tejas Baroka', 'SS Agarwal', 'NB Singh', 'MJ Henry',\n",
       "        'K Khejroliya', 'L Ngidi', 'CJ Dala', 'SC Kuggeleijn', 'S Midhun',\n",
       "        'O Thomas', 'S Sandeep Warrier', 'CJ Green', 'Monu Kumar',\n",
       "        'LI Meriwala', 'Jalaj S Saxena', 'Akash Singh', 'IC Porel',\n",
       "        'PH Solanki', 'M Pathirana', 'J Little', 'RS Hangargekar',\n",
       "        'NA Saini', 'Yash Thakur', 'Suyash Sharma', 'SSB Magala',\n",
       "        'D Jansen', 'Gurnoor Brar', 'R Goyal', 'H Sharma', 'N Burger',\n",
       "        'KT Maphaka', 'M Siddharth', 'MP Yadav', 'S Joseph', 'N Thushara',\n",
       "        'V Kaverappa'], dtype=object)}"
      ]
     },
     "execution_count": 123,
     "metadata": {},
     "output_type": "execute_result"
    }
   ],
   "source": [
    "all_players()"
   ]
  },
  {
   "cell_type": "code",
   "execution_count": 124,
   "id": "0afe4e84",
   "metadata": {},
   "outputs": [
    {
     "data": {
      "text/plain": [
       "732"
      ]
     },
     "execution_count": 124,
     "metadata": {},
     "output_type": "execute_result"
    }
   ],
   "source": [
    "len(all_players()['players']) # All the players registered for the IPL from 2008-2024 is 732."
   ]
  },
  {
   "cell_type": "code",
   "execution_count": 186,
   "id": "13abd22d",
   "metadata": {},
   "outputs": [],
   "source": [
    "players_ls = all_players()['players']"
   ]
  },
  {
   "cell_type": "code",
   "execution_count": 203,
   "id": "b76310ef",
   "metadata": {},
   "outputs": [],
   "source": [
    "search_term = 'Chahal'\n",
    "matches_pl = [player for player in players_ls if search_term.lower() in player.lower()]\n",
    "# Finds 'kohli', 'KOHLI', etc."
   ]
  },
  {
   "cell_type": "code",
   "execution_count": 204,
   "id": "647bb7f6",
   "metadata": {},
   "outputs": [
    {
     "data": {
      "text/plain": [
       "['YS Chahal']"
      ]
     },
     "execution_count": 204,
     "metadata": {},
     "output_type": "execute_result"
    }
   ],
   "source": [
    "matches_pl"
   ]
  },
  {
   "cell_type": "markdown",
   "id": "2450e3b0",
   "metadata": {
    "papermill": {
     "duration": 0.018816,
     "end_time": "2025-04-06T11:41:59.628053",
     "exception": false,
     "start_time": "2025-04-06T11:41:59.609237",
     "status": "completed"
    },
    "tags": []
   },
   "source": [
    "<a id=\"Title\"></a>\n",
    "# <div style=\"text-align: center;background-color: #2E8B57;color: white;padding: 12px;font-size: 28px;font-family: 'Arial', sans-serif;font-weight: bold;border-radius: 12px;box-shadow: 2px 4px 10px rgba(0, 0, 0, 0.2);width: 95%;margin: auto;\"><b>Team Analysis</b></div>"
   ]
  },
  {
   "cell_type": "markdown",
   "id": "181acb11",
   "metadata": {
    "papermill": {
     "duration": 0.019885,
     "end_time": "2025-04-06T11:41:59.666878",
     "exception": false,
     "start_time": "2025-04-06T11:41:59.646993",
     "status": "completed"
    },
    "tags": []
   },
   "source": [
    "<a id=\"Title\"></a>\n",
    "## <div style=\"text-align: center; background-color: #2E8B57; color: white; padding: 8px; font-size: 20px; font-family: 'Arial', sans-serif; font-weight: bold; border-radius: 10px; box-shadow: 1px 2px 8px rgba(0, 0, 0, 0.15); width: 90%; margin: auto;\"><b>Team Vs Team</b></div>"
   ]
  },
  {
   "cell_type": "markdown",
   "id": "ca1ffe6c",
   "metadata": {},
   "source": [
    "Here we consider the two teams, consider who won whom over, It gives us the insight who has probability of who wins more. of course there is a change in the players which may affect our insight but key players almost remain the same like Dhoni for CSK, Kohili for Royal challenges Banglore"
   ]
  },
  {
   "cell_type": "code",
   "execution_count": 125,
   "id": "ac5e3b4b",
   "metadata": {
    "execution": {
     "iopub.execute_input": "2025-04-06T11:41:59.706845Z",
     "iopub.status.busy": "2025-04-06T11:41:59.706502Z",
     "iopub.status.idle": "2025-04-06T11:41:59.710513Z",
     "shell.execute_reply": "2025-04-06T11:41:59.709521Z"
    },
    "papermill": {
     "duration": 0.025502,
     "end_time": "2025-04-06T11:41:59.712116",
     "exception": false,
     "start_time": "2025-04-06T11:41:59.686614",
     "status": "completed"
    },
    "tags": []
   },
   "outputs": [],
   "source": [
    "# Here we consider two famous teams, let's see who gains the upper hand\n",
    "team1 = 'Kolkata Knight Riders'\n",
    "team2 = 'Royal Challengers Bangalore'"
   ]
  },
  {
   "cell_type": "code",
   "execution_count": 126,
   "id": "60f21bb8",
   "metadata": {
    "execution": {
     "iopub.execute_input": "2025-04-06T11:41:59.755266Z",
     "iopub.status.busy": "2025-04-06T11:41:59.754925Z",
     "iopub.status.idle": "2025-04-06T11:41:59.760532Z",
     "shell.execute_reply": "2025-04-06T11:41:59.759680Z"
    },
    "papermill": {
     "duration": 0.030627,
     "end_time": "2025-04-06T11:41:59.762195",
     "exception": false,
     "start_time": "2025-04-06T11:41:59.731568",
     "status": "completed"
    },
    "tags": []
   },
   "outputs": [],
   "source": [
    "# The teamVteam is a function where we takes the matches dateset and count the number of both wins \n",
    "# and losses against each other\n",
    "def teamVteam(team1,team2):\n",
    "    temp_df = matches[((matches['team1'] == team1) & (matches['team2'] == team2)) | \n",
    "        ((matches['team1'] == team2) & (matches['team2'] == team1))]\n",
    "    total_matches = temp_df.shape[0] # Total number of matches\n",
    "    team1_wins = temp_df[temp_df['winner'] == team1].shape[0] # No of wins\n",
    "    team2_wins = temp_df[temp_df['winner'] == team2].shape[0]\n",
    "    team1_win_per = (team1_wins/total_matches)*100 # Calculate the Probaility percentage based on wins & Losses\n",
    "    team2_win_per = (team2_wins/total_matches)*100\n",
    "\n",
    "    dic = {\n",
    "        'team1' : team1,\n",
    "        'team2' : team2,\n",
    "        'total_matches':total_matches,\n",
    "        'wins':{\n",
    "            team1 : team1_wins,\n",
    "            team2 : team2_wins\n",
    "        },\n",
    "        'winning_perc':{\n",
    "            team1 : team1_win_per,\n",
    "            team2 : team2_win_per\n",
    "        }\n",
    "        \n",
    "    }\n",
    "    return dic\n",
    "    "
   ]
  },
  {
   "cell_type": "code",
   "execution_count": 127,
   "id": "51e04886",
   "metadata": {},
   "outputs": [
    {
     "data": {
      "text/plain": [
       "{'team1': 'Kolkata Knight Riders',\n",
       " 'team2': 'Royal Challengers Bangalore',\n",
       " 'total_matches': 32,\n",
       " 'wins': {'Kolkata Knight Riders': 18, 'Royal Challengers Bangalore': 14},\n",
       " 'winning_perc': {'Kolkata Knight Riders': 56.25,\n",
       "  'Royal Challengers Bangalore': 43.75}}"
      ]
     },
     "execution_count": 127,
     "metadata": {},
     "output_type": "execute_result"
    }
   ],
   "source": [
    "teamVteam('Kolkata Knight Riders','Royal Challengers Bangalore')"
   ]
  },
  {
   "cell_type": "code",
   "execution_count": 128,
   "id": "f7481ce9",
   "metadata": {
    "execution": {
     "iopub.execute_input": "2025-04-06T11:41:59.800824Z",
     "iopub.status.busy": "2025-04-06T11:41:59.800444Z",
     "iopub.status.idle": "2025-04-06T11:41:59.809316Z",
     "shell.execute_reply": "2025-04-06T11:41:59.808465Z"
    },
    "papermill": {
     "duration": 0.029743,
     "end_time": "2025-04-06T11:41:59.810750",
     "exception": false,
     "start_time": "2025-04-06T11:41:59.781007",
     "status": "completed"
    },
    "tags": []
   },
   "outputs": [
    {
     "data": {
      "text/plain": [
       "{'team1': 'Chennai Super Kings',\n",
       " 'team2': 'Mumbai Indians',\n",
       " 'total_matches': 37,\n",
       " 'wins': {'Chennai Super Kings': 17, 'Mumbai Indians': 20},\n",
       " 'winning_perc': {'Chennai Super Kings': 45.94594594594595,\n",
       "  'Mumbai Indians': 54.054054054054056}}"
      ]
     },
     "execution_count": 128,
     "metadata": {},
     "output_type": "execute_result"
    }
   ],
   "source": [
    "teamVteam('Chennai Super Kings','Mumbai Indians')"
   ]
  },
  {
   "cell_type": "markdown",
   "id": "84dcea1b",
   "metadata": {
    "papermill": {
     "duration": 0.01915,
     "end_time": "2025-04-06T11:41:59.849804",
     "exception": false,
     "start_time": "2025-04-06T11:41:59.830654",
     "status": "completed"
    },
    "tags": []
   },
   "source": [
    "<a id=\"Title\"></a>\n",
    "## <div style=\"text-align: center; background-color: #2E8B57; color: white; padding: 8px; font-size: 20px; font-family: 'Arial', sans-serif; font-weight: bold; border-radius: 10px; box-shadow: 1px 2px 8px rgba(0, 0, 0, 0.15); width: 90%; margin: auto;\"><b>Team Record</b></div>"
   ]
  },
  {
   "cell_type": "code",
   "execution_count": 129,
   "id": "7eba56d8",
   "metadata": {
    "execution": {
     "iopub.execute_input": "2025-04-06T11:41:59.888719Z",
     "iopub.status.busy": "2025-04-06T11:41:59.888344Z",
     "iopub.status.idle": "2025-04-06T11:41:59.891945Z",
     "shell.execute_reply": "2025-04-06T11:41:59.891153Z"
    },
    "papermill": {
     "duration": 0.024919,
     "end_time": "2025-04-06T11:41:59.893475",
     "exception": false,
     "start_time": "2025-04-06T11:41:59.868556",
     "status": "completed"
    },
    "tags": []
   },
   "outputs": [],
   "source": [
    "team = 'Kings XI Punjab'"
   ]
  },
  {
   "cell_type": "code",
   "execution_count": 153,
   "id": "c308ce07",
   "metadata": {
    "execution": {
     "iopub.execute_input": "2025-04-06T11:41:59.932289Z",
     "iopub.status.busy": "2025-04-06T11:41:59.931897Z",
     "iopub.status.idle": "2025-04-06T11:41:59.940685Z",
     "shell.execute_reply": "2025-04-06T11:41:59.939701Z"
    },
    "papermill": {
     "duration": 0.029976,
     "end_time": "2025-04-06T11:41:59.942283",
     "exception": false,
     "start_time": "2025-04-06T11:41:59.912307",
     "status": "completed"
    },
    "tags": []
   },
   "outputs": [],
   "source": [
    "import pandas as pd\n",
    "\n",
    "def team_record(team):\n",
    "    # Filter all matches where the given team played\n",
    "    temp_df = matches[(matches['team1'] == team) | (matches['team2'] == team)]\n",
    "\n",
    "    # Overall stats\n",
    "    total_matches = temp_df.shape[0]\n",
    "    total_wins = (temp_df['winner'] == team).sum()\n",
    "    total_draws = temp_df['winner'].isnull().sum()\n",
    "    total_loss = ((temp_df['winner'] != team) & temp_df['winner'].notna()).sum()\n",
    "    winning_perc = (total_wins / total_matches) * 100 if total_matches > 0 else 0\n",
    "    title_wons = temp_df[(temp_df['winner'] == team) & (temp_df['match_type'] == 'Final')].shape[0]\n",
    "\n",
    "    # Get all unique opponent teams\n",
    "    teams = pd.concat([temp_df['team1'], temp_df['team2']]).unique()\n",
    "\n",
    "    # Create a dictionary for records against each opponent\n",
    "    opponent_stats = {}\n",
    "    for opponent in teams:\n",
    "        if opponent != team:\n",
    "            opponent_df = temp_df[(temp_df['team1'] == opponent) | (temp_df['team2'] == opponent)]\n",
    "            total_won = (opponent_df['winner'] == team).sum()\n",
    "            total_matches_vs = opponent_df.shape[0]\n",
    "            total_loss_vs = ((opponent_df['winner'] != team) & opponent_df['winner'].notna()).sum()\n",
    "            total_draws_vs = opponent_df['winner'].isnull().sum()\n",
    "            winning_perc_vs = (total_won / total_matches_vs) * 100 if total_matches_vs > 0 else 0\n",
    "\n",
    "            opponent_stats[opponent] = {\n",
    "                'total_matches': int(total_matches_vs),\n",
    "                'total_wins': int(total_won),\n",
    "                'total_draws': int(total_draws_vs),\n",
    "                'total_loss': int(total_loss_vs),\n",
    "                'winning_perc': float(round(winning_perc_vs, 2))\n",
    "            }\n",
    "\n",
    "    # Final dictionary output\n",
    "    return {\n",
    "        team: {\n",
    "            'overall': {\n",
    "                'match_played': int(total_matches),\n",
    "                'won': int(total_wins),\n",
    "                'loss': int(total_loss),\n",
    "                'draws': int(total_draws),\n",
    "                'winning_perc': round(winning_perc, 2).item(),\n",
    "                'titles': int(title_wons)\n",
    "            },\n",
    "            'against': opponent_stats\n",
    "        }\n",
    "    }\n"
   ]
  },
  {
   "cell_type": "code",
   "execution_count": 154,
   "id": "26f1c7ae",
   "metadata": {
    "execution": {
     "iopub.execute_input": "2025-04-06T11:41:59.981933Z",
     "iopub.status.busy": "2025-04-06T11:41:59.981566Z",
     "iopub.status.idle": "2025-04-06T11:42:00.015822Z",
     "shell.execute_reply": "2025-04-06T11:42:00.014684Z"
    },
    "papermill": {
     "duration": 0.055994,
     "end_time": "2025-04-06T11:42:00.017640",
     "exception": false,
     "start_time": "2025-04-06T11:41:59.961646",
     "status": "completed"
    },
    "tags": []
   },
   "outputs": [
    {
     "data": {
      "text/plain": [
       "{'Mumbai Indians': {'overall': {'match_played': 261,\n",
       "   'won': 144,\n",
       "   'loss': 117,\n",
       "   'draws': 0,\n",
       "   'winning_perc': 55.17,\n",
       "   'titles': 5},\n",
       "  'against': {'Chennai Super Kings': {'total_matches': 37,\n",
       "    'total_wins': 20,\n",
       "    'total_draws': 0,\n",
       "    'total_loss': 17,\n",
       "    'winning_perc': 54.05},\n",
       "   'Kings XI Punjab': {'total_matches': 26,\n",
       "    'total_wins': 14,\n",
       "    'total_draws': 0,\n",
       "    'total_loss': 12,\n",
       "    'winning_perc': 53.85},\n",
       "   'Kolkata Knight Riders': {'total_matches': 34,\n",
       "    'total_wins': 23,\n",
       "    'total_draws': 0,\n",
       "    'total_loss': 11,\n",
       "    'winning_perc': 67.65},\n",
       "   'Deccan Chargers': {'total_matches': 10,\n",
       "    'total_wins': 6,\n",
       "    'total_draws': 0,\n",
       "    'total_loss': 4,\n",
       "    'winning_perc': 60.0},\n",
       "   'Delhi Daredevils': {'total_matches': 22,\n",
       "    'total_wins': 11,\n",
       "    'total_draws': 0,\n",
       "    'total_loss': 11,\n",
       "    'winning_perc': 50.0},\n",
       "   'Rajasthan Royals': {'total_matches': 29,\n",
       "    'total_wins': 15,\n",
       "    'total_draws': 0,\n",
       "    'total_loss': 14,\n",
       "    'winning_perc': 51.72},\n",
       "   'Royal Challengers Bangalore': {'total_matches': 32,\n",
       "    'total_wins': 18,\n",
       "    'total_draws': 0,\n",
       "    'total_loss': 14,\n",
       "    'winning_perc': 56.25},\n",
       "   'Pune Warriors': {'total_matches': 6,\n",
       "    'total_wins': 5,\n",
       "    'total_draws': 0,\n",
       "    'total_loss': 1,\n",
       "    'winning_perc': 83.33},\n",
       "   'Sunrisers Hyderabad': {'total_matches': 23,\n",
       "    'total_wins': 13,\n",
       "    'total_draws': 0,\n",
       "    'total_loss': 10,\n",
       "    'winning_perc': 56.52},\n",
       "   'Rising Pune Supergiants': {'total_matches': 2,\n",
       "    'total_wins': 1,\n",
       "    'total_draws': 0,\n",
       "    'total_loss': 1,\n",
       "    'winning_perc': 50.0},\n",
       "   'Gujarat Lions': {'total_matches': 4,\n",
       "    'total_wins': 2,\n",
       "    'total_draws': 0,\n",
       "    'total_loss': 2,\n",
       "    'winning_perc': 50.0},\n",
       "   'Rising Pune Supergiant': {'total_matches': 4,\n",
       "    'total_wins': 1,\n",
       "    'total_draws': 0,\n",
       "    'total_loss': 3,\n",
       "    'winning_perc': 25.0},\n",
       "   'Delhi Capitals': {'total_matches': 13,\n",
       "    'total_wins': 8,\n",
       "    'total_draws': 0,\n",
       "    'total_loss': 5,\n",
       "    'winning_perc': 61.54},\n",
       "   'Punjab Kings': {'total_matches': 6,\n",
       "    'total_wins': 3,\n",
       "    'total_draws': 0,\n",
       "    'total_loss': 3,\n",
       "    'winning_perc': 50.0},\n",
       "   'Lucknow Super Giants': {'total_matches': 6,\n",
       "    'total_wins': 1,\n",
       "    'total_draws': 0,\n",
       "    'total_loss': 5,\n",
       "    'winning_perc': 16.67},\n",
       "   'Gujarat Titans': {'total_matches': 5,\n",
       "    'total_wins': 2,\n",
       "    'total_draws': 0,\n",
       "    'total_loss': 3,\n",
       "    'winning_perc': 40.0},\n",
       "   'Royal Challengers Bengaluru': {'total_matches': 1,\n",
       "    'total_wins': 1,\n",
       "    'total_draws': 0,\n",
       "    'total_loss': 0,\n",
       "    'winning_perc': 100.0},\n",
       "   'Kochi Tuskers Kerala': {'total_matches': 1,\n",
       "    'total_wins': 0,\n",
       "    'total_draws': 0,\n",
       "    'total_loss': 1,\n",
       "    'winning_perc': 0.0}}}}"
      ]
     },
     "execution_count": 154,
     "metadata": {},
     "output_type": "execute_result"
    }
   ],
   "source": [
    "# Here is shows a track record against \n",
    "team_record('Mumbai Indians')"
   ]
  },
  {
   "cell_type": "markdown",
   "id": "fe23e810",
   "metadata": {
    "papermill": {
     "duration": 0.019628,
     "end_time": "2025-04-06T11:42:00.056963",
     "exception": false,
     "start_time": "2025-04-06T11:42:00.037335",
     "status": "completed"
    },
    "tags": []
   },
   "source": [
    "<a id=\"Title\"></a>\n",
    "## <div style=\"text-align: center; background-color: #2E8B57; color: white; padding: 8px; font-size: 20px; font-family: 'Arial', sans-serif; font-weight: bold; border-radius: 10px; box-shadow: 1px 2px 8px rgba(0, 0, 0, 0.15); width: 90%; margin: auto;\"><b>Top 5 Teams Stats</b></div>"
   ]
  },
  {
   "cell_type": "code",
   "execution_count": 132,
   "id": "5f899d6f",
   "metadata": {
    "execution": {
     "iopub.execute_input": "2025-04-06T11:42:00.097107Z",
     "iopub.status.busy": "2025-04-06T11:42:00.096728Z",
     "iopub.status.idle": "2025-04-06T11:42:01.398802Z",
     "shell.execute_reply": "2025-04-06T11:42:01.397534Z"
    },
    "papermill": {
     "duration": 1.324167,
     "end_time": "2025-04-06T11:42:01.400809",
     "exception": false,
     "start_time": "2025-04-06T11:42:00.076642",
     "status": "completed"
    },
    "tags": []
   },
   "outputs": [
    {
     "data": {
      "image/png": "[encoded data removed]",
      "text/plain": [
       "<Figure size 2200x700 with 3 Axes>"
      ]
     },
     "metadata": {},
     "output_type": "display_data"
    }
   ],
   "source": [
    "\n",
    "# Set style and parameters\n",
    "sns.set_style(\"whitegrid\")\n",
    "plt.rcParams.update({\n",
    "    \"font.size\": 14,\n",
    "    \"axes.labelweight\": \"bold\",\n",
    "    \"axes.edgecolor\": \"#1F2A40\",\n",
    "    \"axes.linewidth\": 1.2\n",
    "})\n",
    "\n",
    "# Create figure with light background\n",
    "fig, axes = plt.subplots(1, 3, figsize=(22, 7), facecolor=\"#f8f9fa\")\n",
    "\n",
    "# --- Plot 1: Stacked Bar Chart (---\n",
    "top_teams[['won', 'loss', 'draws']].plot(\n",
    "    kind='bar', stacked=True,\n",
    "    color=[\"#4A90E2\", \"#D0021B\", \"#F5A623\"],\n",
    "    alpha=0.85, ax=axes[0]\n",
    ")\n",
    "axes[0].set_title(\"Wins, Losses & Draws\", fontsize=16, fontweight=\"bold\", color=\"#1F2A40\")\n",
    "axes[0].set_xlabel(\"Teams\", fontsize=14, color=\"#1F2A40\")\n",
    "axes[0].set_ylabel(\"Matches\", fontsize=14, color=\"#1F2A40\")\n",
    "axes[0].tick_params(axis='x', rotation=45, labelsize=12, colors=\"#1F2A40\")\n",
    "\n",
    "# --- Plot 2: Winning Percentage ---\n",
    "sns.barplot(\n",
    "    data=top_teams.reset_index(),\n",
    "    x='index',  # Team names\n",
    "    y='winning_perc',\n",
    "    hue='index',  # New required parameter\n",
    "    palette=['#1F2A40', '#2C3E50', '#34495E', '#3B5998', '#4A90E2'],\n",
    "    legend=False,  # Disable redundant legend\n",
    "    ax=axes[1]\n",
    ")\n",
    "axes[1].set_title(\"Winning Percentage (%)\", fontsize=16, fontweight=\"bold\", color=\"#1F2A40\")\n",
    "axes[1].set_xlabel(\"Teams\", fontsize=14, color=\"#1F2A40\")\n",
    "axes[1].set_ylabel(\"Winning %\", fontsize=14, color=\"#1F2A40\")\n",
    "axes[1].tick_params(axis='x', rotation=45, labelsize=12, colors=\"#1F2A40\")\n",
    "\n",
    "# --- Plot 3: Titles Won---\n",
    "sns.barplot(\n",
    "    data=top_teams.reset_index(),\n",
    "    x='index',\n",
    "    y='titles',\n",
    "    hue='index',\n",
    "    palette=\"Blues\",\n",
    "    legend=False,\n",
    "    ax=axes[2]\n",
    ")\n",
    "axes[2].set_title(\"Titles Won\", fontsize=16, fontweight=\"bold\", color=\"#1F2A40\")\n",
    "axes[2].set_xlabel(\"Teams\", fontsize=14, color=\"#1F2A40\")\n",
    "axes[2].set_ylabel(\"Titles Won\", fontsize=14, color=\"#1F2A40\")\n",
    "axes[2].tick_params(axis='x', rotation=45, labelsize=12, colors=\"#1F2A40\")\n",
    "\n",
    "# --- Annotations  ---\n",
    "for index, value in enumerate(top_teams['winning_perc']):\n",
    "    axes[1].text(index, value + 1, f\"{value:.1f}%\", ha=\"center\", fontsize=12, fontweight=\"bold\", color=\"#1F2A40\")\n",
    "\n",
    "for index, value in enumerate(top_teams['titles']):\n",
    "    axes[2].text(index, value + 0.2, f\"{int(value)}\", ha=\"center\", fontsize=12, fontweight=\"bold\", color=\"#1F2A40\")\n",
    "\n",
    "plt.tight_layout(pad=3.5)\n",
    "plt.show()"
   ]
  },
  {
   "cell_type": "markdown",
   "id": "989404ac",
   "metadata": {
    "papermill": {
     "duration": 0.021594,
     "end_time": "2025-04-06T11:42:01.445233",
     "exception": false,
     "start_time": "2025-04-06T11:42:01.423639",
     "status": "completed"
    },
    "tags": []
   },
   "source": [
    "<a id=\"Title\"></a>\n",
    "## <div style=\"text-align: center; background-color: #2E8B57; color: white; padding: 8px; font-size: 20px; font-family: 'Arial', sans-serif; font-weight: bold; border-radius: 10px; box-shadow: 1px 2px 8px rgba(0, 0, 0, 0.15); width: 90%; margin: auto;\"><b>Teams with most wins</b></div>"
   ]
  },
  {
   "cell_type": "code",
   "execution_count": 133,
   "id": "8024e1c3",
   "metadata": {
    "execution": {
     "iopub.execute_input": "2025-04-06T11:42:01.489839Z",
     "iopub.status.busy": "2025-04-06T11:42:01.489494Z",
     "iopub.status.idle": "2025-04-06T11:42:01.591331Z",
     "shell.execute_reply": "2025-04-06T11:42:01.590267Z"
    },
    "papermill": {
     "duration": 0.125961,
     "end_time": "2025-04-06T11:42:01.592965",
     "exception": false,
     "start_time": "2025-04-06T11:42:01.467004",
     "status": "completed"
    },
    "tags": []
   },
   "outputs": [
    {
     "data": {
      "text/html": [
       "<style type=\"text/css\">\n",
       "#T_a247d thead th {\n",
       "  background-color: #2E8B57;\n",
       "  color: white;\n",
       "  font-size: 14px;\n",
       "  font-weight: bold;\n",
       "  padding: 12px;\n",
       "  text-align: center;\n",
       "  border: 2px solid #1F2A40;\n",
       "}\n",
       "#T_a247d td {\n",
       "  border: 1px solid #ddd;\n",
       "  padding: 10px;\n",
       "  text-align: center;\n",
       "  font-size: 13px;\n",
       "  color: #333;\n",
       "}\n",
       "#T_a247d tbody tr:nth-child(odd) {\n",
       "  background-color: #f5f5f5;\n",
       "}\n",
       "#T_a247d tbody tr:nth-child(even) {\n",
       "  background-color: #ffffff;\n",
       "}\n",
       "#T_a247d tbody tr:hover {\n",
       "  background-color: #e3e6ea;\n",
       "}\n",
       "</style>\n",
       "<table id=\"T_a247d\" style=\"margin-left:auto; margin-right:auto; border-collapse: collapse; width: 95%; box-shadow: 2px 2px 12px rgba(0, 0, 0, 0.1);\">\n",
       "  <thead>\n",
       "    <tr>\n",
       "      <th id=\"T_a247d_level0_col0\" class=\"col_heading level0 col0\" >team</th>\n",
       "      <th id=\"T_a247d_level0_col1\" class=\"col_heading level0 col1\" >total_wins</th>\n",
       "    </tr>\n",
       "  </thead>\n",
       "  <tbody>\n",
       "    <tr>\n",
       "      <td id=\"T_a247d_row0_col0\" class=\"data row0 col0\" >Mumbai Indians</td>\n",
       "      <td id=\"T_a247d_row0_col1\" class=\"data row0 col1\" >144</td>\n",
       "    </tr>\n",
       "    <tr>\n",
       "      <td id=\"T_a247d_row1_col0\" class=\"data row1 col0\" >Chennai Super Kings</td>\n",
       "      <td id=\"T_a247d_row1_col1\" class=\"data row1 col1\" >138</td>\n",
       "    </tr>\n",
       "    <tr>\n",
       "      <td id=\"T_a247d_row2_col0\" class=\"data row2 col0\" >Kolkata Knight Riders</td>\n",
       "      <td id=\"T_a247d_row2_col1\" class=\"data row2 col1\" >131</td>\n",
       "    </tr>\n",
       "    <tr>\n",
       "      <td id=\"T_a247d_row3_col0\" class=\"data row3 col0\" >Royal Challengers Bangalore</td>\n",
       "      <td id=\"T_a247d_row3_col1\" class=\"data row3 col1\" >116</td>\n",
       "    </tr>\n",
       "    <tr>\n",
       "      <td id=\"T_a247d_row4_col0\" class=\"data row4 col0\" >Rajasthan Royals</td>\n",
       "      <td id=\"T_a247d_row4_col1\" class=\"data row4 col1\" >112</td>\n",
       "    </tr>\n",
       "    <tr>\n",
       "      <td id=\"T_a247d_row5_col0\" class=\"data row5 col0\" >Kings XI Punjab</td>\n",
       "      <td id=\"T_a247d_row5_col1\" class=\"data row5 col1\" >88</td>\n",
       "    </tr>\n",
       "    <tr>\n",
       "      <td id=\"T_a247d_row6_col0\" class=\"data row6 col0\" >Sunrisers Hyderabad</td>\n",
       "      <td id=\"T_a247d_row6_col1\" class=\"data row6 col1\" >88</td>\n",
       "    </tr>\n",
       "    <tr>\n",
       "      <td id=\"T_a247d_row7_col0\" class=\"data row7 col0\" >Delhi Daredevils</td>\n",
       "      <td id=\"T_a247d_row7_col1\" class=\"data row7 col1\" >67</td>\n",
       "    </tr>\n",
       "    <tr>\n",
       "      <td id=\"T_a247d_row8_col0\" class=\"data row8 col0\" >Delhi Capitals</td>\n",
       "      <td id=\"T_a247d_row8_col1\" class=\"data row8 col1\" >48</td>\n",
       "    </tr>\n",
       "    <tr>\n",
       "      <td id=\"T_a247d_row9_col0\" class=\"data row9 col0\" >Deccan Chargers</td>\n",
       "      <td id=\"T_a247d_row9_col1\" class=\"data row9 col1\" >29</td>\n",
       "    </tr>\n",
       "  </tbody>\n",
       "</table>\n"
      ],
      "text/plain": [
       "<pandas.io.formats.style.Styler at 0x12ff9d270>"
      ]
     },
     "execution_count": 133,
     "metadata": {},
     "output_type": "execute_result"
    }
   ],
   "source": [
    "import pandas as pd\n",
    "\n",
    "def teams_with_most_wins():\n",
    "    # Count the number of wins for each team\n",
    "    team_wins = matches['winner'].value_counts().reset_index()\n",
    "    team_wins.columns = ['team', 'total_wins']\n",
    "\n",
    "    # Sort in descending order of wins\n",
    "    team_wins = team_wins.sort_values(by='total_wins', ascending=False).reset_index(drop=True)\n",
    "\n",
    "    return team_wins\n",
    "\n",
    "style_dataframe(teams_with_most_wins().head(10))"
   ]
  },
  {
   "cell_type": "markdown",
   "id": "2f837371",
   "metadata": {
    "papermill": {
     "duration": 0.021601,
     "end_time": "2025-04-06T11:42:01.637085",
     "exception": false,
     "start_time": "2025-04-06T11:42:01.615484",
     "status": "completed"
    },
    "tags": []
   },
   "source": [
    "<a id=\"Title\"></a>\n",
    "## <div style=\"text-align: center; background-color: #2E8B57; color: white; padding: 8px; font-size: 20px; font-family: 'Arial', sans-serif; font-weight: bold; border-radius: 10px; box-shadow: 1px 2px 8px rgba(0, 0, 0, 0.15); width: 90%; margin: auto;\"><b>Highest Total by teams</b></div>"
   ]
  },
  {
   "cell_type": "code",
   "execution_count": 145,
   "id": "0d11e199",
   "metadata": {
    "execution": {
     "iopub.execute_input": "2025-04-06T11:42:01.685162Z",
     "iopub.status.busy": "2025-04-06T11:42:01.684597Z",
     "iopub.status.idle": "2025-04-06T11:42:01.689492Z",
     "shell.execute_reply": "2025-04-06T11:42:01.688459Z"
    },
    "papermill": {
     "duration": 0.031693,
     "end_time": "2025-04-06T11:42:01.691070",
     "exception": false,
     "start_time": "2025-04-06T11:42:01.659377",
     "status": "completed"
    },
    "tags": []
   },
   "outputs": [],
   "source": [
    "def toss_winner(x):\n",
    "    if x.iloc[0]=='bat':\n",
    "        return x.iloc[1]\n",
    "    elif x.iloc[2]!=x.iloc[1]:\n",
    "        return x.iloc[2]\n",
    "    return x.iloc[3]"
   ]
  },
  {
   "cell_type": "code",
   "execution_count": 146,
   "id": "fde12a53",
   "metadata": {
    "execution": {
     "iopub.execute_input": "2025-04-06T11:42:01.737014Z",
     "iopub.status.busy": "2025-04-06T11:42:01.736591Z",
     "iopub.status.idle": "2025-04-06T11:42:01.781819Z",
     "shell.execute_reply": "2025-04-06T11:42:01.780817Z"
    },
    "papermill": {
     "duration": 0.070338,
     "end_time": "2025-04-06T11:42:01.783673",
     "exception": false,
     "start_time": "2025-04-06T11:42:01.713335",
     "status": "completed"
    },
    "tags": []
   },
   "outputs": [
    {
     "data": {
      "text/html": [
       "<style type=\"text/css\">\n",
       "#T_7d796 thead th {\n",
       "  background-color: #2E8B57;\n",
       "  color: white;\n",
       "  font-size: 14px;\n",
       "  font-weight: bold;\n",
       "  padding: 12px;\n",
       "  text-align: center;\n",
       "  border: 2px solid #1F2A40;\n",
       "}\n",
       "#T_7d796 td {\n",
       "  border: 1px solid #ddd;\n",
       "  padding: 10px;\n",
       "  text-align: center;\n",
       "  font-size: 13px;\n",
       "  color: #333;\n",
       "}\n",
       "#T_7d796 tbody tr:nth-child(odd) {\n",
       "  background-color: #f5f5f5;\n",
       "}\n",
       "#T_7d796 tbody tr:nth-child(even) {\n",
       "  background-color: #ffffff;\n",
       "}\n",
       "#T_7d796 tbody tr:hover {\n",
       "  background-color: #e3e6ea;\n",
       "}\n",
       "</style>\n",
       "<table id=\"T_7d796\" style=\"margin-left:auto; margin-right:auto; border-collapse: collapse; width: 95%; box-shadow: 2px 2px 12px rgba(0, 0, 0, 0.1);\">\n",
       "  <thead>\n",
       "    <tr>\n",
       "      <th id=\"T_7d796_level0_col0\" class=\"col_heading level0 col0\" >batting_team</th>\n",
       "      <th id=\"T_7d796_level0_col1\" class=\"col_heading level0 col1\" >target_runs</th>\n",
       "    </tr>\n",
       "  </thead>\n",
       "  <tbody>\n",
       "    <tr>\n",
       "      <td id=\"T_7d796_row0_col0\" class=\"data row0 col0\" >Sunrisers Hyderabad</td>\n",
       "      <td id=\"T_7d796_row0_col1\" class=\"data row0 col1\" >287.000000</td>\n",
       "    </tr>\n",
       "    <tr>\n",
       "      <td id=\"T_7d796_row1_col0\" class=\"data row1 col0\" >Sunrisers Hyderabad</td>\n",
       "      <td id=\"T_7d796_row1_col1\" class=\"data row1 col1\" >277.000000</td>\n",
       "    </tr>\n",
       "    <tr>\n",
       "      <td id=\"T_7d796_row2_col0\" class=\"data row2 col0\" >Kolkata Knight Riders</td>\n",
       "      <td id=\"T_7d796_row2_col1\" class=\"data row2 col1\" >272.000000</td>\n",
       "    </tr>\n",
       "    <tr>\n",
       "      <td id=\"T_7d796_row3_col0\" class=\"data row3 col0\" >Sunrisers Hyderabad</td>\n",
       "      <td id=\"T_7d796_row3_col1\" class=\"data row3 col1\" >266.000000</td>\n",
       "    </tr>\n",
       "    <tr>\n",
       "      <td id=\"T_7d796_row4_col0\" class=\"data row4 col0\" >Royal Challengers Bangalore</td>\n",
       "      <td id=\"T_7d796_row4_col1\" class=\"data row4 col1\" >263.000000</td>\n",
       "    </tr>\n",
       "    <tr>\n",
       "      <td id=\"T_7d796_row5_col0\" class=\"data row5 col0\" >Kolkata Knight Riders</td>\n",
       "      <td id=\"T_7d796_row5_col1\" class=\"data row5 col1\" >261.000000</td>\n",
       "    </tr>\n",
       "    <tr>\n",
       "      <td id=\"T_7d796_row6_col0\" class=\"data row6 col0\" >Delhi Capitals</td>\n",
       "      <td id=\"T_7d796_row6_col1\" class=\"data row6 col1\" >257.000000</td>\n",
       "    </tr>\n",
       "    <tr>\n",
       "      <td id=\"T_7d796_row7_col0\" class=\"data row7 col0\" >Lucknow Super Giants</td>\n",
       "      <td id=\"T_7d796_row7_col1\" class=\"data row7 col1\" >257.000000</td>\n",
       "    </tr>\n",
       "    <tr>\n",
       "      <td id=\"T_7d796_row8_col0\" class=\"data row8 col0\" >Royal Challengers Bangalore</td>\n",
       "      <td id=\"T_7d796_row8_col1\" class=\"data row8 col1\" >248.000000</td>\n",
       "    </tr>\n",
       "    <tr>\n",
       "      <td id=\"T_7d796_row9_col0\" class=\"data row9 col0\" >Chennai Super Kings</td>\n",
       "      <td id=\"T_7d796_row9_col1\" class=\"data row9 col1\" >246.000000</td>\n",
       "    </tr>\n",
       "  </tbody>\n",
       "</table>\n"
      ],
      "text/plain": [
       "<pandas.io.formats.style.Styler at 0x13fa40c70>"
      ]
     },
     "execution_count": 146,
     "metadata": {},
     "output_type": "execute_result"
    }
   ],
   "source": [
    "import warnings\n",
    "warnings.simplefilter(action='ignore', category=RuntimeWarning)\n",
    "df_copy=matches.copy()\n",
    "df_copy['batting_team']=df_copy[['toss_decision','toss_winner','team1','team2']].apply(toss_winner,axis=1)\n",
    "df_copy=df_copy.sort_values(by=\"target_runs\",ascending=False).reset_index().drop_duplicates()\n",
    "df_copy['target_runs']=df_copy['target_runs']-1\n",
    "df_copy=df_copy[['batting_team','target_runs']].head(10)\n",
    "style_dataframe(df_copy)"
   ]
  },
  {
   "cell_type": "markdown",
   "id": "11b67c70",
   "metadata": {
    "papermill": {
     "duration": 0.023414,
     "end_time": "2025-04-06T11:42:01.829906",
     "exception": false,
     "start_time": "2025-04-06T11:42:01.806492",
     "status": "completed"
    },
    "tags": []
   },
   "source": [
    "<a id=\"Title\"></a>\n",
    "## <div style=\"text-align: center; background-color: #2E8B57; color: white; padding: 8px; font-size: 20px; font-family: 'Arial', sans-serif; font-weight: bold; border-radius: 10px; box-shadow: 1px 2px 8px rgba(0, 0, 0, 0.15); width: 90%; margin: auto;\"><b>Highest Chase by Teams</b></div>"
   ]
  },
  {
   "cell_type": "code",
   "execution_count": 136,
   "id": "4622eee7",
   "metadata": {
    "execution": {
     "iopub.execute_input": "2025-04-06T11:42:01.878677Z",
     "iopub.status.busy": "2025-04-06T11:42:01.878342Z",
     "iopub.status.idle": "2025-04-06T11:42:02.264267Z",
     "shell.execute_reply": "2025-04-06T11:42:02.263184Z"
    },
    "papermill": {
     "duration": 0.412312,
     "end_time": "2025-04-06T11:42:02.265893",
     "exception": false,
     "start_time": "2025-04-06T11:42:01.853581",
     "status": "completed"
    },
    "tags": []
   },
   "outputs": [
    {
     "data": {
      "text/html": [
       "<style type=\"text/css\">\n",
       "#T_003b8 thead th {\n",
       "  background-color: #2E8B57;\n",
       "  color: white;\n",
       "  font-size: 14px;\n",
       "  font-weight: bold;\n",
       "  padding: 12px;\n",
       "  text-align: center;\n",
       "  border: 2px solid #1F2A40;\n",
       "}\n",
       "#T_003b8 td {\n",
       "  border: 1px solid #ddd;\n",
       "  padding: 10px;\n",
       "  text-align: center;\n",
       "  font-size: 13px;\n",
       "  color: #333;\n",
       "}\n",
       "#T_003b8 tbody tr:nth-child(odd) {\n",
       "  background-color: #f5f5f5;\n",
       "}\n",
       "#T_003b8 tbody tr:nth-child(even) {\n",
       "  background-color: #ffffff;\n",
       "}\n",
       "#T_003b8 tbody tr:hover {\n",
       "  background-color: #e3e6ea;\n",
       "}\n",
       "</style>\n",
       "<table id=\"T_003b8\" style=\"margin-left:auto; margin-right:auto; border-collapse: collapse; width: 95%; box-shadow: 2px 2px 12px rgba(0, 0, 0, 0.1);\">\n",
       "  <thead>\n",
       "    <tr>\n",
       "      <th id=\"T_003b8_level0_col0\" class=\"col_heading level0 col0\" >batting_team</th>\n",
       "      <th id=\"T_003b8_level0_col1\" class=\"col_heading level0 col1\" >total_runs</th>\n",
       "    </tr>\n",
       "  </thead>\n",
       "  <tbody>\n",
       "    <tr>\n",
       "      <td id=\"T_003b8_row0_col0\" class=\"data row0 col0\" >Punjab Kings</td>\n",
       "      <td id=\"T_003b8_row0_col1\" class=\"data row0 col1\" >262</td>\n",
       "    </tr>\n",
       "    <tr>\n",
       "      <td id=\"T_003b8_row1_col0\" class=\"data row1 col0\" >Rajasthan Royals</td>\n",
       "      <td id=\"T_003b8_row1_col1\" class=\"data row1 col1\" >226</td>\n",
       "    </tr>\n",
       "    <tr>\n",
       "      <td id=\"T_003b8_row2_col0\" class=\"data row2 col0\" >Rajasthan Royals</td>\n",
       "      <td id=\"T_003b8_row2_col1\" class=\"data row2 col1\" >224</td>\n",
       "    </tr>\n",
       "    <tr>\n",
       "      <td id=\"T_003b8_row3_col0\" class=\"data row3 col0\" >Mumbai Indians</td>\n",
       "      <td id=\"T_003b8_row3_col1\" class=\"data row3 col1\" >219</td>\n",
       "    </tr>\n",
       "    <tr>\n",
       "      <td id=\"T_003b8_row4_col0\" class=\"data row4 col0\" >Sunrisers Hyderabad</td>\n",
       "      <td id=\"T_003b8_row4_col1\" class=\"data row4 col1\" >217</td>\n",
       "    </tr>\n",
       "    <tr>\n",
       "      <td id=\"T_003b8_row5_col0\" class=\"data row5 col0\" >Rajasthan Royals</td>\n",
       "      <td id=\"T_003b8_row5_col1\" class=\"data row5 col1\" >217</td>\n",
       "    </tr>\n",
       "    <tr>\n",
       "      <td id=\"T_003b8_row6_col0\" class=\"data row6 col0\" >Mumbai Indians</td>\n",
       "      <td id=\"T_003b8_row6_col1\" class=\"data row6 col1\" >216</td>\n",
       "    </tr>\n",
       "    <tr>\n",
       "      <td id=\"T_003b8_row7_col0\" class=\"data row7 col0\" >Sunrisers Hyderabad</td>\n",
       "      <td id=\"T_003b8_row7_col1\" class=\"data row7 col1\" >215</td>\n",
       "    </tr>\n",
       "    <tr>\n",
       "      <td id=\"T_003b8_row8_col0\" class=\"data row8 col0\" >Mumbai Indians</td>\n",
       "      <td id=\"T_003b8_row8_col1\" class=\"data row8 col1\" >214</td>\n",
       "    </tr>\n",
       "    <tr>\n",
       "      <td id=\"T_003b8_row9_col0\" class=\"data row9 col0\" >Delhi Daredevils</td>\n",
       "      <td id=\"T_003b8_row9_col1\" class=\"data row9 col1\" >214</td>\n",
       "    </tr>\n",
       "  </tbody>\n",
       "</table>\n"
      ],
      "text/plain": [
       "<pandas.io.formats.style.Styler at 0x13d993010>"
      ]
     },
     "execution_count": 136,
     "metadata": {},
     "output_type": "execute_result"
    }
   ],
   "source": [
    "df_copy=merged_df[(merged_df['batting_team']==merged_df['winner']) & (merged_df['inning']==2)].copy()\n",
    "gb=df_copy.groupby([\"batting_team\",\"match_id\"]).sum()\n",
    "df_copy=gb['total_runs'].sort_values(ascending=False).reset_index()\n",
    "df_copy=df_copy[['batting_team','total_runs']].head(10).rename({'batting_team':'Team','total_runs':'Runs'})\n",
    "style_dataframe(df_copy)"
   ]
  },
  {
   "cell_type": "code",
   "execution_count": 137,
   "id": "59d42ac2",
   "metadata": {
    "execution": {
     "iopub.execute_input": "2025-04-06T11:42:02.314617Z",
     "iopub.status.busy": "2025-04-06T11:42:02.314290Z",
     "iopub.status.idle": "2025-04-06T11:42:02.815068Z",
     "shell.execute_reply": "2025-04-06T11:42:02.814019Z"
    },
    "papermill": {
     "duration": 0.527386,
     "end_time": "2025-04-06T11:42:02.817387",
     "exception": false,
     "start_time": "2025-04-06T11:42:02.290001",
     "status": "completed"
    },
    "tags": []
   },
   "outputs": [
    {
     "data": {
      "image/png": "[encoded data removed]",
      "text/plain": [
       "<Figure size 1200x600 with 1 Axes>"
      ]
     },
     "metadata": {},
     "output_type": "display_data"
    }
   ],
   "source": [
    "import matplotlib.pyplot as plt\n",
    "import seaborn as sns\n",
    "import pandas as pd\n",
    "\n",
    "def team_growth(team_name, df):\n",
    "    # Filter matches where the given team was either batting or bowling\n",
    "    df_filtered = df[(df['batting_team'] == team_name) | (df['bowling_team'] == team_name)].copy()\n",
    "    \n",
    "    # Group by season and sum total wins (assuming \"winner\" column has match winners)\n",
    "    df_grouped = df_filtered[df_filtered['winner'] == team_name].groupby(['season'], as_index=False)['winner'].count()\n",
    "    df_grouped.rename(columns={'winner': 'total_wins'}, inplace=True)\n",
    "\n",
    "    # Check if the team has data\n",
    "    if df_grouped.empty:\n",
    "        print(f\"No data found for {team_name}\")\n",
    "        return\n",
    "\n",
    "    # Apply seaborn theme\n",
    "    sns.set_theme(style=\"whitegrid\")\n",
    "    \n",
    "    # Create the figure\n",
    "    plt.figure(figsize=(12, 6))\n",
    "\n",
    "    # Create line plot with area fill\n",
    "    plt.plot(df_grouped['season'], df_grouped['total_wins'], \n",
    "             marker=\"o\", color=\"green\", linewidth=2.5, \n",
    "             markersize=8, markeredgecolor='black', markerfacecolor='green', label=team_name)\n",
    "    plt.fill_between(df_grouped['season'], df_grouped['total_wins'], color=\"lightgreen\", alpha=0.3)\n",
    "\n",
    "    # Labels & Title\n",
    "    plt.xlabel(\"Season\", fontsize=12, fontweight='bold', color=\"darkblue\")\n",
    "    plt.ylabel(\"Total Wins\", fontsize=12, fontweight='bold', color=\"darkblue\")\n",
    "    plt.title(f\"{team_name}'s Performance Over IPL Seasons\", fontsize=14, fontweight=\"bold\", color=\"navy\")\n",
    "\n",
    "    # Customizing X & Y ticks\n",
    "    plt.xticks(df_grouped['season'].unique(), rotation=45, ha=\"right\", fontsize=10)\n",
    "    plt.yticks(fontsize=10)\n",
    "\n",
    "    # Add legend\n",
    "    plt.legend(fontsize=11, loc=\"upper left\", frameon=True)\n",
    "\n",
    "    # Grid and border tweaks\n",
    "    plt.grid(True, linestyle=\"--\", alpha=0.5)\n",
    "    sns.despine(left=True, bottom=True)\n",
    "\n",
    "    # Show the final plot\n",
    "    plt.show()\n",
    "\n",
    "# Example Usage\n",
    "team_growth(\"Mumbai Indians\", merged_df)\n"
   ]
  },
  {
   "cell_type": "markdown",
   "id": "ad893d6c",
   "metadata": {
    "papermill": {
     "duration": 0.029073,
     "end_time": "2025-04-06T11:42:03.630713",
     "exception": false,
     "start_time": "2025-04-06T11:42:03.601640",
     "status": "completed"
    },
    "tags": []
   },
   "source": [
    "<a id=\"Title\"></a>\n",
    "# <div style=\"text-align: center;background-color: #2E8B57;color: white;padding: 12px;font-size: 28px;font-family: 'Arial', sans-serif;font-weight: bold;border-radius: 12px;box-shadow: 2px 4px 10px rgba(0, 0, 0, 0.2);width: 95%;margin: auto;\"><b>Batsman Stats</b></div>"
   ]
  },
  {
   "cell_type": "markdown",
   "id": "609a3b1b",
   "metadata": {
    "papermill": {
     "duration": 0.030917,
     "end_time": "2025-04-06T11:42:03.691293",
     "exception": false,
     "start_time": "2025-04-06T11:42:03.660376",
     "status": "completed"
    },
    "tags": []
   },
   "source": [
    "<a id=\"Title\"></a>\n",
    "## <div style=\"text-align: center; background-color: #2E8B57; color: white; padding: 8px; font-size: 20px; font-family: 'Arial', sans-serif; font-weight: bold; border-radius: 10px; box-shadow: 1px 2px 8px rgba(0, 0, 0, 0.15); width: 90%; margin: auto;\"><b>Batsman Record</b></div>"
   ]
  },
  {
   "cell_type": "code",
   "execution_count": 141,
   "id": "fbc2e9ad",
   "metadata": {
    "execution": {
     "iopub.execute_input": "2025-04-06T11:42:03.752345Z",
     "iopub.status.busy": "2025-04-06T11:42:03.751956Z",
     "iopub.status.idle": "2025-04-06T11:42:03.755890Z",
     "shell.execute_reply": "2025-04-06T11:42:03.754940Z"
    },
    "papermill": {
     "duration": 0.036166,
     "end_time": "2025-04-06T11:42:03.757536",
     "exception": false,
     "start_time": "2025-04-06T11:42:03.721370",
     "status": "completed"
    },
    "tags": []
   },
   "outputs": [],
   "source": [
    "player = 'V Kohli'"
   ]
  },
  {
   "cell_type": "code",
   "execution_count": 182,
   "id": "4377c3e7",
   "metadata": {
    "execution": {
     "iopub.execute_input": "2025-04-06T11:42:03.818346Z",
     "iopub.status.busy": "2025-04-06T11:42:03.817986Z",
     "iopub.status.idle": "2025-04-06T11:42:03.826186Z",
     "shell.execute_reply": "2025-04-06T11:42:03.825198Z"
    },
    "papermill": {
     "duration": 0.040045,
     "end_time": "2025-04-06T11:42:03.827618",
     "exception": false,
     "start_time": "2025-04-06T11:42:03.787573",
     "status": "completed"
    },
    "tags": []
   },
   "outputs": [],
   "source": [
    "import numpy as np\n",
    "\n",
    "def get_batsman_statistics(player_name, match_data):\n",
    "    player_data = match_data[match_data['batter'] == player_name]\n",
    "\n",
    "    # Filter data for first and second innings only\n",
    "    innings_data = player_data[player_data['inning'].isin([1, 2])]\n",
    "\n",
    "    # Batting stats\n",
    "    total_runs = innings_data['batsman_runs'].sum()\n",
    "    valid_balls_faced = innings_data[innings_data['extras_type'] != 'wides'].shape[0]\n",
    "    strike_rate = round((total_runs / valid_balls_faced) * 100, 2) if valid_balls_faced > 0 else 0\n",
    "\n",
    "    # Boundary count\n",
    "    total_fours = (innings_data['batsman_runs'] == 4).sum()\n",
    "    total_sixes = (innings_data['batsman_runs'] == 6).sum()\n",
    "\n",
    "    # Dismissals and batting average\n",
    "    dismissals = innings_data[innings_data['is_wicket'] == 1].shape[0]\n",
    "    batting_average = round(total_runs / dismissals, 2) if dismissals > 0 else np.nan\n",
    "\n",
    "    # Player of the Match awards\n",
    "    player_of_match_awards = player_data[player_data['player_of_match'] == player_name].drop_duplicates('match_id').shape[0]\n",
    "\n",
    "    # Highest score, fifties & centuries\n",
    "    runs_per_match = player_data.groupby('match_id')['batsman_runs'].sum()\n",
    "    highest_score = runs_per_match.max() if not runs_per_match.empty else 0\n",
    "    total_fifties = runs_per_match[(runs_per_match >= 50) & (runs_per_match < 100)].count()\n",
    "    total_centuries = runs_per_match[runs_per_match >= 100].count()\n",
    "\n",
    "    # Not out innings\n",
    "    total_innings = player_data['match_id'].nunique()\n",
    "    not_outs = total_innings - dismissals\n",
    "\n",
    "    # Return data as a dictionary for API use\n",
    "    return {\n",
    "        \"player_name\": player_name,\n",
    "        \"total_innings\": int(total_innings),\n",
    "        \"total_runs\": int(total_runs),\n",
    "        \"total_fours\": int(total_fours),\n",
    "        \"total_sixes\": int(total_sixes),\n",
    "        \"batting_average\": batting_average.item(),\n",
    "        \"strike_rate\": strike_rate.item(),\n",
    "        \"total_fifties\": int(total_fifties),\n",
    "        \"total_centuries\":int(total_centuries),\n",
    "        \"highest_score\": int(highest_score),\n",
    "        \"not_outs\": not_outs,\n",
    "        \"player_of_the_match_awards\": player_of_match_awards\n",
    "    }\n"
   ]
  },
  {
   "cell_type": "code",
   "execution_count": 152,
   "id": "f2d09617",
   "metadata": {
    "execution": {
     "iopub.execute_input": "2025-04-06T11:42:03.888446Z",
     "iopub.status.busy": "2025-04-06T11:42:03.888066Z",
     "iopub.status.idle": "2025-04-06T11:42:03.926473Z",
     "shell.execute_reply": "2025-04-06T11:42:03.925502Z"
    },
    "papermill": {
     "duration": 0.07039,
     "end_time": "2025-04-06T11:42:03.928122",
     "exception": false,
     "start_time": "2025-04-06T11:42:03.857732",
     "status": "completed"
    },
    "tags": []
   },
   "outputs": [
    {
     "data": {
      "text/plain": [
       "{'player_name': 'V Kohli',\n",
       " 'total_innings': 244,\n",
       " 'total_runs': 8004,\n",
       " 'total_fours': 706,\n",
       " 'total_sixes': 273,\n",
       " 'batting_average': 36.72,\n",
       " 'strike_rate': 131.97,\n",
       " 'total_fifties': 56,\n",
       " 'total_centuries': 8,\n",
       " 'highest_score': 113,\n",
       " 'not_outs': 26,\n",
       " 'player_of_the_match_awards': 18}"
      ]
     },
     "execution_count": 152,
     "metadata": {},
     "output_type": "execute_result"
    }
   ],
   "source": [
    "get_batsman_statistics(player,merged_df)"
   ]
  },
  {
   "cell_type": "code",
   "execution_count": 181,
   "id": "3e49f107",
   "metadata": {
    "execution": {
     "iopub.execute_input": "2025-04-06T11:42:03.988371Z",
     "iopub.status.busy": "2025-04-06T11:42:03.988011Z",
     "iopub.status.idle": "2025-04-06T11:42:03.993232Z",
     "shell.execute_reply": "2025-04-06T11:42:03.992160Z"
    },
    "papermill": {
     "duration": 0.037352,
     "end_time": "2025-04-06T11:42:03.995001",
     "exception": false,
     "start_time": "2025-04-06T11:42:03.957649",
     "status": "completed"
    },
    "tags": []
   },
   "outputs": [],
   "source": [
    "def player_stats(player):\n",
    "    res = {\n",
    "        \"all\": get_batsman_statistics(player, merged_df),  # Overall stats\n",
    "        \"against\": {}  # Dictionary to store stats against each team\n",
    "    }\n",
    "\n",
    "    for team in all_teams()[\"teams\"]:  # Iterate through all teams\n",
    "        team_player_df = merged_df[merged_df[\"bowling_team\"] == team]  \n",
    "        res[\"against\"][team] = get_batsman_statistics(player, team_player_df) \n",
    "    \n",
    "    return res  # Return final dictionary\n"
   ]
  },
  {
   "cell_type": "markdown",
   "id": "2a5af17c",
   "metadata": {
    "papermill": {
     "duration": 0.029253,
     "end_time": "2025-04-06T11:42:04.054338",
     "exception": false,
     "start_time": "2025-04-06T11:42:04.025085",
     "status": "completed"
    },
    "tags": []
   },
   "source": [
    "<a id=\"Title\"></a>\n",
    "## <div style=\"text-align: center; background-color: #2E8B57; color: white; padding: 8px; font-size: 20px; font-family: 'Arial', sans-serif; font-weight: bold; border-radius: 10px; box-shadow: 1px 2px 8px rgba(0, 0, 0, 0.15); width: 90%; margin: auto;\"><b>Player against team</b></div>"
   ]
  },
  {
   "cell_type": "code",
   "execution_count": 179,
   "id": "ad994865",
   "metadata": {
    "execution": {
     "iopub.execute_input": "2025-04-06T11:42:04.114807Z",
     "iopub.status.busy": "2025-04-06T11:42:04.114481Z",
     "iopub.status.idle": "2025-04-06T11:42:04.118659Z",
     "shell.execute_reply": "2025-04-06T11:42:04.117826Z"
    },
    "papermill": {
     "duration": 0.035813,
     "end_time": "2025-04-06T11:42:04.120037",
     "exception": false,
     "start_time": "2025-04-06T11:42:04.084224",
     "status": "completed"
    },
    "tags": []
   },
   "outputs": [],
   "source": [
    "def PlayerVsTeam(player,team):\n",
    "    team_player_df = merged_df[merged_df['bowling_team'] == team]\n",
    "    return get_batsman_statistics(player,team_player_df)\n",
    "    "
   ]
  },
  {
   "cell_type": "code",
   "execution_count": 180,
   "id": "c9e21914",
   "metadata": {
    "execution": {
     "iopub.execute_input": "2025-04-06T11:42:04.180680Z",
     "iopub.status.busy": "2025-04-06T11:42:04.180343Z",
     "iopub.status.idle": "2025-04-06T11:42:04.220388Z",
     "shell.execute_reply": "2025-04-06T11:42:04.219289Z"
    },
    "papermill": {
     "duration": 0.072062,
     "end_time": "2025-04-06T11:42:04.221939",
     "exception": false,
     "start_time": "2025-04-06T11:42:04.149877",
     "status": "completed"
    },
    "tags": []
   },
   "outputs": [
    {
     "data": {
      "text/plain": [
       "{'player_name': 'V Kohli',\n",
       " 'total_innings': 25,\n",
       " 'total_runs': 681,\n",
       " 'total_fours': 77,\n",
       " 'total_sixes': 18,\n",
       " 'batting_average': 28.38,\n",
       " 'strike_rate': 129.47,\n",
       " 'total_fifties': 2,\n",
       " 'total_centuries': 1,\n",
       " 'highest_score': 113,\n",
       " 'not_outs': 1,\n",
       " 'player_of_the_match_awards': 1}"
      ]
     },
     "execution_count": 180,
     "metadata": {},
     "output_type": "execute_result"
    }
   ],
   "source": [
    "PlayerVsTeam(player,team)"
   ]
  },
  {
   "cell_type": "markdown",
   "id": "c4e579ef",
   "metadata": {
    "papermill": {
     "duration": 0.028977,
     "end_time": "2025-04-06T11:42:04.281128",
     "exception": false,
     "start_time": "2025-04-06T11:42:04.252151",
     "status": "completed"
    },
    "tags": []
   },
   "source": [
    "<a id=\"Title\"></a>\n",
    "## <div style=\"text-align: center; background-color: #2E8B57; color: white; padding: 8px; font-size: 20px; font-family: 'Arial', sans-serif; font-weight: bold; border-radius: 10px; box-shadow: 1px 2px 8px rgba(0, 0, 0, 0.15); width: 90%; margin: auto;\"><b>Batsman Vs Batsman</b></div>"
   ]
  },
  {
   "cell_type": "code",
   "execution_count": 39,
   "id": "378356ff",
   "metadata": {
    "execution": {
     "iopub.execute_input": "2025-04-06T11:42:04.341709Z",
     "iopub.status.busy": "2025-04-06T11:42:04.341386Z",
     "iopub.status.idle": "2025-04-06T11:42:04.345381Z",
     "shell.execute_reply": "2025-04-06T11:42:04.344436Z"
    },
    "papermill": {
     "duration": 0.03612,
     "end_time": "2025-04-06T11:42:04.346949",
     "exception": false,
     "start_time": "2025-04-06T11:42:04.310829",
     "status": "completed"
    },
    "tags": []
   },
   "outputs": [],
   "source": [
    "player1 = 'V Kohli'\n",
    "player2 = 'Mohammed Shami'"
   ]
  },
  {
   "cell_type": "code",
   "execution_count": 40,
   "id": "2ec0f19b",
   "metadata": {
    "execution": {
     "iopub.execute_input": "2025-04-06T11:42:04.408805Z",
     "iopub.status.busy": "2025-04-06T11:42:04.408458Z",
     "iopub.status.idle": "2025-04-06T11:42:04.413215Z",
     "shell.execute_reply": "2025-04-06T11:42:04.412191Z"
    },
    "papermill": {
     "duration": 0.037593,
     "end_time": "2025-04-06T11:42:04.414967",
     "exception": false,
     "start_time": "2025-04-06T11:42:04.377374",
     "status": "completed"
    },
    "tags": []
   },
   "outputs": [],
   "source": [
    "def batsman_vs_batsman(player1, player2, match_data):\n",
    "    # Get individual stats for both batsmen\n",
    "    stats_player1 = get_batsman_statistics(player1, match_data)\n",
    "    stats_player2 = get_batsman_statistics(player2, match_data)\n",
    "\n",
    "    # Return structured data\n",
    "    return {\n",
    "        \"matchup_type\": \"batsman_vs_batsman\",\n",
    "        player1: stats_player1,\n",
    "        player2: stats_player2\n",
    "    }"
   ]
  },
  {
   "cell_type": "code",
   "execution_count": 41,
   "id": "ead18ff6",
   "metadata": {
    "execution": {
     "iopub.execute_input": "2025-04-06T11:42:04.475991Z",
     "iopub.status.busy": "2025-04-06T11:42:04.475592Z",
     "iopub.status.idle": "2025-04-06T11:42:04.536930Z",
     "shell.execute_reply": "2025-04-06T11:42:04.535939Z"
    },
    "papermill": {
     "duration": 0.093466,
     "end_time": "2025-04-06T11:42:04.538551",
     "exception": false,
     "start_time": "2025-04-06T11:42:04.445085",
     "status": "completed"
    },
    "tags": []
   },
   "outputs": [
    {
     "data": {
      "text/plain": [
       "{'matchup_type': 'batsman_vs_batsman',\n",
       " 'V Kohli': {'player_name': 'V Kohli',\n",
       "  'total_innings': 244,\n",
       "  'total_runs': np.int64(8004),\n",
       "  'total_fours': np.int64(706),\n",
       "  'total_sixes': np.int64(273),\n",
       "  'batting_average': np.float64(36.72),\n",
       "  'strike_rate': np.float64(131.97),\n",
       "  'total_fifties': np.int64(56),\n",
       "  'total_centuries': np.int64(8),\n",
       "  'highest_score': np.int64(113),\n",
       "  'not_outs': 26,\n",
       "  'player_of_the_match_awards': 18},\n",
       " 'Mohammed Shami': {'player_name': 'Mohammed Shami',\n",
       "  'total_innings': 23,\n",
       "  'total_runs': np.int64(74),\n",
       "  'total_fours': np.int64(6),\n",
       "  'total_sixes': np.int64(2),\n",
       "  'batting_average': np.float64(5.69),\n",
       "  'strike_rate': np.float64(93.67),\n",
       "  'total_fifties': np.int64(0),\n",
       "  'total_centuries': np.int64(0),\n",
       "  'highest_score': np.int64(21),\n",
       "  'not_outs': 10,\n",
       "  'player_of_the_match_awards': 0}}"
      ]
     },
     "execution_count": 41,
     "metadata": {},
     "output_type": "execute_result"
    }
   ],
   "source": [
    "batsman_vs_batsman(player1,player2,merged_df)"
   ]
  },
  {
   "cell_type": "markdown",
   "id": "b7c3f405",
   "metadata": {
    "papermill": {
     "duration": 0.029555,
     "end_time": "2025-04-06T11:42:04.598970",
     "exception": false,
     "start_time": "2025-04-06T11:42:04.569415",
     "status": "completed"
    },
    "tags": []
   },
   "source": [
    "<a id=\"Title\"></a>\n",
    "## <div style=\"text-align: center; background-color: #2E8B57; color: white; padding: 8px; font-size: 20px; font-family: 'Arial', sans-serif; font-weight: bold; border-radius: 10px; box-shadow: 1px 2px 8px rgba(0, 0, 0, 0.15); width: 90%; margin: auto;\"><b>Most runs in IPL by players</b></div>"
   ]
  },
  {
   "cell_type": "code",
   "execution_count": 42,
   "id": "32bc4623",
   "metadata": {
    "execution": {
     "iopub.execute_input": "2025-04-06T11:42:04.660532Z",
     "iopub.status.busy": "2025-04-06T11:42:04.660200Z",
     "iopub.status.idle": "2025-04-06T11:42:04.989786Z",
     "shell.execute_reply": "2025-04-06T11:42:04.988782Z"
    },
    "papermill": {
     "duration": 0.362131,
     "end_time": "2025-04-06T11:42:04.991301",
     "exception": false,
     "start_time": "2025-04-06T11:42:04.629170",
     "status": "completed"
    },
    "tags": []
   },
   "outputs": [
    {
     "data": {
      "text/html": [
       "<style type=\"text/css\">\n",
       "#T_e1b2d thead th {\n",
       "  background-color: #1F2A40;\n",
       "  color: white;\n",
       "  font-size: 14px;\n",
       "  font-weight: bold;\n",
       "  padding: 12px;\n",
       "  text-align: center;\n",
       "  border: 2px solid #1F2A40;\n",
       "}\n",
       "#T_e1b2d td {\n",
       "  border: 1px solid #ddd;\n",
       "  padding: 10px;\n",
       "  text-align: center;\n",
       "  font-size: 13px;\n",
       "  color: #333;\n",
       "}\n",
       "#T_e1b2d tbody tr:nth-child(odd) {\n",
       "  background-color: #f5f5f5;\n",
       "}\n",
       "#T_e1b2d tbody tr:nth-child(even) {\n",
       "  background-color: #ffffff;\n",
       "}\n",
       "#T_e1b2d tbody tr:hover {\n",
       "  background-color: #e3e6ea;\n",
       "}\n",
       "</style>\n",
       "<table id=\"T_e1b2d\" style=\"margin-left:auto; margin-right:auto; border-collapse: collapse; width: 95%; box-shadow: 2px 2px 12px rgba(0, 0, 0, 0.1);\">\n",
       "  <thead>\n",
       "    <tr>\n",
       "      <th id=\"T_e1b2d_level0_col0\" class=\"col_heading level0 col0\" >player_name</th>\n",
       "      <th id=\"T_e1b2d_level0_col1\" class=\"col_heading level0 col1\" >total_runs</th>\n",
       "    </tr>\n",
       "  </thead>\n",
       "  <tbody>\n",
       "    <tr>\n",
       "      <td id=\"T_e1b2d_row0_col0\" class=\"data row0 col0\" >V Kohli</td>\n",
       "      <td id=\"T_e1b2d_row0_col1\" class=\"data row0 col1\" >8004</td>\n",
       "    </tr>\n",
       "    <tr>\n",
       "      <td id=\"T_e1b2d_row1_col0\" class=\"data row1 col0\" >S Dhawan</td>\n",
       "      <td id=\"T_e1b2d_row1_col1\" class=\"data row1 col1\" >6769</td>\n",
       "    </tr>\n",
       "    <tr>\n",
       "      <td id=\"T_e1b2d_row2_col0\" class=\"data row2 col0\" >RG Sharma</td>\n",
       "      <td id=\"T_e1b2d_row2_col1\" class=\"data row2 col1\" >6628</td>\n",
       "    </tr>\n",
       "    <tr>\n",
       "      <td id=\"T_e1b2d_row3_col0\" class=\"data row3 col0\" >DA Warner</td>\n",
       "      <td id=\"T_e1b2d_row3_col1\" class=\"data row3 col1\" >6565</td>\n",
       "    </tr>\n",
       "    <tr>\n",
       "      <td id=\"T_e1b2d_row4_col0\" class=\"data row4 col0\" >SK Raina</td>\n",
       "      <td id=\"T_e1b2d_row4_col1\" class=\"data row4 col1\" >5528</td>\n",
       "    </tr>\n",
       "    <tr>\n",
       "      <td id=\"T_e1b2d_row5_col0\" class=\"data row5 col0\" >MS Dhoni</td>\n",
       "      <td id=\"T_e1b2d_row5_col1\" class=\"data row5 col1\" >5243</td>\n",
       "    </tr>\n",
       "    <tr>\n",
       "      <td id=\"T_e1b2d_row6_col0\" class=\"data row6 col0\" >AB de Villiers</td>\n",
       "      <td id=\"T_e1b2d_row6_col1\" class=\"data row6 col1\" >5162</td>\n",
       "    </tr>\n",
       "    <tr>\n",
       "      <td id=\"T_e1b2d_row7_col0\" class=\"data row7 col0\" >CH Gayle</td>\n",
       "      <td id=\"T_e1b2d_row7_col1\" class=\"data row7 col1\" >4965</td>\n",
       "    </tr>\n",
       "    <tr>\n",
       "      <td id=\"T_e1b2d_row8_col0\" class=\"data row8 col0\" >RV Uthappa</td>\n",
       "      <td id=\"T_e1b2d_row8_col1\" class=\"data row8 col1\" >4952</td>\n",
       "    </tr>\n",
       "    <tr>\n",
       "      <td id=\"T_e1b2d_row9_col0\" class=\"data row9 col0\" >KD Karthik</td>\n",
       "      <td id=\"T_e1b2d_row9_col1\" class=\"data row9 col1\" >4842</td>\n",
       "    </tr>\n",
       "  </tbody>\n",
       "</table>\n"
      ],
      "text/plain": [
       "<pandas.io.formats.style.Styler at 0x12fec36d0>"
      ]
     },
     "execution_count": 42,
     "metadata": {},
     "output_type": "execute_result"
    }
   ],
   "source": [
    "# Get total runs for each player\n",
    "batsman_totals = merged_df.groupby('batter')['batsman_runs'].sum().sort_values(ascending=False)\n",
    "\n",
    "# Select top 5 batsmen\n",
    "top_10_batsmen = batsman_totals.head(10).index.tolist()\n",
    "\n",
    "# Get stats for each player\n",
    "batsman_stats = [get_batsman_statistics(player, merged_df) for player in top_10_batsmen]\n",
    "\n",
    "# Convert to DataFrame for easy plotting\n",
    "batsman_df = pd.DataFrame(batsman_stats)\n",
    "batsman_df.set_index(\"player_name\", inplace=True)\n",
    "style_dataframe(batsman_df.reset_index()[['player_name','total_runs']])\n"
   ]
  },
  {
   "cell_type": "markdown",
   "id": "6a5fee52",
   "metadata": {
    "papermill": {
     "duration": 0.030573,
     "end_time": "2025-04-06T11:42:05.052615",
     "exception": false,
     "start_time": "2025-04-06T11:42:05.022042",
     "status": "completed"
    },
    "tags": []
   },
   "source": [
    "<a id=\"Title\"></a>\n",
    "## <div style=\"text-align: center; background-color: #2E8B57; color: white; padding: 8px; font-size: 20px; font-family: 'Arial', sans-serif; font-weight: bold; border-radius: 10px; box-shadow: 1px 2px 8px rgba(0, 0, 0, 0.15); width: 90%; margin: auto;\"><b>Most strike rates in IPL by players</b></div>"
   ]
  },
  {
   "cell_type": "code",
   "execution_count": 142,
   "id": "8986bd37",
   "metadata": {
    "execution": {
     "iopub.execute_input": "2025-04-06T11:42:05.115607Z",
     "iopub.status.busy": "2025-04-06T11:42:05.115272Z",
     "iopub.status.idle": "2025-04-06T11:42:05.486013Z",
     "shell.execute_reply": "2025-04-06T11:42:05.484938Z"
    },
    "papermill": {
     "duration": 0.403796,
     "end_time": "2025-04-06T11:42:05.487677",
     "exception": false,
     "start_time": "2025-04-06T11:42:05.083881",
     "status": "completed"
    },
    "tags": []
   },
   "outputs": [
    {
     "data": {
      "text/html": [
       "<style type=\"text/css\">\n",
       "#T_77e87 thead th {\n",
       "  background-color: #2E8B57;\n",
       "  color: white;\n",
       "  font-size: 14px;\n",
       "  font-weight: bold;\n",
       "  padding: 12px;\n",
       "  text-align: center;\n",
       "  border: 2px solid #1F2A40;\n",
       "}\n",
       "#T_77e87 td {\n",
       "  border: 1px solid #ddd;\n",
       "  padding: 10px;\n",
       "  text-align: center;\n",
       "  font-size: 13px;\n",
       "  color: #333;\n",
       "}\n",
       "#T_77e87 tbody tr:nth-child(odd) {\n",
       "  background-color: #f5f5f5;\n",
       "}\n",
       "#T_77e87 tbody tr:nth-child(even) {\n",
       "  background-color: #ffffff;\n",
       "}\n",
       "#T_77e87 tbody tr:hover {\n",
       "  background-color: #e3e6ea;\n",
       "}\n",
       "</style>\n",
       "<table id=\"T_77e87\" style=\"margin-left:auto; margin-right:auto; border-collapse: collapse; width: 95%; box-shadow: 2px 2px 12px rgba(0, 0, 0, 0.1);\">\n",
       "  <thead>\n",
       "    <tr>\n",
       "      <th id=\"T_77e87_level0_col0\" class=\"col_heading level0 col0\" >batter</th>\n",
       "      <th id=\"T_77e87_level0_col1\" class=\"col_heading level0 col1\" >total_runs</th>\n",
       "      <th id=\"T_77e87_level0_col2\" class=\"col_heading level0 col2\" >balls_faced</th>\n",
       "      <th id=\"T_77e87_level0_col3\" class=\"col_heading level0 col3\" >strike_rate</th>\n",
       "    </tr>\n",
       "  </thead>\n",
       "  <tbody>\n",
       "    <tr>\n",
       "      <td id=\"T_77e87_row0_col0\" class=\"data row0 col0\" >L Wood</td>\n",
       "      <td id=\"T_77e87_row0_col1\" class=\"data row0 col1\" >9</td>\n",
       "      <td id=\"T_77e87_row0_col2\" class=\"data row0 col2\" >3</td>\n",
       "      <td id=\"T_77e87_row0_col3\" class=\"data row0 col3\" >300.000000</td>\n",
       "    </tr>\n",
       "    <tr>\n",
       "      <td id=\"T_77e87_row1_col0\" class=\"data row1 col0\" >B Stanlake</td>\n",
       "      <td id=\"T_77e87_row1_col1\" class=\"data row1 col1\" >5</td>\n",
       "      <td id=\"T_77e87_row1_col2\" class=\"data row1 col2\" >2</td>\n",
       "      <td id=\"T_77e87_row1_col3\" class=\"data row1 col3\" >250.000000</td>\n",
       "    </tr>\n",
       "    <tr>\n",
       "      <td id=\"T_77e87_row2_col0\" class=\"data row2 col0\" >J Fraser-McGurk</td>\n",
       "      <td id=\"T_77e87_row2_col1\" class=\"data row2 col1\" >330</td>\n",
       "      <td id=\"T_77e87_row2_col2\" class=\"data row2 col2\" >141</td>\n",
       "      <td id=\"T_77e87_row2_col3\" class=\"data row2 col3\" >234.042553</td>\n",
       "    </tr>\n",
       "    <tr>\n",
       "      <td id=\"T_77e87_row3_col0\" class=\"data row3 col0\" >R Sai Kishore</td>\n",
       "      <td id=\"T_77e87_row3_col1\" class=\"data row3 col1\" >13</td>\n",
       "      <td id=\"T_77e87_row3_col2\" class=\"data row3 col2\" >6</td>\n",
       "      <td id=\"T_77e87_row3_col3\" class=\"data row3 col3\" >216.666667</td>\n",
       "    </tr>\n",
       "    <tr>\n",
       "      <td id=\"T_77e87_row4_col0\" class=\"data row4 col0\" >Umar Gul</td>\n",
       "      <td id=\"T_77e87_row4_col1\" class=\"data row4 col1\" >39</td>\n",
       "      <td id=\"T_77e87_row4_col2\" class=\"data row4 col2\" >19</td>\n",
       "      <td id=\"T_77e87_row4_col3\" class=\"data row4 col3\" >205.263158</td>\n",
       "    </tr>\n",
       "    <tr>\n",
       "      <td id=\"T_77e87_row5_col0\" class=\"data row5 col0\" >RS Sodhi</td>\n",
       "      <td id=\"T_77e87_row5_col1\" class=\"data row5 col1\" >4</td>\n",
       "      <td id=\"T_77e87_row5_col2\" class=\"data row5 col2\" >2</td>\n",
       "      <td id=\"T_77e87_row5_col3\" class=\"data row5 col3\" >200.000000</td>\n",
       "    </tr>\n",
       "    <tr>\n",
       "      <td id=\"T_77e87_row6_col0\" class=\"data row6 col0\" >R Shepherd</td>\n",
       "      <td id=\"T_77e87_row6_col1\" class=\"data row6 col1\" >115</td>\n",
       "      <td id=\"T_77e87_row6_col2\" class=\"data row6 col2\" >63</td>\n",
       "      <td id=\"T_77e87_row6_col3\" class=\"data row6 col3\" >182.539683</td>\n",
       "    </tr>\n",
       "    <tr>\n",
       "      <td id=\"T_77e87_row7_col0\" class=\"data row7 col0\" >Naman Dhir</td>\n",
       "      <td id=\"T_77e87_row7_col1\" class=\"data row7 col1\" >140</td>\n",
       "      <td id=\"T_77e87_row7_col2\" class=\"data row7 col2\" >79</td>\n",
       "      <td id=\"T_77e87_row7_col3\" class=\"data row7 col3\" >177.215190</td>\n",
       "    </tr>\n",
       "    <tr>\n",
       "      <td id=\"T_77e87_row8_col0\" class=\"data row8 col0\" >LJ Wright</td>\n",
       "      <td id=\"T_77e87_row8_col1\" class=\"data row8 col1\" >106</td>\n",
       "      <td id=\"T_77e87_row8_col2\" class=\"data row8 col2\" >60</td>\n",
       "      <td id=\"T_77e87_row8_col3\" class=\"data row8 col3\" >176.666667</td>\n",
       "    </tr>\n",
       "    <tr>\n",
       "      <td id=\"T_77e87_row9_col0\" class=\"data row9 col0\" >Shahid Afridi</td>\n",
       "      <td id=\"T_77e87_row9_col1\" class=\"data row9 col1\" >81</td>\n",
       "      <td id=\"T_77e87_row9_col2\" class=\"data row9 col2\" >46</td>\n",
       "      <td id=\"T_77e87_row9_col3\" class=\"data row9 col3\" >176.086957</td>\n",
       "    </tr>\n",
       "  </tbody>\n",
       "</table>\n"
      ],
      "text/plain": [
       "<pandas.io.formats.style.Styler at 0x10fe89b10>"
      ]
     },
     "execution_count": 142,
     "metadata": {},
     "output_type": "execute_result"
    }
   ],
   "source": [
    "# Calculate strike rate, total runs, and balls faced for each batsman\n",
    "batsman_stats_df = merged_df.groupby('batter').agg(\n",
    "    total_runs=('batsman_runs', 'sum'),\n",
    "    balls_faced=('batsman_runs', lambda x: merged_df.loc[x.index, 'extras_type'].ne('wides').sum())\n",
    ")\n",
    "\n",
    "# Calculate strike rate\n",
    "batsman_stats_df['strike_rate'] = (batsman_stats_df['total_runs'] / batsman_stats_df['balls_faced']) * 100\n",
    "batsman_stats_df = batsman_stats_df.sort_values(by='strike_rate', ascending=False)\n",
    "\n",
    "# Select top 10 batsmen by strike rate\n",
    "top_10_batsmen = batsman_stats_df.head(10).reset_index()\n",
    "\n",
    "# Apply styling function\n",
    "style_dataframe(top_10_batsmen)\n"
   ]
  },
  {
   "cell_type": "markdown",
   "id": "2b3e0c9d",
   "metadata": {
    "papermill": {
     "duration": 0.030731,
     "end_time": "2025-04-06T11:42:05.549049",
     "exception": false,
     "start_time": "2025-04-06T11:42:05.518318",
     "status": "completed"
    },
    "tags": []
   },
   "source": [
    "<a id=\"Title\"></a>\n",
    "## <div style=\"text-align: center; background-color: #2E8B57; color: white; padding: 8px; font-size: 20px; font-family: 'Arial', sans-serif; font-weight: bold; border-radius: 10px; box-shadow: 1px 2px 8px rgba(0, 0, 0, 0.15); width: 90%; margin: auto;\"><b>Most fours in IPL by players</b></div>"
   ]
  },
  {
   "cell_type": "code",
   "execution_count": 44,
   "id": "81b31792",
   "metadata": {
    "execution": {
     "iopub.execute_input": "2025-04-06T11:42:05.612318Z",
     "iopub.status.busy": "2025-04-06T11:42:05.611952Z",
     "iopub.status.idle": "2025-04-06T11:42:05.640042Z",
     "shell.execute_reply": "2025-04-06T11:42:05.639030Z"
    },
    "papermill": {
     "duration": 0.061492,
     "end_time": "2025-04-06T11:42:05.641737",
     "exception": false,
     "start_time": "2025-04-06T11:42:05.580245",
     "status": "completed"
    },
    "tags": []
   },
   "outputs": [
    {
     "data": {
      "text/html": [
       "<style type=\"text/css\">\n",
       "#T_5e696 thead th {\n",
       "  background-color: #1F2A40;\n",
       "  color: white;\n",
       "  font-size: 14px;\n",
       "  font-weight: bold;\n",
       "  padding: 12px;\n",
       "  text-align: center;\n",
       "  border: 2px solid #1F2A40;\n",
       "}\n",
       "#T_5e696 td {\n",
       "  border: 1px solid #ddd;\n",
       "  padding: 10px;\n",
       "  text-align: center;\n",
       "  font-size: 13px;\n",
       "  color: #333;\n",
       "}\n",
       "#T_5e696 tbody tr:nth-child(odd) {\n",
       "  background-color: #f5f5f5;\n",
       "}\n",
       "#T_5e696 tbody tr:nth-child(even) {\n",
       "  background-color: #ffffff;\n",
       "}\n",
       "#T_5e696 tbody tr:hover {\n",
       "  background-color: #e3e6ea;\n",
       "}\n",
       "</style>\n",
       "<table id=\"T_5e696\" style=\"margin-left:auto; margin-right:auto; border-collapse: collapse; width: 95%; box-shadow: 2px 2px 12px rgba(0, 0, 0, 0.1);\">\n",
       "  <thead>\n",
       "    <tr>\n",
       "      <th id=\"T_5e696_level0_col0\" class=\"col_heading level0 col0\" >batter</th>\n",
       "      <th id=\"T_5e696_level0_col1\" class=\"col_heading level0 col1\" >total_fours</th>\n",
       "    </tr>\n",
       "  </thead>\n",
       "  <tbody>\n",
       "    <tr>\n",
       "      <td id=\"T_5e696_row0_col0\" class=\"data row0 col0\" >S Dhawan</td>\n",
       "      <td id=\"T_5e696_row0_col1\" class=\"data row0 col1\" >768</td>\n",
       "    </tr>\n",
       "    <tr>\n",
       "      <td id=\"T_5e696_row1_col0\" class=\"data row1 col0\" >V Kohli</td>\n",
       "      <td id=\"T_5e696_row1_col1\" class=\"data row1 col1\" >708</td>\n",
       "    </tr>\n",
       "    <tr>\n",
       "      <td id=\"T_5e696_row2_col0\" class=\"data row2 col0\" >DA Warner</td>\n",
       "      <td id=\"T_5e696_row2_col1\" class=\"data row2 col1\" >663</td>\n",
       "    </tr>\n",
       "    <tr>\n",
       "      <td id=\"T_5e696_row3_col0\" class=\"data row3 col0\" >RG Sharma</td>\n",
       "      <td id=\"T_5e696_row3_col1\" class=\"data row3 col1\" >599</td>\n",
       "    </tr>\n",
       "    <tr>\n",
       "      <td id=\"T_5e696_row4_col0\" class=\"data row4 col0\" >SK Raina</td>\n",
       "      <td id=\"T_5e696_row4_col1\" class=\"data row4 col1\" >506</td>\n",
       "    </tr>\n",
       "    <tr>\n",
       "      <td id=\"T_5e696_row5_col0\" class=\"data row5 col0\" >G Gambhir</td>\n",
       "      <td id=\"T_5e696_row5_col1\" class=\"data row5 col1\" >492</td>\n",
       "    </tr>\n",
       "    <tr>\n",
       "      <td id=\"T_5e696_row6_col0\" class=\"data row6 col0\" >RV Uthappa</td>\n",
       "      <td id=\"T_5e696_row6_col1\" class=\"data row6 col1\" >481</td>\n",
       "    </tr>\n",
       "    <tr>\n",
       "      <td id=\"T_5e696_row7_col0\" class=\"data row7 col0\" >AM Rahane</td>\n",
       "      <td id=\"T_5e696_row7_col1\" class=\"data row7 col1\" >479</td>\n",
       "    </tr>\n",
       "    <tr>\n",
       "      <td id=\"T_5e696_row8_col0\" class=\"data row8 col0\" >KD Karthik</td>\n",
       "      <td id=\"T_5e696_row8_col1\" class=\"data row8 col1\" >466</td>\n",
       "    </tr>\n",
       "    <tr>\n",
       "      <td id=\"T_5e696_row9_col0\" class=\"data row9 col0\" >F du Plessis</td>\n",
       "      <td id=\"T_5e696_row9_col1\" class=\"data row9 col1\" >422</td>\n",
       "    </tr>\n",
       "  </tbody>\n",
       "</table>\n"
      ],
      "text/plain": [
       "<pandas.io.formats.style.Styler at 0x12dcb9d50>"
      ]
     },
     "execution_count": 44,
     "metadata": {},
     "output_type": "execute_result"
    }
   ],
   "source": [
    "# Count the number of fours hit by each batsman\n",
    "batsman_fours_df = merged_df[merged_df['batsman_runs'] == 4].groupby('batter').size().reset_index(name='total_fours')\n",
    "\n",
    "# Sort in descending order\n",
    "batsman_fours_df = batsman_fours_df.sort_values(by='total_fours', ascending=False)\n",
    "\n",
    "# Get top 10 batsmen\n",
    "top_10_fours = batsman_fours_df.head(10)\n",
    "\n",
    "# Apply styling function\n",
    "style_dataframe(top_10_fours)\n"
   ]
  },
  {
   "cell_type": "markdown",
   "id": "a3d0f84e",
   "metadata": {
    "papermill": {
     "duration": 0.031617,
     "end_time": "2025-04-06T11:42:05.704523",
     "exception": false,
     "start_time": "2025-04-06T11:42:05.672906",
     "status": "completed"
    },
    "tags": []
   },
   "source": [
    "<a id=\"Title\"></a>\n",
    "## <div style=\"text-align: center; background-color: #2E8B57; color: white; padding: 8px; font-size: 20px; font-family: 'Arial', sans-serif; font-weight: bold; border-radius: 10px; box-shadow: 1px 2px 8px rgba(0, 0, 0, 0.15); width: 90%; margin: auto;\"><b>Most sixes in IPL by players</b></div>"
   ]
  },
  {
   "cell_type": "code",
   "execution_count": 45,
   "id": "88737a34",
   "metadata": {
    "execution": {
     "iopub.execute_input": "2025-04-06T11:42:05.766759Z",
     "iopub.status.busy": "2025-04-06T11:42:05.766414Z",
     "iopub.status.idle": "2025-04-06T11:42:05.789830Z",
     "shell.execute_reply": "2025-04-06T11:42:05.788716Z"
    },
    "papermill": {
     "duration": 0.056173,
     "end_time": "2025-04-06T11:42:05.791504",
     "exception": false,
     "start_time": "2025-04-06T11:42:05.735331",
     "status": "completed"
    },
    "tags": []
   },
   "outputs": [
    {
     "data": {
      "text/html": [
       "<style type=\"text/css\">\n",
       "#T_f87b5 thead th {\n",
       "  background-color: #1F2A40;\n",
       "  color: white;\n",
       "  font-size: 14px;\n",
       "  font-weight: bold;\n",
       "  padding: 12px;\n",
       "  text-align: center;\n",
       "  border: 2px solid #1F2A40;\n",
       "}\n",
       "#T_f87b5 td {\n",
       "  border: 1px solid #ddd;\n",
       "  padding: 10px;\n",
       "  text-align: center;\n",
       "  font-size: 13px;\n",
       "  color: #333;\n",
       "}\n",
       "#T_f87b5 tbody tr:nth-child(odd) {\n",
       "  background-color: #f5f5f5;\n",
       "}\n",
       "#T_f87b5 tbody tr:nth-child(even) {\n",
       "  background-color: #ffffff;\n",
       "}\n",
       "#T_f87b5 tbody tr:hover {\n",
       "  background-color: #e3e6ea;\n",
       "}\n",
       "</style>\n",
       "<table id=\"T_f87b5\" style=\"margin-left:auto; margin-right:auto; border-collapse: collapse; width: 95%; box-shadow: 2px 2px 12px rgba(0, 0, 0, 0.1);\">\n",
       "  <thead>\n",
       "    <tr>\n",
       "      <th id=\"T_f87b5_level0_col0\" class=\"col_heading level0 col0\" >batter</th>\n",
       "      <th id=\"T_f87b5_level0_col1\" class=\"col_heading level0 col1\" >total_sixes</th>\n",
       "    </tr>\n",
       "  </thead>\n",
       "  <tbody>\n",
       "    <tr>\n",
       "      <td id=\"T_f87b5_row0_col0\" class=\"data row0 col0\" >CH Gayle</td>\n",
       "      <td id=\"T_f87b5_row0_col1\" class=\"data row0 col1\" >359</td>\n",
       "    </tr>\n",
       "    <tr>\n",
       "      <td id=\"T_f87b5_row1_col0\" class=\"data row1 col0\" >RG Sharma</td>\n",
       "      <td id=\"T_f87b5_row1_col1\" class=\"data row1 col1\" >281</td>\n",
       "    </tr>\n",
       "    <tr>\n",
       "      <td id=\"T_f87b5_row2_col0\" class=\"data row2 col0\" >V Kohli</td>\n",
       "      <td id=\"T_f87b5_row2_col1\" class=\"data row2 col1\" >273</td>\n",
       "    </tr>\n",
       "    <tr>\n",
       "      <td id=\"T_f87b5_row3_col0\" class=\"data row3 col0\" >AB de Villiers</td>\n",
       "      <td id=\"T_f87b5_row3_col1\" class=\"data row3 col1\" >253</td>\n",
       "    </tr>\n",
       "    <tr>\n",
       "      <td id=\"T_f87b5_row4_col0\" class=\"data row4 col0\" >MS Dhoni</td>\n",
       "      <td id=\"T_f87b5_row4_col1\" class=\"data row4 col1\" >252</td>\n",
       "    </tr>\n",
       "    <tr>\n",
       "      <td id=\"T_f87b5_row5_col0\" class=\"data row5 col0\" >DA Warner</td>\n",
       "      <td id=\"T_f87b5_row5_col1\" class=\"data row5 col1\" >236</td>\n",
       "    </tr>\n",
       "    <tr>\n",
       "      <td id=\"T_f87b5_row6_col0\" class=\"data row6 col0\" >KA Pollard</td>\n",
       "      <td id=\"T_f87b5_row6_col1\" class=\"data row6 col1\" >224</td>\n",
       "    </tr>\n",
       "    <tr>\n",
       "      <td id=\"T_f87b5_row7_col0\" class=\"data row7 col0\" >AD Russell</td>\n",
       "      <td id=\"T_f87b5_row7_col1\" class=\"data row7 col1\" >209</td>\n",
       "    </tr>\n",
       "    <tr>\n",
       "      <td id=\"T_f87b5_row8_col0\" class=\"data row8 col0\" >SV Samson</td>\n",
       "      <td id=\"T_f87b5_row8_col1\" class=\"data row8 col1\" >206</td>\n",
       "    </tr>\n",
       "    <tr>\n",
       "      <td id=\"T_f87b5_row9_col0\" class=\"data row9 col0\" >SK Raina</td>\n",
       "      <td id=\"T_f87b5_row9_col1\" class=\"data row9 col1\" >204</td>\n",
       "    </tr>\n",
       "  </tbody>\n",
       "</table>\n"
      ],
      "text/plain": [
       "<pandas.io.formats.style.Styler at 0x12fccf3a0>"
      ]
     },
     "execution_count": 45,
     "metadata": {},
     "output_type": "execute_result"
    }
   ],
   "source": [
    "# Count the number of sixes hit by each batsman\n",
    "batsman_sixes_df = merged_df[merged_df['batsman_runs'] == 6].groupby('batter').size().reset_index(name='total_sixes')\n",
    "\n",
    "# Sort in descending order\n",
    "batsman_sixes_df = batsman_sixes_df.sort_values(by='total_sixes', ascending=False)\n",
    "\n",
    "# Get top 10 batsmen\n",
    "top_10_sixes = batsman_sixes_df.head(10)\n",
    "\n",
    "# Apply styling function\n",
    "style_dataframe(top_10_sixes)\n"
   ]
  },
  {
   "cell_type": "markdown",
   "id": "3525924b",
   "metadata": {
    "papermill": {
     "duration": 0.030126,
     "end_time": "2025-04-06T11:42:05.852515",
     "exception": false,
     "start_time": "2025-04-06T11:42:05.822389",
     "status": "completed"
    },
    "tags": []
   },
   "source": [
    "<a id=\"Title\"></a>\n",
    "## <div style=\"text-align: center; background-color: #2E8B57; color: white; padding: 8px; font-size: 20px; font-family: 'Arial', sans-serif; font-weight: bold; border-radius: 10px; box-shadow: 1px 2px 8px rgba(0, 0, 0, 0.15); width: 90%; margin: auto;\"><b>Top 10 catches by players</b></div>"
   ]
  },
  {
   "cell_type": "code",
   "execution_count": 46,
   "id": "c4d633c1",
   "metadata": {
    "execution": {
     "iopub.execute_input": "2025-04-06T11:42:05.915476Z",
     "iopub.status.busy": "2025-04-06T11:42:05.915126Z",
     "iopub.status.idle": "2025-04-06T11:42:05.941349Z",
     "shell.execute_reply": "2025-04-06T11:42:05.940331Z"
    },
    "papermill": {
     "duration": 0.059834,
     "end_time": "2025-04-06T11:42:05.942842",
     "exception": false,
     "start_time": "2025-04-06T11:42:05.883008",
     "status": "completed"
    },
    "tags": []
   },
   "outputs": [
    {
     "data": {
      "text/html": [
       "<style type=\"text/css\">\n",
       "#T_d2a14 thead th {\n",
       "  background-color: #1F2A40;\n",
       "  color: white;\n",
       "  font-size: 14px;\n",
       "  font-weight: bold;\n",
       "  padding: 12px;\n",
       "  text-align: center;\n",
       "  border: 2px solid #1F2A40;\n",
       "}\n",
       "#T_d2a14 td {\n",
       "  border: 1px solid #ddd;\n",
       "  padding: 10px;\n",
       "  text-align: center;\n",
       "  font-size: 13px;\n",
       "  color: #333;\n",
       "}\n",
       "#T_d2a14 tbody tr:nth-child(odd) {\n",
       "  background-color: #f5f5f5;\n",
       "}\n",
       "#T_d2a14 tbody tr:nth-child(even) {\n",
       "  background-color: #ffffff;\n",
       "}\n",
       "#T_d2a14 tbody tr:hover {\n",
       "  background-color: #e3e6ea;\n",
       "}\n",
       "</style>\n",
       "<table id=\"T_d2a14\" style=\"margin-left:auto; margin-right:auto; border-collapse: collapse; width: 95%; box-shadow: 2px 2px 12px rgba(0, 0, 0, 0.1);\">\n",
       "  <thead>\n",
       "    <tr>\n",
       "      <th id=\"T_d2a14_level0_col0\" class=\"col_heading level0 col0\" >player</th>\n",
       "      <th id=\"T_d2a14_level0_col1\" class=\"col_heading level0 col1\" >total_catches</th>\n",
       "    </tr>\n",
       "  </thead>\n",
       "  <tbody>\n",
       "    <tr>\n",
       "      <td id=\"T_d2a14_row0_col0\" class=\"data row0 col0\" >MS Dhoni</td>\n",
       "      <td id=\"T_d2a14_row0_col1\" class=\"data row0 col1\" >152</td>\n",
       "    </tr>\n",
       "    <tr>\n",
       "      <td id=\"T_d2a14_row1_col0\" class=\"data row1 col0\" >KD Karthik</td>\n",
       "      <td id=\"T_d2a14_row1_col1\" class=\"data row1 col1\" >145</td>\n",
       "    </tr>\n",
       "    <tr>\n",
       "      <td id=\"T_d2a14_row2_col0\" class=\"data row2 col0\" >AB de Villiers</td>\n",
       "      <td id=\"T_d2a14_row2_col1\" class=\"data row2 col1\" >120</td>\n",
       "    </tr>\n",
       "    <tr>\n",
       "      <td id=\"T_d2a14_row3_col0\" class=\"data row3 col0\" >V Kohli</td>\n",
       "      <td id=\"T_d2a14_row3_col1\" class=\"data row3 col1\" >114</td>\n",
       "    </tr>\n",
       "    <tr>\n",
       "      <td id=\"T_d2a14_row4_col0\" class=\"data row4 col0\" >SK Raina</td>\n",
       "      <td id=\"T_d2a14_row4_col1\" class=\"data row4 col1\" >106</td>\n",
       "    </tr>\n",
       "    <tr>\n",
       "      <td id=\"T_d2a14_row5_col0\" class=\"data row5 col0\" >S Dhawan</td>\n",
       "      <td id=\"T_d2a14_row5_col1\" class=\"data row5 col1\" >100</td>\n",
       "    </tr>\n",
       "    <tr>\n",
       "      <td id=\"T_d2a14_row6_col0\" class=\"data row6 col0\" >RG Sharma</td>\n",
       "      <td id=\"T_d2a14_row6_col1\" class=\"data row6 col1\" >100</td>\n",
       "    </tr>\n",
       "    <tr>\n",
       "      <td id=\"T_d2a14_row7_col0\" class=\"data row7 col0\" >RA Jadeja</td>\n",
       "      <td id=\"T_d2a14_row7_col1\" class=\"data row7 col1\" >97</td>\n",
       "    </tr>\n",
       "    <tr>\n",
       "      <td id=\"T_d2a14_row8_col0\" class=\"data row8 col0\" >KA Pollard</td>\n",
       "      <td id=\"T_d2a14_row8_col1\" class=\"data row8 col1\" >97</td>\n",
       "    </tr>\n",
       "    <tr>\n",
       "      <td id=\"T_d2a14_row9_col0\" class=\"data row9 col0\" >WP Saha</td>\n",
       "      <td id=\"T_d2a14_row9_col1\" class=\"data row9 col1\" >93</td>\n",
       "    </tr>\n",
       "  </tbody>\n",
       "</table>\n"
      ],
      "text/plain": [
       "<pandas.io.formats.style.Styler at 0x12f976950>"
      ]
     },
     "execution_count": 46,
     "metadata": {},
     "output_type": "execute_result"
    }
   ],
   "source": [
    "# Filter dataset to include only 'caught' dismissals\n",
    "catch_data = merged_df[merged_df['dismissal_kind'] == 'caught']\n",
    "\n",
    "# Count the number of catches per player\n",
    "fielder_catches = catch_data['fielder'].value_counts().reset_index()\n",
    "fielder_catches.columns = ['player', 'total_catches']\n",
    "\n",
    "# Get the top 10 fielders with most catches\n",
    "top_10_fielders = fielder_catches.head(10)\n",
    "\n",
    "# Display using styled dataframe\n",
    "style_dataframe(top_10_fielders)\n"
   ]
  },
  {
   "cell_type": "markdown",
   "id": "604ef23f",
   "metadata": {
    "papermill": {
     "duration": 0.037103,
     "end_time": "2025-04-06T11:42:07.094444",
     "exception": false,
     "start_time": "2025-04-06T11:42:07.057341",
     "status": "completed"
    },
    "tags": []
   },
   "source": [
    "<a id=\"Title\"></a>\n",
    "## <div style=\"text-align: center; background-color: #2E8B57; color: white; padding: 8px; font-size: 20px; font-family: 'Arial', sans-serif; font-weight: bold; border-radius: 10px; box-shadow: 1px 2px 8px rgba(0, 0, 0, 0.15); width: 90%; margin: auto;\"><b>Batsman growth over seasion</b></div>"
   ]
  },
  {
   "cell_type": "code",
   "execution_count": 50,
   "id": "ac33da3e",
   "metadata": {
    "execution": {
     "iopub.execute_input": "2025-04-06T11:42:07.171769Z",
     "iopub.status.busy": "2025-04-06T11:42:07.171418Z",
     "iopub.status.idle": "2025-04-06T11:42:07.953014Z",
     "shell.execute_reply": "2025-04-06T11:42:07.951910Z"
    },
    "papermill": {
     "duration": 0.822081,
     "end_time": "2025-04-06T11:42:07.954675",
     "exception": false,
     "start_time": "2025-04-06T11:42:07.132594",
     "status": "completed"
    },
    "tags": []
   },
   "outputs": [
    {
     "data": {
      "image/png": "[encoded data removed]",
      "text/plain": [
       "<Figure size 1200x600 with 1 Axes>"
      ]
     },
     "metadata": {},
     "output_type": "display_data"
    }
   ],
   "source": [
    "import matplotlib.pyplot as plt\n",
    "import seaborn as sns\n",
    "\n",
    "def batsman_growth(batsman_name, df):\n",
    "    # Filter for first and second innings\n",
    "    df_filtered = df[df.inning.isin([1, 2])].copy()\n",
    "    \n",
    "    # Filter for the given batsman\n",
    "    df_filtered = df_filtered[df_filtered['batter'] == batsman_name]\n",
    "\n",
    "    # Group by season and sum total runs\n",
    "    df_grouped = df_filtered.groupby(['season'], as_index=False)['batsman_runs'].sum()\n",
    "\n",
    "    # Check if the batsman has data\n",
    "    if df_grouped.empty:\n",
    "        print(f\"No data found for {batsman_name}\")\n",
    "        return\n",
    "\n",
    "    # Apply styling function\n",
    "    style_dataframe(df_grouped)\n",
    "\n",
    "    # Set the seaborn theme\n",
    "    sns.set_style(\"whitegrid\")\n",
    "    plt.figure(figsize=(12, 6))\n",
    "\n",
    "    # Create line plot with area fill\n",
    "    plt.plot(df_grouped['season'], df_grouped['batsman_runs'], marker=\"o\", color=\"dodgerblue\", linewidth=2, markersize=8, markeredgecolor='black', markerfacecolor='dodgerblue')\n",
    "    plt.fill_between(df_grouped['season'], df_grouped['batsman_runs'], color=\"dodgerblue\", alpha=0.3)\n",
    "\n",
    "    # Labels & Title\n",
    "    plt.xlabel(\"Season\", fontsize=12, fontweight='bold')\n",
    "    plt.ylabel(\"Total Runs\", fontsize=12, fontweight='bold')\n",
    "    plt.title(f\"{batsman_name}'s Performance Over IPL Seasons \", fontsize=14, fontweight=\"bold\", color=\"navy\")\n",
    "\n",
    "    # Improved X-ticks\n",
    "    plt.xticks(df_grouped['season'].unique(), rotation=45, ha=\"right\", fontsize=10)\n",
    "    plt.yticks(fontsize=10)\n",
    "\n",
    "    # Grid and background\n",
    "    plt.grid(True, linestyle=\"--\", alpha=0.5)\n",
    "\n",
    "    # Show the final plot\n",
    "    plt.show()\n",
    "\n",
    "# Example Usage\n",
    "batsman_growth(\"V Kohli\", merged_df)\n"
   ]
  },
  {
   "cell_type": "code",
   "execution_count": 198,
   "id": "4bd10799",
   "metadata": {},
   "outputs": [
    {
     "data": {
      "image/png": "[encoded data removed]",
      "text/plain": [
       "<Figure size 1200x600 with 1 Axes>"
      ]
     },
     "metadata": {},
     "output_type": "display_data"
    }
   ],
   "source": [
    "# Example Usage\n",
    "batsman_growth(\"RR Pant\", merged_df)"
   ]
  },
  {
   "cell_type": "markdown",
   "id": "7001e613",
   "metadata": {
    "papermill": {
     "duration": 0.041511,
     "end_time": "2025-04-06T11:42:09.060805",
     "exception": false,
     "start_time": "2025-04-06T11:42:09.019294",
     "status": "completed"
    },
    "tags": []
   },
   "source": [
    "<a id=\"Title\"></a>\n",
    "# <div style=\"text-align: center;background-color: #2E8B57;color: white;padding: 12px;font-size: 28px;font-family: 'Arial', sans-serif;font-weight: bold;border-radius: 12px;box-shadow: 2px 4px 10px rgba(0, 0, 0, 0.2);width: 95%;margin: auto;\"><b>Bowler Stats</b></div>"
   ]
  },
  {
   "cell_type": "code",
   "execution_count": 52,
   "id": "a2990fa2",
   "metadata": {
    "execution": {
     "iopub.execute_input": "2025-04-06T11:42:09.146257Z",
     "iopub.status.busy": "2025-04-06T11:42:09.145806Z",
     "iopub.status.idle": "2025-04-06T11:42:09.416736Z",
     "shell.execute_reply": "2025-04-06T11:42:09.415633Z"
    },
    "papermill": {
     "duration": 0.315827,
     "end_time": "2025-04-06T11:42:09.418734",
     "exception": false,
     "start_time": "2025-04-06T11:42:09.102907",
     "status": "completed"
    },
    "tags": []
   },
   "outputs": [],
   "source": [
    "bowler_data = merged_df.copy()"
   ]
  },
  {
   "cell_type": "code",
   "execution_count": 53,
   "id": "55636c6f",
   "metadata": {
    "execution": {
     "iopub.execute_input": "2025-04-06T11:42:09.504355Z",
     "iopub.status.busy": "2025-04-06T11:42:09.503985Z",
     "iopub.status.idle": "2025-04-06T11:42:09.517393Z",
     "shell.execute_reply": "2025-04-06T11:42:09.516382Z"
    },
    "papermill": {
     "duration": 0.058103,
     "end_time": "2025-04-06T11:42:09.519067",
     "exception": false,
     "start_time": "2025-04-06T11:42:09.460964",
     "status": "completed"
    },
    "tags": []
   },
   "outputs": [
    {
     "data": {
      "text/plain": [
       "extras_type\n",
       "wides      8380\n",
       "legbyes    4001\n",
       "noballs    1069\n",
       "byes        673\n",
       "penalty       2\n",
       "Name: count, dtype: int64"
      ]
     },
     "execution_count": 53,
     "metadata": {},
     "output_type": "execute_result"
    }
   ],
   "source": [
    "bowler_data.extras_type.value_counts()"
   ]
  },
  {
   "cell_type": "code",
   "execution_count": 54,
   "id": "702c27c1",
   "metadata": {
    "execution": {
     "iopub.execute_input": "2025-04-06T11:42:09.606886Z",
     "iopub.status.busy": "2025-04-06T11:42:09.606527Z",
     "iopub.status.idle": "2025-04-06T11:42:09.611160Z",
     "shell.execute_reply": "2025-04-06T11:42:09.610124Z"
    },
    "papermill": {
     "duration": 0.050768,
     "end_time": "2025-04-06T11:42:09.612748",
     "exception": false,
     "start_time": "2025-04-06T11:42:09.561980",
     "status": "completed"
    },
    "tags": []
   },
   "outputs": [],
   "source": [
    "def bowlerRun(x):\n",
    "    if x.iloc[0] in ['legbyes','penalty','byes']:\n",
    "        return 0\n",
    "    else:\n",
    "        return x.iloc[1]"
   ]
  },
  {
   "cell_type": "code",
   "execution_count": 55,
   "id": "856ded2a",
   "metadata": {
    "execution": {
     "iopub.execute_input": "2025-04-06T11:42:09.701144Z",
     "iopub.status.busy": "2025-04-06T11:42:09.700769Z",
     "iopub.status.idle": "2025-04-06T11:42:13.515852Z",
     "shell.execute_reply": "2025-04-06T11:42:13.514960Z"
    },
    "papermill": {
     "duration": 3.862099,
     "end_time": "2025-04-06T11:42:13.517719",
     "exception": false,
     "start_time": "2025-04-06T11:42:09.655620",
     "status": "completed"
    },
    "tags": []
   },
   "outputs": [],
   "source": [
    "bowler_data[\"bowler_run\"]=(bowler_data[['extras_type','total_runs']].apply(bowlerRun,axis=1))"
   ]
  },
  {
   "cell_type": "code",
   "execution_count": 56,
   "id": "daba76fd",
   "metadata": {
    "execution": {
     "iopub.execute_input": "2025-04-06T11:42:13.604268Z",
     "iopub.status.busy": "2025-04-06T11:42:13.603885Z",
     "iopub.status.idle": "2025-04-06T11:42:13.608330Z",
     "shell.execute_reply": "2025-04-06T11:42:13.607404Z"
    },
    "papermill": {
     "duration": 0.049377,
     "end_time": "2025-04-06T11:42:13.609924",
     "exception": false,
     "start_time": "2025-04-06T11:42:13.560547",
     "status": "completed"
    },
    "tags": []
   },
   "outputs": [],
   "source": [
    "def bowler_wicket(x):\n",
    "    if x.iloc[0] in [\"caught\",\"bowled\",\"lbw\",\"caught and bowled\",\"stumped\",\"hit wicket\"]:\n",
    "        return x.iloc[1]\n",
    "    else:\n",
    "        return 0"
   ]
  },
  {
   "cell_type": "code",
   "execution_count": 57,
   "id": "6690c561",
   "metadata": {
    "execution": {
     "iopub.execute_input": "2025-04-06T11:42:13.697104Z",
     "iopub.status.busy": "2025-04-06T11:42:13.696682Z",
     "iopub.status.idle": "2025-04-06T11:42:16.156048Z",
     "shell.execute_reply": "2025-04-06T11:42:16.154961Z"
    },
    "papermill": {
     "duration": 2.505058,
     "end_time": "2025-04-06T11:42:16.158060",
     "exception": false,
     "start_time": "2025-04-06T11:42:13.653002",
     "status": "completed"
    },
    "tags": []
   },
   "outputs": [],
   "source": [
    "bowler_data['isBowlerWicket']=bowler_data[['dismissal_kind','is_wicket']].apply(bowler_wicket,axis=1)"
   ]
  },
  {
   "cell_type": "markdown",
   "id": "4eadcf98",
   "metadata": {
    "papermill": {
     "duration": 0.042622,
     "end_time": "2025-04-06T11:42:16.243666",
     "exception": false,
     "start_time": "2025-04-06T11:42:16.201044",
     "status": "completed"
    },
    "tags": []
   },
   "source": [
    "<a id=\"Title\"></a>\n",
    "## <div style=\"text-align: center; background-color: #2E8B57; color: white; padding: 8px; font-size: 20px; font-family: 'Arial', sans-serif; font-weight: bold; border-radius: 10px; box-shadow: 1px 2px 8px rgba(0, 0, 0, 0.15); width: 90%; margin: auto;\"><b>Bowler Record</b></div>"
   ]
  },
  {
   "cell_type": "code",
   "execution_count": 171,
   "id": "196af2fc",
   "metadata": {
    "execution": {
     "iopub.execute_input": "2025-04-06T11:42:16.330798Z",
     "iopub.status.busy": "2025-04-06T11:42:16.330454Z",
     "iopub.status.idle": "2025-04-06T11:42:16.339775Z",
     "shell.execute_reply": "2025-04-06T11:42:16.338669Z"
    },
    "papermill": {
     "duration": 0.054742,
     "end_time": "2025-04-06T11:42:16.341569",
     "exception": false,
     "start_time": "2025-04-06T11:42:16.286827",
     "status": "completed"
    },
    "tags": []
   },
   "outputs": [],
   "source": [
    "\n",
    "def get_bowler_statistics(bowler, match_data):\n",
    "    # Filter data for the bowler\n",
    "    bowler_data = match_data[match_data['bowler'] == bowler].copy()\n",
    "\n",
    "    if bowler_data.empty:\n",
    "        return {}\n",
    "\n",
    "    # Total innings played as a bowler\n",
    "    total_innings = bowler_data['match_id'].nunique()\n",
    "\n",
    "    # Total wickets (only bowler-induced dismissals)\n",
    "    total_wickets = bowler_data[\"isBowlerWicket\"].sum()\n",
    "\n",
    "    # Total runs conceded (excluding leg byes, byes, and penalties)\n",
    "    total_runs_conceded = bowler_data[\"bowler_run\"].sum()\n",
    "\n",
    "    # Total balls bowled (excluding wides & no-balls)\n",
    "    valid_balls_bowled = bowler_data[~bowler_data[\"extras_type\"].isin([\"wides\", \"noballs\"])].shape[0]\n",
    "\n",
    "    # Economy rate (Runs per over)\n",
    "    economy_rate = round((total_runs_conceded / (valid_balls_bowled / 6)), 2) if valid_balls_bowled > 0 else 0\n",
    "\n",
    "    # Bowling average (Runs per wicket)\n",
    "    bowling_average = round(total_runs_conceded / total_wickets, 2) if total_wickets > 0 else np.nan\n",
    "\n",
    "    # Bowling strike rate (Balls per wicket)\n",
    "    bowling_strike_rate = round(valid_balls_bowled / total_wickets, 2) if total_wickets > 0 else np.nan\n",
    "\n",
    "    # Fours & Sixes Conceded\n",
    "    total_fours_conceded = (bowler_data['batsman_runs'] == 4).sum()\n",
    "    total_sixes_conceded = (bowler_data['batsman_runs'] == 6).sum()\n",
    "\n",
    "    # 3-wicket, 4-wicket, and 5-wicket hauls\n",
    "    wickets_per_match = bowler_data.groupby(\"match_id\")[\"isBowlerWicket\"].sum()\n",
    "    three_wicket_hauls = (wickets_per_match >= 3).sum()\n",
    "    four_wicket_hauls = (wickets_per_match >= 4).sum()\n",
    "    five_wicket_hauls = (wickets_per_match >= 5).sum()\n",
    "\n",
    "    # Best Bowling Figures (Wickets/Runs in a Match)\n",
    "    best_wickets = wickets_per_match.max() if not wickets_per_match.empty else 0\n",
    "    best_match_data = bowler_data.groupby(\"match_id\")[[\"isBowlerWicket\", \"bowler_run\"]].sum()\n",
    "    best_bowling_match = best_match_data.loc[best_match_data[\"isBowlerWicket\"].idxmax()] if not best_match_data.empty else None\n",
    "    best_bowling_figure = f\"{int(best_bowling_match['isBowlerWicket'])}/{int(best_bowling_match['bowler_run'])}\" if best_bowling_match is not None else \"0/0\"\n",
    "\n",
    "    # Man of the Match Awards (MOM)\n",
    "    player_of_match_awards = bowler_data[bowler_data['player_of_match'] == bowler]['match_id'].nunique()\n",
    "\n",
    "    return {\n",
    "        \"bowler\": bowler,\n",
    "        \"innings\": total_innings,\n",
    "        \"wickets\": total_wickets.item(),\n",
    "        \"economy\": economy_rate.item(),\n",
    "        \"average\": bowling_average,\n",
    "        \"strikeRate\": bowling_strike_rate,\n",
    "        \"fours\": total_fours_conceded.item(),\n",
    "        \"sixes\": total_sixes_conceded.item(),\n",
    "        \"best_figure\": best_bowling_figure,\n",
    "        \"3w\": three_wicket_hauls.item(),\n",
    "        \"4w\": four_wicket_hauls.item(),\n",
    "        \"5w\": five_wicket_hauls.item(),\n",
    "        \"mom\": player_of_match_awards\n",
    "    }\n"
   ]
  },
  {
   "cell_type": "code",
   "execution_count": 172,
   "id": "b651ad9c",
   "metadata": {
    "execution": {
     "iopub.execute_input": "2025-04-06T11:42:16.428981Z",
     "iopub.status.busy": "2025-04-06T11:42:16.428612Z",
     "iopub.status.idle": "2025-04-06T11:42:16.464782Z",
     "shell.execute_reply": "2025-04-06T11:42:16.463782Z"
    },
    "papermill": {
     "duration": 0.081728,
     "end_time": "2025-04-06T11:42:16.466449",
     "exception": false,
     "start_time": "2025-04-06T11:42:16.384721",
     "status": "completed"
    },
    "tags": []
   },
   "outputs": [
    {
     "data": {
      "text/plain": [
       "{'bowler': 'RA Jadeja',\n",
       " 'innings': 211,\n",
       " 'wickets': 160,\n",
       " 'economy': 7.62,\n",
       " 'average': np.float64(30.4),\n",
       " 'strikeRate': np.float64(23.93),\n",
       " 'fours': 290,\n",
       " 'sixes': 207,\n",
       " 'best_figure': '5/16',\n",
       " '3w': 17,\n",
       " '4w': 4,\n",
       " '5w': 1,\n",
       " 'mom': 16}"
      ]
     },
     "execution_count": 172,
     "metadata": {},
     "output_type": "execute_result"
    }
   ],
   "source": [
    "get_bowler_statistics('RA Jadeja',bowler_data)"
   ]
  },
  {
   "cell_type": "code",
   "execution_count": 173,
   "id": "11b094c0",
   "metadata": {
    "execution": {
     "iopub.execute_input": "2025-04-06T11:42:16.552350Z",
     "iopub.status.busy": "2025-04-06T11:42:16.552004Z",
     "iopub.status.idle": "2025-04-06T11:42:16.557091Z",
     "shell.execute_reply": "2025-04-06T11:42:16.556070Z"
    },
    "papermill": {
     "duration": 0.050033,
     "end_time": "2025-04-06T11:42:16.559036",
     "exception": false,
     "start_time": "2025-04-06T11:42:16.509003",
     "status": "completed"
    },
    "tags": []
   },
   "outputs": [],
   "source": [
    "def bowler_record(bowler):\n",
    "    res = {\n",
    "        \"all\": get_bowler_statistics(bowler, bowler_data),  # Overall stats\n",
    "        \"against\": {}  # Dictionary to store stats against each team\n",
    "    }\n",
    "\n",
    "    for team in all_teams()[\"teams\"]:  # Iterate through all teams\n",
    "        team_bowler_df = bowler_data[bowler_data[\"batting_team\"] == team]  \n",
    "        res[\"against\"][team] = get_bowler_statistics(bowler, team_bowler_df)  \n",
    "\n",
    "    return res  # Return final dictionary\n"
   ]
  },
  {
   "cell_type": "code",
   "execution_count": 174,
   "id": "e183d9fd",
   "metadata": {
    "execution": {
     "iopub.execute_input": "2025-04-06T11:42:16.648252Z",
     "iopub.status.busy": "2025-04-06T11:42:16.647851Z",
     "iopub.status.idle": "2025-04-06T11:42:17.246531Z",
     "shell.execute_reply": "2025-04-06T11:42:17.245424Z"
    },
    "papermill": {
     "duration": 0.645673,
     "end_time": "2025-04-06T11:42:17.248307",
     "exception": false,
     "start_time": "2025-04-06T11:42:16.602634",
     "status": "completed"
    },
    "tags": []
   },
   "outputs": [
    {
     "data": {
      "text/plain": [
       "{'all': {'bowler': 'RA Jadeja',\n",
       "  'innings': 211,\n",
       "  'wickets': 160,\n",
       "  'economy': 7.62,\n",
       "  'average': np.float64(30.4),\n",
       "  'strikeRate': np.float64(23.93),\n",
       "  'fours': 290,\n",
       "  'sixes': 207,\n",
       "  'best_figure': '5/16',\n",
       "  '3w': 17,\n",
       "  '4w': 4,\n",
       "  '5w': 1,\n",
       "  'mom': 16},\n",
       " 'against': {'Royal Challengers Bangalore': {'bowler': 'RA Jadeja',\n",
       "   'innings': 27,\n",
       "   'wickets': 26,\n",
       "   'economy': 7.19,\n",
       "   'average': np.float64(24.62),\n",
       "   'strikeRate': np.float64(20.54),\n",
       "   'fours': 40,\n",
       "   'sixes': 25,\n",
       "   'best_figure': '3/15',\n",
       "   '3w': 4,\n",
       "   '4w': 0,\n",
       "   '5w': 0,\n",
       "   'mom': 3},\n",
       "  'Kings XI Punjab': {'bowler': 'RA Jadeja',\n",
       "   'innings': 18,\n",
       "   'wickets': 13,\n",
       "   'economy': 8.29,\n",
       "   'average': np.float64(35.69),\n",
       "   'strikeRate': np.float64(25.85),\n",
       "   'fours': 29,\n",
       "   'sixes': 20,\n",
       "   'best_figure': '3/22',\n",
       "   '3w': 1,\n",
       "   '4w': 0,\n",
       "   '5w': 0,\n",
       "   'mom': 0},\n",
       "  'Delhi Daredevils': {'bowler': 'RA Jadeja',\n",
       "   'innings': 17,\n",
       "   'wickets': 9,\n",
       "   'economy': 7.41,\n",
       "   'average': np.float64(36.11),\n",
       "   'strikeRate': np.float64(29.22),\n",
       "   'fours': 21,\n",
       "   'sixes': 12,\n",
       "   'best_figure': '2/18',\n",
       "   '3w': 0,\n",
       "   '4w': 0,\n",
       "   '5w': 0,\n",
       "   'mom': 0},\n",
       "  'Mumbai Indians': {'bowler': 'RA Jadeja',\n",
       "   'innings': 31,\n",
       "   'wickets': 20,\n",
       "   'economy': 8.57,\n",
       "   'average': np.float64(35.55),\n",
       "   'strikeRate': np.float64(24.9),\n",
       "   'fours': 53,\n",
       "   'sixes': 33,\n",
       "   'best_figure': '3/29',\n",
       "   '3w': 3,\n",
       "   '4w': 0,\n",
       "   '5w': 0,\n",
       "   'mom': 1},\n",
       "  'Kolkata Knight Riders': {'bowler': 'RA Jadeja',\n",
       "   'innings': 27,\n",
       "   'wickets': 22,\n",
       "   'economy': 7.36,\n",
       "   'average': np.float64(27.77),\n",
       "   'strikeRate': np.float64(22.64),\n",
       "   'fours': 41,\n",
       "   'sixes': 24,\n",
       "   'best_figure': '4/12',\n",
       "   '3w': 3,\n",
       "   '4w': 1,\n",
       "   '5w': 0,\n",
       "   'mom': 4},\n",
       "  'Rajasthan Royals': {'bowler': 'RA Jadeja',\n",
       "   'innings': 21,\n",
       "   'wickets': 21,\n",
       "   'economy': 7.25,\n",
       "   'average': np.float64(22.33),\n",
       "   'strikeRate': np.float64(18.48),\n",
       "   'fours': 20,\n",
       "   'sixes': 20,\n",
       "   'best_figure': '4/33',\n",
       "   '3w': 2,\n",
       "   '4w': 2,\n",
       "   '5w': 0,\n",
       "   'mom': 3},\n",
       "  'Deccan Chargers': {'bowler': 'RA Jadeja',\n",
       "   'innings': 5,\n",
       "   'wickets': 8,\n",
       "   'economy': 6.33,\n",
       "   'average': np.float64(14.25),\n",
       "   'strikeRate': np.float64(13.5),\n",
       "   'fours': 5,\n",
       "   'sixes': 5,\n",
       "   'best_figure': '5/16',\n",
       "   '3w': 1,\n",
       "   '4w': 1,\n",
       "   '5w': 1,\n",
       "   'mom': 1},\n",
       "  'Chennai Super Kings': {'bowler': 'RA Jadeja',\n",
       "   'innings': 3,\n",
       "   'wickets': 2,\n",
       "   'economy': 7.36,\n",
       "   'average': np.float64(27.0),\n",
       "   'strikeRate': np.float64(22.0),\n",
       "   'fours': 2,\n",
       "   'sixes': 3,\n",
       "   'best_figure': '2/26',\n",
       "   '3w': 0,\n",
       "   '4w': 0,\n",
       "   '5w': 0,\n",
       "   'mom': 0},\n",
       "  'Kochi Tuskers Kerala': {},\n",
       "  'Pune Warriors': {'bowler': 'RA Jadeja',\n",
       "   'innings': 4,\n",
       "   'wickets': 3,\n",
       "   'economy': 6.38,\n",
       "   'average': np.float64(34.0),\n",
       "   'strikeRate': np.float64(32.0),\n",
       "   'fours': 5,\n",
       "   'sixes': 4,\n",
       "   'best_figure': '1/28',\n",
       "   '3w': 0,\n",
       "   '4w': 0,\n",
       "   '5w': 0,\n",
       "   'mom': 0},\n",
       "  'Sunrisers Hyderabad': {'bowler': 'RA Jadeja',\n",
       "   'innings': 23,\n",
       "   'wickets': 9,\n",
       "   'economy': 7.19,\n",
       "   'average': np.float64(53.89),\n",
       "   'strikeRate': np.float64(45.0),\n",
       "   'fours': 24,\n",
       "   'sixes': 17,\n",
       "   'best_figure': '3/22',\n",
       "   '3w': 1,\n",
       "   '4w': 0,\n",
       "   '5w': 0,\n",
       "   'mom': 2},\n",
       "  'Gujarat Lions': {},\n",
       "  'Rising Pune Supergiants': {'bowler': 'RA Jadeja',\n",
       "   'innings': 2,\n",
       "   'wickets': 2,\n",
       "   'economy': 6.88,\n",
       "   'average': np.float64(27.5),\n",
       "   'strikeRate': np.float64(24.0),\n",
       "   'fours': 0,\n",
       "   'sixes': 4,\n",
       "   'best_figure': '2/18',\n",
       "   '3w': 0,\n",
       "   '4w': 0,\n",
       "   '5w': 0,\n",
       "   'mom': 0},\n",
       "  'Rising Pune Supergiant': {'bowler': 'RA Jadeja',\n",
       "   'innings': 2,\n",
       "   'wickets': 1,\n",
       "   'economy': 9.83,\n",
       "   'average': np.float64(59.0),\n",
       "   'strikeRate': np.float64(36.0),\n",
       "   'fours': 4,\n",
       "   'sixes': 4,\n",
       "   'best_figure': '1/40',\n",
       "   '3w': 0,\n",
       "   '4w': 0,\n",
       "   '5w': 0,\n",
       "   'mom': 0},\n",
       "  'Delhi Capitals': {'bowler': 'RA Jadeja',\n",
       "   'innings': 11,\n",
       "   'wickets': 12,\n",
       "   'economy': 8.5,\n",
       "   'average': np.float64(26.08),\n",
       "   'strikeRate': np.float64(18.42),\n",
       "   'fours': 19,\n",
       "   'sixes': 16,\n",
       "   'best_figure': '3/9',\n",
       "   '3w': 1,\n",
       "   '4w': 0,\n",
       "   '5w': 0,\n",
       "   'mom': 1},\n",
       "  'Punjab Kings': {'bowler': 'RA Jadeja',\n",
       "   'innings': 7,\n",
       "   'wickets': 6,\n",
       "   'economy': 7.0,\n",
       "   'average': np.float64(25.67),\n",
       "   'strikeRate': np.float64(22.0),\n",
       "   'fours': 8,\n",
       "   'sixes': 7,\n",
       "   'best_figure': '3/20',\n",
       "   '3w': 1,\n",
       "   '4w': 0,\n",
       "   '5w': 0,\n",
       "   'mom': 1},\n",
       "  'Lucknow Super Giants': {'bowler': 'RA Jadeja',\n",
       "   'innings': 5,\n",
       "   'wickets': 1,\n",
       "   'economy': 8.55,\n",
       "   'average': np.float64(94.0),\n",
       "   'strikeRate': np.float64(66.0),\n",
       "   'fours': 6,\n",
       "   'sixes': 4,\n",
       "   'best_figure': '1/11',\n",
       "   '3w': 0,\n",
       "   '4w': 0,\n",
       "   '5w': 0,\n",
       "   'mom': 0},\n",
       "  'Gujarat Titans': {'bowler': 'RA Jadeja',\n",
       "   'innings': 6,\n",
       "   'wickets': 5,\n",
       "   'economy': 8.05,\n",
       "   'average': np.float64(30.6),\n",
       "   'strikeRate': np.float64(22.8),\n",
       "   'fours': 10,\n",
       "   'sixes': 6,\n",
       "   'best_figure': '2/18',\n",
       "   '3w': 0,\n",
       "   '4w': 0,\n",
       "   '5w': 0,\n",
       "   'mom': 0},\n",
       "  'Royal Challengers Bengaluru': {'bowler': 'RA Jadeja',\n",
       "   'innings': 2,\n",
       "   'wickets': 0,\n",
       "   'economy': 8.71,\n",
       "   'average': nan,\n",
       "   'strikeRate': nan,\n",
       "   'fours': 3,\n",
       "   'sixes': 3,\n",
       "   'best_figure': '0/21',\n",
       "   '3w': 0,\n",
       "   '4w': 0,\n",
       "   '5w': 0,\n",
       "   'mom': 0}}}"
      ]
     },
     "execution_count": 174,
     "metadata": {},
     "output_type": "execute_result"
    }
   ],
   "source": [
    "bowler_record('RA Jadeja')"
   ]
  },
  {
   "cell_type": "markdown",
   "id": "dd170b6c",
   "metadata": {
    "papermill": {
     "duration": 0.042711,
     "end_time": "2025-04-06T11:42:17.334376",
     "exception": false,
     "start_time": "2025-04-06T11:42:17.291665",
     "status": "completed"
    },
    "tags": []
   },
   "source": [
    "<a id=\"Title\"></a>\n",
    "## <div style=\"text-align: center; background-color: #2E8B57; color: white; padding: 8px; font-size: 20px; font-family: 'Arial', sans-serif; font-weight: bold; border-radius: 10px; box-shadow: 1px 2px 8px rgba(0, 0, 0, 0.15); width: 90%; margin: auto;\"><b>Bowler Against Teams</b></div>"
   ]
  },
  {
   "cell_type": "code",
   "execution_count": 62,
   "id": "e3b6610d",
   "metadata": {
    "execution": {
     "iopub.execute_input": "2025-04-06T11:42:17.422164Z",
     "iopub.status.busy": "2025-04-06T11:42:17.421762Z",
     "iopub.status.idle": "2025-04-06T11:42:17.426016Z",
     "shell.execute_reply": "2025-04-06T11:42:17.425103Z"
    },
    "papermill": {
     "duration": 0.049674,
     "end_time": "2025-04-06T11:42:17.427441",
     "exception": false,
     "start_time": "2025-04-06T11:42:17.377767",
     "status": "completed"
    },
    "tags": []
   },
   "outputs": [],
   "source": [
    "def bowler_vs_team(bowler,team):\n",
    "    temp_df = bowler_data[bowler_data['batting_team'] == team]\n",
    "    return get_bowler_statistics(bowler,temp_df)"
   ]
  },
  {
   "cell_type": "code",
   "execution_count": 63,
   "id": "00824159",
   "metadata": {
    "execution": {
     "iopub.execute_input": "2025-04-06T11:42:17.514799Z",
     "iopub.status.busy": "2025-04-06T11:42:17.514452Z",
     "iopub.status.idle": "2025-04-06T11:42:17.557461Z",
     "shell.execute_reply": "2025-04-06T11:42:17.556341Z"
    },
    "papermill": {
     "duration": 0.088696,
     "end_time": "2025-04-06T11:42:17.559155",
     "exception": false,
     "start_time": "2025-04-06T11:42:17.470459",
     "status": "completed"
    },
    "tags": []
   },
   "outputs": [
    {
     "data": {
      "text/plain": [
       "{'bowler': 'RA Jadeja',\n",
       " 'innings': 27,\n",
       " 'wickets': np.int64(26),\n",
       " 'economy': np.float64(7.19),\n",
       " 'average': np.float64(24.62),\n",
       " 'strikeRate': np.float64(20.54),\n",
       " 'fours': np.int64(40),\n",
       " 'sixes': np.int64(25),\n",
       " 'best_figure': '3/15',\n",
       " '3w': np.int64(4),\n",
       " '4w': np.int64(0),\n",
       " '5w': np.int64(0),\n",
       " 'mom': 3}"
      ]
     },
     "execution_count": 63,
     "metadata": {},
     "output_type": "execute_result"
    }
   ],
   "source": [
    "bowler_vs_team('RA Jadeja','Royal Challengers Bangalore')"
   ]
  },
  {
   "cell_type": "markdown",
   "id": "c553dffa",
   "metadata": {
    "papermill": {
     "duration": 0.043439,
     "end_time": "2025-04-06T11:42:17.645967",
     "exception": false,
     "start_time": "2025-04-06T11:42:17.602528",
     "status": "completed"
    },
    "tags": []
   },
   "source": [
    "<a id=\"Title\"></a>\n",
    "## <div style=\"text-align: center; background-color: #2E8B57; color: white; padding: 8px; font-size: 20px; font-family: 'Arial', sans-serif; font-weight: bold; border-radius: 10px; box-shadow: 1px 2px 8px rgba(0, 0, 0, 0.15); width: 90%; margin: auto;\"><b>Bowler Vs Bowler</b></div>"
   ]
  },
  {
   "cell_type": "code",
   "execution_count": 64,
   "id": "f9886f77",
   "metadata": {
    "execution": {
     "iopub.execute_input": "2025-04-06T11:42:17.735287Z",
     "iopub.status.busy": "2025-04-06T11:42:17.734884Z",
     "iopub.status.idle": "2025-04-06T11:42:17.739411Z",
     "shell.execute_reply": "2025-04-06T11:42:17.738572Z"
    },
    "papermill": {
     "duration": 0.051704,
     "end_time": "2025-04-06T11:42:17.740874",
     "exception": false,
     "start_time": "2025-04-06T11:42:17.689170",
     "status": "completed"
    },
    "tags": []
   },
   "outputs": [],
   "source": [
    "def bowler_vs_bowler(bowler1, bowler2):\n",
    "    # Fetch statistics for both bowlers\n",
    "    bowler1_stats = get_bowler_statistics(bowler1, bowler_data)\n",
    "    bowler2_stats = get_bowler_statistics(bowler2, bowler_data)\n",
    "\n",
    "    # Return a dictionary comparing both bowlers\n",
    "    return {\n",
    "        bowler1: bowler1_stats if bowler1_stats else {},\n",
    "        bowler2: bowler2_stats if bowler2_stats else {}\n",
    "    }\n"
   ]
  },
  {
   "cell_type": "code",
   "execution_count": 65,
   "id": "b9522dda",
   "metadata": {
    "execution": {
     "iopub.execute_input": "2025-04-06T11:42:17.830550Z",
     "iopub.status.busy": "2025-04-06T11:42:17.830193Z",
     "iopub.status.idle": "2025-04-06T11:42:17.895777Z",
     "shell.execute_reply": "2025-04-06T11:42:17.894625Z"
    },
    "papermill": {
     "duration": 0.112699,
     "end_time": "2025-04-06T11:42:17.897698",
     "exception": false,
     "start_time": "2025-04-06T11:42:17.784999",
     "status": "completed"
    },
    "tags": []
   },
   "outputs": [
    {
     "data": {
      "text/plain": [
       "{'JJ Bumrah': {'bowler': 'JJ Bumrah',\n",
       "  'innings': 133,\n",
       "  'wickets': np.int64(168),\n",
       "  'economy': np.float64(7.3),\n",
       "  'average': np.float64(22.28),\n",
       "  'strikeRate': np.float64(18.3),\n",
       "  'fours': np.int64(336),\n",
       "  'sixes': np.int64(112),\n",
       "  'best_figure': '5/29',\n",
       "  '3w': np.int64(24),\n",
       "  '4w': np.int64(5),\n",
       "  '5w': np.int64(3),\n",
       "  'mom': 10},\n",
       " 'RA Jadeja': {'bowler': 'RA Jadeja',\n",
       "  'innings': 211,\n",
       "  'wickets': np.int64(160),\n",
       "  'economy': np.float64(7.62),\n",
       "  'average': np.float64(30.4),\n",
       "  'strikeRate': np.float64(23.93),\n",
       "  'fours': np.int64(290),\n",
       "  'sixes': np.int64(207),\n",
       "  'best_figure': '5/16',\n",
       "  '3w': np.int64(17),\n",
       "  '4w': np.int64(4),\n",
       "  '5w': np.int64(1),\n",
       "  'mom': 16}}"
      ]
     },
     "execution_count": 65,
     "metadata": {},
     "output_type": "execute_result"
    }
   ],
   "source": [
    "bowler_vs_bowler('JJ Bumrah','RA Jadeja')"
   ]
  },
  {
   "cell_type": "markdown",
   "id": "1d1844b1",
   "metadata": {
    "papermill": {
     "duration": 0.043519,
     "end_time": "2025-04-06T11:42:17.985574",
     "exception": false,
     "start_time": "2025-04-06T11:42:17.942055",
     "status": "completed"
    },
    "tags": []
   },
   "source": [
    "<a id=\"Title\"></a>\n",
    "## <div style=\"text-align: center; background-color: #2E8B57; color: white; padding: 8px; font-size: 20px; font-family: 'Arial', sans-serif; font-weight: bold; border-radius: 10px; box-shadow: 1px 2px 8px rgba(0, 0, 0, 0.15); width: 90%; margin: auto;\"><b>Top 10 Bowlers</b></div>"
   ]
  },
  {
   "cell_type": "code",
   "execution_count": 66,
   "id": "893f38bb",
   "metadata": {
    "execution": {
     "iopub.execute_input": "2025-04-06T11:42:18.078431Z",
     "iopub.status.busy": "2025-04-06T11:42:18.078084Z",
     "iopub.status.idle": "2025-04-06T11:42:18.239133Z",
     "shell.execute_reply": "2025-04-06T11:42:18.238117Z"
    },
    "papermill": {
     "duration": 0.209807,
     "end_time": "2025-04-06T11:42:18.240787",
     "exception": false,
     "start_time": "2025-04-06T11:42:18.030980",
     "status": "completed"
    },
    "tags": []
   },
   "outputs": [
    {
     "data": {
      "text/html": [
       "<style type=\"text/css\">\n",
       "#T_0db8e thead th {\n",
       "  background-color: #1F2A40;\n",
       "  color: white;\n",
       "  font-size: 14px;\n",
       "  font-weight: bold;\n",
       "  padding: 12px;\n",
       "  text-align: center;\n",
       "  border: 2px solid #1F2A40;\n",
       "}\n",
       "#T_0db8e td {\n",
       "  border: 1px solid #ddd;\n",
       "  padding: 10px;\n",
       "  text-align: center;\n",
       "  font-size: 13px;\n",
       "  color: #333;\n",
       "}\n",
       "#T_0db8e tbody tr:nth-child(odd) {\n",
       "  background-color: #f5f5f5;\n",
       "}\n",
       "#T_0db8e tbody tr:nth-child(even) {\n",
       "  background-color: #ffffff;\n",
       "}\n",
       "#T_0db8e tbody tr:hover {\n",
       "  background-color: #e3e6ea;\n",
       "}\n",
       "</style>\n",
       "<table id=\"T_0db8e\" style=\"margin-left:auto; margin-right:auto; border-collapse: collapse; width: 95%; box-shadow: 2px 2px 12px rgba(0, 0, 0, 0.1);\">\n",
       "  <thead>\n",
       "    <tr>\n",
       "      <th id=\"T_0db8e_level0_col0\" class=\"col_heading level0 col0\" >bowler</th>\n",
       "      <th id=\"T_0db8e_level0_col1\" class=\"col_heading level0 col1\" >total_wickets</th>\n",
       "      <th id=\"T_0db8e_level0_col2\" class=\"col_heading level0 col2\" >total_runs_conceded</th>\n",
       "      <th id=\"T_0db8e_level0_col3\" class=\"col_heading level0 col3\" >total_overs</th>\n",
       "      <th id=\"T_0db8e_level0_col4\" class=\"col_heading level0 col4\" >bowling_average</th>\n",
       "      <th id=\"T_0db8e_level0_col5\" class=\"col_heading level0 col5\" >economy_rate</th>\n",
       "      <th id=\"T_0db8e_level0_col6\" class=\"col_heading level0 col6\" >strike_rate</th>\n",
       "    </tr>\n",
       "  </thead>\n",
       "  <tbody>\n",
       "    <tr>\n",
       "      <td id=\"T_0db8e_row0_col0\" class=\"data row0 col0\" >YS Chahal</td>\n",
       "      <td id=\"T_0db8e_row0_col1\" class=\"data row0 col1\" >205.000000</td>\n",
       "      <td id=\"T_0db8e_row0_col2\" class=\"data row0 col2\" >4681</td>\n",
       "      <td id=\"T_0db8e_row0_col3\" class=\"data row0 col3\" >588.200000</td>\n",
       "      <td id=\"T_0db8e_row0_col4\" class=\"data row0 col4\" >22.834146</td>\n",
       "      <td id=\"T_0db8e_row0_col5\" class=\"data row0 col5\" >7.958177</td>\n",
       "      <td id=\"T_0db8e_row0_col6\" class=\"data row0 col6\" >17.219512</td>\n",
       "    </tr>\n",
       "    <tr>\n",
       "      <td id=\"T_0db8e_row1_col0\" class=\"data row1 col0\" >PP Chawla</td>\n",
       "      <td id=\"T_0db8e_row1_col1\" class=\"data row1 col1\" >192.000000</td>\n",
       "      <td id=\"T_0db8e_row1_col2\" class=\"data row1 col2\" >5179</td>\n",
       "      <td id=\"T_0db8e_row1_col3\" class=\"data row1 col3\" >642.000000</td>\n",
       "      <td id=\"T_0db8e_row1_col4\" class=\"data row1 col4\" >26.973958</td>\n",
       "      <td id=\"T_0db8e_row1_col5\" class=\"data row1 col5\" >8.066978</td>\n",
       "      <td id=\"T_0db8e_row1_col6\" class=\"data row1 col6\" >20.062500</td>\n",
       "    </tr>\n",
       "    <tr>\n",
       "      <td id=\"T_0db8e_row2_col0\" class=\"data row2 col0\" >DJ Bravo</td>\n",
       "      <td id=\"T_0db8e_row2_col1\" class=\"data row2 col1\" >183.000000</td>\n",
       "      <td id=\"T_0db8e_row2_col2\" class=\"data row2 col2\" >4436</td>\n",
       "      <td id=\"T_0db8e_row2_col3\" class=\"data row2 col3\" >521.300000</td>\n",
       "      <td id=\"T_0db8e_row2_col4\" class=\"data row2 col4\" >24.240437</td>\n",
       "      <td id=\"T_0db8e_row2_col5\" class=\"data row2 col5\" >8.509495</td>\n",
       "      <td id=\"T_0db8e_row2_col6\" class=\"data row2 col6\" >17.098361</td>\n",
       "    </tr>\n",
       "    <tr>\n",
       "      <td id=\"T_0db8e_row3_col0\" class=\"data row3 col0\" >B Kumar</td>\n",
       "      <td id=\"T_0db8e_row3_col1\" class=\"data row3 col1\" >181.000000</td>\n",
       "      <td id=\"T_0db8e_row3_col2\" class=\"data row3 col2\" >5051</td>\n",
       "      <td id=\"T_0db8e_row3_col3\" class=\"data row3 col3\" >653.400000</td>\n",
       "      <td id=\"T_0db8e_row3_col4\" class=\"data row3 col4\" >27.906077</td>\n",
       "      <td id=\"T_0db8e_row3_col5\" class=\"data row3 col5\" >7.730334</td>\n",
       "      <td id=\"T_0db8e_row3_col6\" class=\"data row3 col6\" >21.668508</td>\n",
       "    </tr>\n",
       "    <tr>\n",
       "      <td id=\"T_0db8e_row4_col0\" class=\"data row4 col0\" >R Ashwin</td>\n",
       "      <td id=\"T_0db8e_row4_col1\" class=\"data row4 col1\" >180.000000</td>\n",
       "      <td id=\"T_0db8e_row4_col2\" class=\"data row4 col2\" >5435</td>\n",
       "      <td id=\"T_0db8e_row4_col3\" class=\"data row4 col3\" >754.400000</td>\n",
       "      <td id=\"T_0db8e_row4_col4\" class=\"data row4 col4\" >30.194444</td>\n",
       "      <td id=\"T_0db8e_row4_col5\" class=\"data row4 col5\" >7.204401</td>\n",
       "      <td id=\"T_0db8e_row4_col6\" class=\"data row4 col6\" >25.155556</td>\n",
       "    </tr>\n",
       "    <tr>\n",
       "      <td id=\"T_0db8e_row5_col0\" class=\"data row5 col0\" >SP Narine</td>\n",
       "      <td id=\"T_0db8e_row5_col1\" class=\"data row5 col1\" >180.000000</td>\n",
       "      <td id=\"T_0db8e_row5_col2\" class=\"data row5 col2\" >4672</td>\n",
       "      <td id=\"T_0db8e_row5_col3\" class=\"data row5 col3\" >680.500000</td>\n",
       "      <td id=\"T_0db8e_row5_col4\" class=\"data row5 col4\" >25.955556</td>\n",
       "      <td id=\"T_0db8e_row5_col5\" class=\"data row5 col5\" >6.865540</td>\n",
       "      <td id=\"T_0db8e_row5_col6\" class=\"data row5 col6\" >22.694444</td>\n",
       "    </tr>\n",
       "    <tr>\n",
       "      <td id=\"T_0db8e_row6_col0\" class=\"data row6 col0\" >A Mishra</td>\n",
       "      <td id=\"T_0db8e_row6_col1\" class=\"data row6 col1\" >174.000000</td>\n",
       "      <td id=\"T_0db8e_row6_col2\" class=\"data row6 col2\" >4193</td>\n",
       "      <td id=\"T_0db8e_row6_col3\" class=\"data row6 col3\" >565.200000</td>\n",
       "      <td id=\"T_0db8e_row6_col4\" class=\"data row6 col4\" >24.097701</td>\n",
       "      <td id=\"T_0db8e_row6_col5\" class=\"data row6 col5\" >7.418613</td>\n",
       "      <td id=\"T_0db8e_row6_col6\" class=\"data row6 col6\" >19.494253</td>\n",
       "    </tr>\n",
       "    <tr>\n",
       "      <td id=\"T_0db8e_row7_col0\" class=\"data row7 col0\" >SL Malinga</td>\n",
       "      <td id=\"T_0db8e_row7_col1\" class=\"data row7 col1\" >170.000000</td>\n",
       "      <td id=\"T_0db8e_row7_col2\" class=\"data row7 col2\" >3486</td>\n",
       "      <td id=\"T_0db8e_row7_col3\" class=\"data row7 col3\" >474.200000</td>\n",
       "      <td id=\"T_0db8e_row7_col4\" class=\"data row7 col4\" >20.505882</td>\n",
       "      <td id=\"T_0db8e_row7_col5\" class=\"data row7 col5\" >7.351329</td>\n",
       "      <td id=\"T_0db8e_row7_col6\" class=\"data row7 col6\" >16.741176</td>\n",
       "    </tr>\n",
       "    <tr>\n",
       "      <td id=\"T_0db8e_row8_col0\" class=\"data row8 col0\" >JJ Bumrah</td>\n",
       "      <td id=\"T_0db8e_row8_col1\" class=\"data row8 col1\" >168.000000</td>\n",
       "      <td id=\"T_0db8e_row8_col2\" class=\"data row8 col2\" >3840</td>\n",
       "      <td id=\"T_0db8e_row8_col3\" class=\"data row8 col3\" >518.000000</td>\n",
       "      <td id=\"T_0db8e_row8_col4\" class=\"data row8 col4\" >22.857143</td>\n",
       "      <td id=\"T_0db8e_row8_col5\" class=\"data row8 col5\" >7.413127</td>\n",
       "      <td id=\"T_0db8e_row8_col6\" class=\"data row8 col6\" >18.500000</td>\n",
       "    </tr>\n",
       "    <tr>\n",
       "      <td id=\"T_0db8e_row9_col0\" class=\"data row9 col0\" >RA Jadeja</td>\n",
       "      <td id=\"T_0db8e_row9_col1\" class=\"data row9 col1\" >160.000000</td>\n",
       "      <td id=\"T_0db8e_row9_col2\" class=\"data row9 col2\" >4917</td>\n",
       "      <td id=\"T_0db8e_row9_col3\" class=\"data row9 col3\" >639.000000</td>\n",
       "      <td id=\"T_0db8e_row9_col4\" class=\"data row9 col4\" >30.731250</td>\n",
       "      <td id=\"T_0db8e_row9_col5\" class=\"data row9 col5\" >7.694836</td>\n",
       "      <td id=\"T_0db8e_row9_col6\" class=\"data row9 col6\" >23.962500</td>\n",
       "    </tr>\n",
       "  </tbody>\n",
       "</table>\n"
      ],
      "text/plain": [
       "<pandas.io.formats.style.Styler at 0x13d9ba4d0>"
      ]
     },
     "execution_count": 66,
     "metadata": {},
     "output_type": "execute_result"
    }
   ],
   "source": [
    "import pandas as pd\n",
    "\n",
    "# Filter only wicket-taking deliveries\n",
    "wicket_data = merged_df[merged_df['is_wicket'] == 1]\n",
    "\n",
    "# Exclude run outs, as they are not credited to bowlers\n",
    "valid_dismissals = [\"bowled\", \"caught\", \"lbw\", \"stumped\", \"caught and bowled\", \"hit wicket\"]\n",
    "wicket_data = wicket_data[wicket_data['dismissal_kind'].isin(valid_dismissals)]\n",
    "\n",
    "import pandas as pd\n",
    "import numpy as np\n",
    "\n",
    "# Filter only deliveries where a ball was bowled\n",
    "valid_balls = merged_df[merged_df['extras_type'] != 'wides']\n",
    "\n",
    "# Count total balls bowled by each bowler\n",
    "balls_bowled = valid_balls.groupby('bowler')['ball'].count().reset_index()\n",
    "balls_bowled.columns = ['bowler', 'total_balls']\n",
    "\n",
    "# Calculate total overs bowled\n",
    "balls_bowled['total_overs'] = balls_bowled['total_balls'] // 6 + (balls_bowled['total_balls'] % 6) / 10  # Convert balls to overs properly\n",
    "\n",
    "# Get total runs conceded by each bowler\n",
    "runs_conceded = merged_df.groupby('bowler')['total_runs'].sum().reset_index()\n",
    "runs_conceded.columns = ['bowler', 'total_runs_conceded']\n",
    "\n",
    "# Get only legitimate wickets (excluding run-outs)\n",
    "wicket_data = merged_df[merged_df['is_wicket'] == 1]\n",
    "valid_dismissals = [\"bowled\", \"caught\", \"lbw\", \"stumped\", \"caught and bowled\", \"hit wicket\"]\n",
    "wickets_taken = wicket_data[wicket_data['dismissal_kind'].isin(valid_dismissals)].groupby(\"bowler\")['is_wicket'].count().reset_index()\n",
    "wickets_taken.columns = ['bowler', 'total_wickets']\n",
    "\n",
    "# Merge all stats\n",
    "bowler_stats = balls_bowled.merge(runs_conceded, on=\"bowler\", how=\"left\").merge(wickets_taken, on=\"bowler\", how=\"left\").fillna(0)\n",
    "\n",
    "# Calculate bowling metrics\n",
    "bowler_stats['bowling_average'] = np.where(bowler_stats['total_wickets'] > 0, bowler_stats['total_runs_conceded'] / bowler_stats['total_wickets'], np.nan)\n",
    "bowler_stats['economy_rate'] = np.where(bowler_stats['total_overs'] > 0, bowler_stats['total_runs_conceded'] / bowler_stats['total_overs'], np.nan)\n",
    "bowler_stats['strike_rate'] = np.where(bowler_stats['total_wickets'] > 0, bowler_stats['total_balls'] / bowler_stats['total_wickets'], np.nan)\n",
    "\n",
    "# Get top 10 bowlers by wickets\n",
    "top_10_bowlers = bowler_stats.sort_values(by=\"total_wickets\", ascending=False).head(10)\n",
    "\n",
    "# Select relevant columns\n",
    "top_10_bowlers = top_10_bowlers[['bowler', 'total_wickets', 'total_runs_conceded', 'total_overs', 'bowling_average', 'economy_rate', 'strike_rate']]\n",
    "\n",
    "\n",
    "style_dataframe(top_10_bowlers)\n"
   ]
  },
  {
   "cell_type": "markdown",
   "id": "cf3445f2",
   "metadata": {
    "papermill": {
     "duration": 0.044022,
     "end_time": "2025-04-06T11:42:18.328765",
     "exception": false,
     "start_time": "2025-04-06T11:42:18.284743",
     "status": "completed"
    },
    "tags": []
   },
   "source": [
    "<a id=\"Title\"></a>\n",
    "## <div style=\"text-align: center; background-color: #2E8B57; color: white; padding: 8px; font-size: 20px; font-family: 'Arial', sans-serif; font-weight: bold; border-radius: 10px; box-shadow: 1px 2px 8px rgba(0, 0, 0, 0.15); width: 90%; margin: auto;\"><b>Most wickets by bowlers</b></div>"
   ]
  },
  {
   "cell_type": "code",
   "execution_count": 67,
   "id": "c024d288",
   "metadata": {
    "execution": {
     "iopub.execute_input": "2025-04-06T11:42:18.421571Z",
     "iopub.status.busy": "2025-04-06T11:42:18.421157Z",
     "iopub.status.idle": "2025-04-06T11:42:18.430829Z",
     "shell.execute_reply": "2025-04-06T11:42:18.429771Z"
    },
    "papermill": {
     "duration": 0.057574,
     "end_time": "2025-04-06T11:42:18.432454",
     "exception": false,
     "start_time": "2025-04-06T11:42:18.374880",
     "status": "completed"
    },
    "tags": []
   },
   "outputs": [
    {
     "data": {
      "text/html": [
       "<style type=\"text/css\">\n",
       "#T_9e47f thead th {\n",
       "  background-color: #1F2A40;\n",
       "  color: white;\n",
       "  font-size: 14px;\n",
       "  font-weight: bold;\n",
       "  padding: 12px;\n",
       "  text-align: center;\n",
       "  border: 2px solid #1F2A40;\n",
       "}\n",
       "#T_9e47f td {\n",
       "  border: 1px solid #ddd;\n",
       "  padding: 10px;\n",
       "  text-align: center;\n",
       "  font-size: 13px;\n",
       "  color: #333;\n",
       "}\n",
       "#T_9e47f tbody tr:nth-child(odd) {\n",
       "  background-color: #f5f5f5;\n",
       "}\n",
       "#T_9e47f tbody tr:nth-child(even) {\n",
       "  background-color: #ffffff;\n",
       "}\n",
       "#T_9e47f tbody tr:hover {\n",
       "  background-color: #e3e6ea;\n",
       "}\n",
       "</style>\n",
       "<table id=\"T_9e47f\" style=\"margin-left:auto; margin-right:auto; border-collapse: collapse; width: 95%; box-shadow: 2px 2px 12px rgba(0, 0, 0, 0.1);\">\n",
       "  <thead>\n",
       "    <tr>\n",
       "      <th id=\"T_9e47f_level0_col0\" class=\"col_heading level0 col0\" >bowler</th>\n",
       "      <th id=\"T_9e47f_level0_col1\" class=\"col_heading level0 col1\" >total_wickets</th>\n",
       "    </tr>\n",
       "  </thead>\n",
       "  <tbody>\n",
       "    <tr>\n",
       "      <td id=\"T_9e47f_row0_col0\" class=\"data row0 col0\" >YS Chahal</td>\n",
       "      <td id=\"T_9e47f_row0_col1\" class=\"data row0 col1\" >205.000000</td>\n",
       "    </tr>\n",
       "    <tr>\n",
       "      <td id=\"T_9e47f_row1_col0\" class=\"data row1 col0\" >PP Chawla</td>\n",
       "      <td id=\"T_9e47f_row1_col1\" class=\"data row1 col1\" >192.000000</td>\n",
       "    </tr>\n",
       "    <tr>\n",
       "      <td id=\"T_9e47f_row2_col0\" class=\"data row2 col0\" >DJ Bravo</td>\n",
       "      <td id=\"T_9e47f_row2_col1\" class=\"data row2 col1\" >183.000000</td>\n",
       "    </tr>\n",
       "    <tr>\n",
       "      <td id=\"T_9e47f_row3_col0\" class=\"data row3 col0\" >B Kumar</td>\n",
       "      <td id=\"T_9e47f_row3_col1\" class=\"data row3 col1\" >181.000000</td>\n",
       "    </tr>\n",
       "    <tr>\n",
       "      <td id=\"T_9e47f_row4_col0\" class=\"data row4 col0\" >R Ashwin</td>\n",
       "      <td id=\"T_9e47f_row4_col1\" class=\"data row4 col1\" >180.000000</td>\n",
       "    </tr>\n",
       "    <tr>\n",
       "      <td id=\"T_9e47f_row5_col0\" class=\"data row5 col0\" >SP Narine</td>\n",
       "      <td id=\"T_9e47f_row5_col1\" class=\"data row5 col1\" >180.000000</td>\n",
       "    </tr>\n",
       "    <tr>\n",
       "      <td id=\"T_9e47f_row6_col0\" class=\"data row6 col0\" >A Mishra</td>\n",
       "      <td id=\"T_9e47f_row6_col1\" class=\"data row6 col1\" >174.000000</td>\n",
       "    </tr>\n",
       "    <tr>\n",
       "      <td id=\"T_9e47f_row7_col0\" class=\"data row7 col0\" >SL Malinga</td>\n",
       "      <td id=\"T_9e47f_row7_col1\" class=\"data row7 col1\" >170.000000</td>\n",
       "    </tr>\n",
       "    <tr>\n",
       "      <td id=\"T_9e47f_row8_col0\" class=\"data row8 col0\" >JJ Bumrah</td>\n",
       "      <td id=\"T_9e47f_row8_col1\" class=\"data row8 col1\" >168.000000</td>\n",
       "    </tr>\n",
       "    <tr>\n",
       "      <td id=\"T_9e47f_row9_col0\" class=\"data row9 col0\" >RA Jadeja</td>\n",
       "      <td id=\"T_9e47f_row9_col1\" class=\"data row9 col1\" >160.000000</td>\n",
       "    </tr>\n",
       "  </tbody>\n",
       "</table>\n"
      ],
      "text/plain": [
       "<pandas.io.formats.style.Styler at 0x12fe1c2b0>"
      ]
     },
     "execution_count": 67,
     "metadata": {},
     "output_type": "execute_result"
    }
   ],
   "source": [
    "style_dataframe(top_10_bowlers[['bowler','total_wickets']])"
   ]
  },
  {
   "cell_type": "code",
   "execution_count": 183,
   "id": "d844e378",
   "metadata": {
    "execution": {
     "iopub.execute_input": "2025-04-06T11:42:19.020099Z",
     "iopub.status.busy": "2025-04-06T11:42:19.019713Z",
     "iopub.status.idle": "2025-04-06T11:42:19.734220Z",
     "shell.execute_reply": "2025-04-06T11:42:19.733100Z"
    },
    "papermill": {
     "duration": 0.765528,
     "end_time": "2025-04-06T11:42:19.736277",
     "exception": false,
     "start_time": "2025-04-06T11:42:18.970749",
     "status": "completed"
    },
    "tags": []
   },
   "outputs": [
    {
     "data": {
      "image/png": "[encoded data removed]",
      "text/plain": [
       "<Figure size 1200x600 with 1 Axes>"
      ]
     },
     "metadata": {},
     "output_type": "display_data"
    }
   ],
   "source": [
    "import matplotlib.pyplot as plt\n",
    "import seaborn as sns\n",
    "import pandas as pd\n",
    "\n",
    "def bowler_growth(bowler_name, df):\n",
    "    # Filter for first and second innings\n",
    "    df_filtered = df[df.inning.isin([1, 2])].copy()\n",
    "    \n",
    "    # Filter for the given bowler\n",
    "    df_filtered = df_filtered[df_filtered['bowler'] == bowler_name]\n",
    "    \n",
    "    # Group by season and sum total wickets\n",
    "    df_grouped = df_filtered.groupby(['season'], as_index=False)['is_wicket'].sum()\n",
    "\n",
    "    # Check if the bowler has data\n",
    "    if df_grouped.empty:\n",
    "        print(f\"No data found for {bowler_name}\")\n",
    "        return\n",
    "\n",
    "    # Apply seaborn theme\n",
    "    sns.set_theme(style=\"whitegrid\")\n",
    "    \n",
    "    # Create the figure\n",
    "    plt.figure(figsize=(12, 6))\n",
    "\n",
    "    # Create line plot with area fill\n",
    "    plt.plot(df_grouped['season'], df_grouped['is_wicket'], \n",
    "             marker=\"o\", color=\"purple\", linewidth=2.5, \n",
    "             markersize=8, markeredgecolor='black', markerfacecolor='purple', label=bowler_name)\n",
    "    plt.fill_between(df_grouped['season'], df_grouped['is_wicket'], color=\"mediumpurple\", alpha=0.3)\n",
    "\n",
    "    # Labels & Title\n",
    "    plt.xlabel(\"Season\", fontsize=12, fontweight='bold', color=\"darkblue\")\n",
    "    plt.ylabel(\"Total Wickets\", fontsize=12, fontweight='bold', color=\"darkblue\")\n",
    "    plt.title(f\"{bowler_name}'s Performance Over IPL Seasons\", fontsize=14, fontweight=\"bold\", color=\"navy\")\n",
    "\n",
    "    # Customizing X & Y ticks\n",
    "    plt.xticks(df_grouped['season'].unique(), rotation=45, ha=\"right\", fontsize=10)\n",
    "    plt.yticks(fontsize=10)\n",
    "\n",
    "    # Add legend\n",
    "    plt.legend(fontsize=11, loc=\"upper left\", frameon=True)\n",
    "\n",
    "    # Grid and border tweaks\n",
    "    plt.grid(True, linestyle=\"--\", alpha=0.5)\n",
    "    sns.despine(left=True, bottom=True)\n",
    "\n",
    "    # Show the final plot\n",
    "    plt.show()\n",
    "\n",
    "# Example Usage\n",
    "bowler_growth(\"Kuldeep Yadav\", merged_df)"
   ]
  },
  {
   "cell_type": "code",
   "execution_count": 205,
   "id": "5317966f",
   "metadata": {},
   "outputs": [
    {
     "data": {
      "image/png": "[encoded data removed]",
      "text/plain": [
       "<Figure size 1200x600 with 1 Axes>"
      ]
     },
     "metadata": {},
     "output_type": "display_data"
    }
   ],
   "source": [
    "# Example Usage\n",
    "bowler_growth(\"YS Chahal\", merged_df)"
   ]
  },
  {
   "cell_type": "code",
   "execution_count": 184,
   "id": "c5e9f69b",
   "metadata": {
    "execution": {
     "iopub.execute_input": "2025-04-06T11:42:20.785750Z",
     "iopub.status.busy": "2025-04-06T11:42:20.785399Z",
     "iopub.status.idle": "2025-04-06T11:42:20.794672Z",
     "shell.execute_reply": "2025-04-06T11:42:20.793680Z"
    },
    "papermill": {
     "duration": 0.063153,
     "end_time": "2025-04-06T11:42:20.796140",
     "exception": false,
     "start_time": "2025-04-06T11:42:20.732987",
     "status": "completed"
    },
    "tags": []
   },
   "outputs": [],
   "source": [
    "def season_stats(year, team_name=None, player_name=None):\n",
    "    # Mapping for special season formats\n",
    "    season_mapping = {\"2008\": \"2007/08\", \"2010\": \"2009/10\", \"2020\": \"2020/21\", \"2021\": \"2020/21\"}\n",
    "    season_year = season_mapping.get(str(year), str(year))\n",
    "\n",
    "    # Filter batting and bowling data for the given season\n",
    "    season_df = merged_df[merged_df['season'].astype(str) == season_year]\n",
    "    season_bowling_df = bowler_data[bowler_data['season'].astype(str) == season_year]\n",
    "\n",
    "    # Apply team filter if provided\n",
    "    if team_name:\n",
    "        season_df = season_df[(season_df['batting_team'] == team_name) | (season_df['bowling_team'] == team_name)]\n",
    "        season_bowling_df = season_bowling_df[season_bowling_df['bowling_team'] == team_name]\n",
    "\n",
    "    # Apply player filter if provided\n",
    "    if player_name:\n",
    "        season_df = season_df[season_df['batter'] == player_name]\n",
    "        season_bowling_df = season_bowling_df[season_bowling_df['bowler'] == player_name]\n",
    "\n",
    "    # Check if any data is available\n",
    "    if season_df.empty and season_bowling_df.empty:\n",
    "        return {\"message\": \"No data available for the given filters\"}\n",
    "\n",
    "    # Only calculate team performance if no player_name is provided\n",
    "    team_performance = []\n",
    "    if not player_name:\n",
    "        team_performance = season_df.groupby('batting_team').agg(\n",
    "            matches=('match_id', 'nunique'),\n",
    "            total_runs=('total_runs', 'sum'),\n",
    "            total_wickets=('is_wicket', 'sum')\n",
    "        ).reset_index().to_dict(orient=\"records\")\n",
    "\n",
    "    # Player performance stats (Batting)\n",
    "    top_batsmen = season_df.groupby('batter').agg(\n",
    "        runs=('batsman_runs', 'sum'),\n",
    "        balls=('batsman_runs', 'count')\n",
    "    ).reset_index()\n",
    "    top_batsmen['strike_rate'] = (top_batsmen['runs'] / top_batsmen['balls']) * 100\n",
    "    top_batsman = top_batsmen.sort_values(by='runs', ascending=False).iloc[0].to_dict() if not top_batsmen.empty else {}\n",
    "\n",
    "    # Player performance stats (Bowling)\n",
    "    top_bowlers = season_bowling_df.groupby('bowler').agg(\n",
    "        wickets=('isBowlerWicket', 'sum'),\n",
    "        runs_given=('bowler_run', 'sum'),\n",
    "        balls=('ball', 'count')\n",
    "    ).reset_index()\n",
    "    top_bowlers['economy'] = top_bowlers['runs_given'] / (top_bowlers['balls'] / 6)\n",
    "    top_bowler = top_bowlers.sort_values(by='wickets', ascending=False).iloc[0].to_dict() if not top_bowlers.empty else {}\n",
    "\n",
    "    # Final response\n",
    "    return {\n",
    "        \"season\": year,\n",
    "        \"team_performance\": team_performance,  # ✅ Now it's empty if a player is specified\n",
    "        \"top_batsman\": top_batsman,\n",
    "        \"top_bowler\": top_bowler\n",
    "    }\n"
   ]
  },
  {
   "cell_type": "code",
   "execution_count": 178,
   "id": "15a66f91",
   "metadata": {
    "execution": {
     "iopub.execute_input": "2025-04-06T11:42:20.900392Z",
     "iopub.status.busy": "2025-04-06T11:42:20.900039Z",
     "iopub.status.idle": "2025-04-06T11:42:20.909038Z",
     "shell.execute_reply": "2025-04-06T11:42:20.908086Z"
    },
    "papermill": {
     "duration": 0.063626,
     "end_time": "2025-04-06T11:42:20.910550",
     "exception": false,
     "start_time": "2025-04-06T11:42:20.846924",
     "status": "completed"
    },
    "tags": []
   },
   "outputs": [],
   "source": [
    "import numpy as np\n",
    "\n",
    "def season_stats(year, team_name=None, player_name=None):\n",
    "    # Mapping for special season formats\n",
    "    season_mapping = {\"2008\": \"2007/08\", \"2010\": \"2009/10\", \"2020\": \"2020/21\", \"2021\": \"2020/21\"}\n",
    "    season_year = season_mapping.get(str(year), str(year))\n",
    "\n",
    "    # Filter batting and bowling data for the given season\n",
    "    season_df = merged_df[merged_df['season'].astype(str) == season_year]\n",
    "    season_bowling_df = bowler_data[bowler_data['season'].astype(str) == season_year]\n",
    "\n",
    "    # Apply team filter if provided\n",
    "    if team_name:\n",
    "        season_df = season_df[(season_df['batting_team'] == team_name) | (season_df['bowling_team'] == team_name)]\n",
    "        season_bowling_df = season_bowling_df[season_bowling_df['bowling_team'] == team_name]\n",
    "\n",
    "    # Apply player filter if provided\n",
    "    if player_name:\n",
    "        season_df = season_df[season_df['batter'] == player_name]\n",
    "        season_bowling_df = season_bowling_df[season_bowling_df['bowler'] == player_name]\n",
    "\n",
    "    # Check if any data is available\n",
    "    if season_df.empty and season_bowling_df.empty:\n",
    "        return {\"message\": \"No data available for the given filters\"}\n",
    "\n",
    "    # Team Performance (If no player or team name is provided)\n",
    "    team_performance = []\n",
    "    if not player_name and not team_name:\n",
    "        team_performance = season_df.groupby('batting_team').agg(\n",
    "            matches=('match_id', 'nunique'),\n",
    "            total_runs=('total_runs', 'sum'),\n",
    "            total_wickets=('is_wicket', 'sum')\n",
    "        ).reset_index().to_dict(orient=\"records\")\n",
    "\n",
    "    # Get top batsman\n",
    "    top_batsmen = season_df.groupby('batter').agg(runs=('batsman_runs', 'sum')).reset_index()\n",
    "    top_batsman_name = top_batsmen.sort_values(by='runs', ascending=False).iloc[0]['batter'] if not top_batsmen.empty else None\n",
    "\n",
    "    # Get top bowler\n",
    "    top_bowlers = season_bowling_df.groupby('bowler').agg(wickets=('isBowlerWicket', 'sum')).reset_index()\n",
    "    top_bowler_name = top_bowlers.sort_values(by='wickets', ascending=False).iloc[0]['bowler'] if not top_bowlers.empty else None\n",
    "\n",
    "    # Get detailed stats using functions\n",
    "    top_batsman_stats = get_batsman_statistics(top_batsman_name, season_df) if top_batsman_name else {}\n",
    "    top_bowler_stats = get_bowler_statistics(top_bowler_name, season_bowling_df) if top_bowler_name else {}\n",
    "\n",
    "    # Final response\n",
    "    return {\n",
    "        \"season\": year,\n",
    "        \"team_performance\": team_performance,\n",
    "        \"top_batsman\": top_batsman_stats,\n",
    "        \"top_bowler\": top_bowler_stats\n",
    "    }\n"
   ]
  },
  {
   "cell_type": "code",
   "execution_count": 176,
   "id": "1b27db17",
   "metadata": {
    "execution": {
     "iopub.execute_input": "2025-04-06T11:42:21.014084Z",
     "iopub.status.busy": "2025-04-06T11:42:21.013688Z",
     "iopub.status.idle": "2025-04-06T11:42:21.115891Z",
     "shell.execute_reply": "2025-04-06T11:42:21.114848Z"
    },
    "papermill": {
     "duration": 0.155883,
     "end_time": "2025-04-06T11:42:21.117688",
     "exception": false,
     "start_time": "2025-04-06T11:42:20.961805",
     "status": "completed"
    },
    "tags": []
   },
   "outputs": [
    {
     "data": {
      "text/plain": [
       "{'season': '2024',\n",
       " 'team_performance': [{'batting_team': 'Chennai Super Kings',\n",
       "   'matches': 14,\n",
       "   'total_runs': 2524,\n",
       "   'total_wickets': 77},\n",
       "  {'batting_team': 'Delhi Capitals',\n",
       "   'matches': 14,\n",
       "   'total_runs': 2573,\n",
       "   'total_wickets': 94},\n",
       "  {'batting_team': 'Gujarat Titans',\n",
       "   'matches': 12,\n",
       "   'total_runs': 2040,\n",
       "   'total_wickets': 79},\n",
       "  {'batting_team': 'Kolkata Knight Riders',\n",
       "   'matches': 14,\n",
       "   'total_runs': 2667,\n",
       "   'total_wickets': 76},\n",
       "  {'batting_team': 'Lucknow Super Giants',\n",
       "   'matches': 14,\n",
       "   'total_runs': 2483,\n",
       "   'total_wickets': 84},\n",
       "  {'batting_team': 'Mumbai Indians',\n",
       "   'matches': 14,\n",
       "   'total_runs': 2568,\n",
       "   'total_wickets': 96},\n",
       "  {'batting_team': 'Punjab Kings',\n",
       "   'matches': 14,\n",
       "   'total_runs': 2487,\n",
       "   'total_wickets': 92},\n",
       "  {'batting_team': 'Rajasthan Royals',\n",
       "   'matches': 15,\n",
       "   'total_runs': 2647,\n",
       "   'total_wickets': 81},\n",
       "  {'batting_team': 'Royal Challengers Bengaluru',\n",
       "   'matches': 15,\n",
       "   'total_runs': 2930,\n",
       "   'total_wickets': 99},\n",
       "  {'batting_team': 'Sunrisers Hyderabad',\n",
       "   'matches': 16,\n",
       "   'total_runs': 3052,\n",
       "   'total_wickets': 105}],\n",
       " 'top_batsman': {'player_name': 'V Kohli',\n",
       "  'total_innings': 15,\n",
       "  'total_runs': 741,\n",
       "  'total_fours': 62,\n",
       "  'total_sixes': 38,\n",
       "  'batting_average': 57.0,\n",
       "  'strike_rate': 154.7,\n",
       "  'total_fifties': 5,\n",
       "  'total_centuries': 1,\n",
       "  'highest_score': 113,\n",
       "  'not_outs': 2,\n",
       "  'player_of_the_match_awards': 2},\n",
       " 'top_bowler': {'bowler': 'HV Patel',\n",
       "  'innings': 14,\n",
       "  'wickets': 24,\n",
       "  'economy': 9.73,\n",
       "  'average': np.float64(19.88),\n",
       "  'strikeRate': np.float64(12.25),\n",
       "  'fours': 41,\n",
       "  'sixes': 18,\n",
       "  'best_figure': '3/31',\n",
       "  '3w': 4,\n",
       "  '4w': 0,\n",
       "  '5w': 0,\n",
       "  'mom': 0}}"
      ]
     },
     "execution_count": 176,
     "metadata": {},
     "output_type": "execute_result"
    }
   ],
   "source": [
    "season_stats('2024')"
   ]
  },
  {
   "cell_type": "markdown",
   "id": "c1cf43bf",
   "metadata": {
    "papermill": {
     "duration": 0.054007,
     "end_time": "2025-04-06T11:42:21.223958",
     "exception": false,
     "start_time": "2025-04-06T11:42:21.169951",
     "status": "completed"
    },
    "tags": []
   },
   "source": [
    "<a id=\"Title\"></a>\n",
    "# <div style=\"text-align: center;background-color: #2E8B57;color: white;padding: 12px;font-size: 28px;font-family: 'Arial', sans-serif;font-weight: bold;border-radius: 12px;box-shadow: 2px 4px 10px rgba(0, 0, 0, 0.2);width: 95%;margin: auto;\"><b>Winning Probability of Two Teams</b></div>"
   ]
  },
  {
   "cell_type": "code",
   "execution_count": 74,
   "id": "4a1900c4",
   "metadata": {
    "execution": {
     "iopub.execute_input": "2025-04-06T11:42:21.330689Z",
     "iopub.status.busy": "2025-04-06T11:42:21.330356Z",
     "iopub.status.idle": "2025-04-06T11:42:21.548192Z",
     "shell.execute_reply": "2025-04-06T11:42:21.546925Z"
    },
    "papermill": {
     "duration": 0.273352,
     "end_time": "2025-04-06T11:42:21.549945",
     "exception": false,
     "start_time": "2025-04-06T11:42:21.276593",
     "status": "completed"
    },
    "tags": []
   },
   "outputs": [
    {
     "data": {
      "text/plain": [
       "{'Mumbai Indians': 37.45, 'Chennai Super Kings': 62.55}"
      ]
     },
     "execution_count": 74,
     "metadata": {},
     "output_type": "execute_result"
    }
   ],
   "source": [
    "def winning_probability(team1, team2, match_data):\n",
    "    # Get head-to-head stats\n",
    "    team1_wins = match_data[(match_data['winner'] == team1) & \n",
    "                            ((match_data['team1'] == team2) | (match_data['team2'] == team2))].shape[0]\n",
    "    total_matches = match_data[((match_data['team1'] == team1) & (match_data['team2'] == team2)) |\n",
    "                               ((match_data['team1'] == team2) & (match_data['team2'] == team1))].shape[0]\n",
    "    \n",
    "    head_to_head_win_rate = (team1_wins / total_matches) * 100 if total_matches > 0 else 50  # Default 50% if no history\n",
    "    \n",
    "    # Get recent form (Last 5 matches)\n",
    "    recent_matches = match_data[(match_data['team1'] == team1) | (match_data['team2'] == team1)].tail(5)\n",
    "    recent_wins = recent_matches[recent_matches['winner'] == team1].shape[0]\n",
    "    recent_form_win_rate = (recent_wins / 5) * 100 if not recent_matches.empty else 50  # Default 50% if no recent data\n",
    "    \n",
    "    # Weighted probability calculation\n",
    "    final_win_probability = (0.7 * head_to_head_win_rate) + (0.3 * recent_form_win_rate)\n",
    "    \n",
    "    return {\n",
    "        team1: round(final_win_probability, 2),\n",
    "        team2: round(100 - final_win_probability, 2)\n",
    "    }\n",
    "\n",
    "# Example Usage:\n",
    "winning_probability(\"Mumbai Indians\", \"Chennai Super Kings\", merged_df)\n"
   ]
  }
 ],
 "metadata": {
  "kaggle": {
   "accelerator": "none",
   "dataSources": [
    {
     "datasetId": 990900,
     "sourceId": 8637500,
     "sourceType": "datasetVersion"
    }
   ],
   "dockerImageVersionId": 30886,
   "isGpuEnabled": false,
   "isInternetEnabled": false,
   "language": "python",
   "sourceType": "notebook"
  },
  "kernelspec": {
   "display_name": "Python 3 (ipykernel)",
   "language": "python",
   "name": "python3"
  },
  "language_info": {
   "codemirror_mode": {
    "name": "ipython",
    "version": 3
   },
   "file_extension": ".py",
   "mimetype": "text/x-python",
   "name": "python",
   "nbconvert_exporter": "python",
   "pygments_lexer": "ipython3",
   "version": "3.10.10"
  },
  "papermill": {
   "default_parameters": {},
   "duration": 30.534676,
   "end_time": "2025-04-06T11:42:22.424573",
   "environment_variables": {},
   "exception": null,
   "input_path": "__notebook__.ipynb",
   "output_path": "__notebook__.ipynb",
   "parameters": {},
   "start_time": "2025-04-06T11:41:51.889897",
   "version": "2.6.0"
  }
 },
 "nbformat": 4,
 "nbformat_minor": 5
}
